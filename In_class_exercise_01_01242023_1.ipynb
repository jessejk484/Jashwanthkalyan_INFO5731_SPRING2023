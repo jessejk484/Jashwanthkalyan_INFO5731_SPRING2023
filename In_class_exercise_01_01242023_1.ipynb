{
  "cells": [
    {
      "cell_type": "markdown",
      "metadata": {
        "id": "view-in-github",
        "colab_type": "text"
      },
      "source": [
        "<a href=\"https://colab.research.google.com/github/jessejk484/Jashwanthkalyan_INFO5731_SPRING2023/blob/main/In_class_exercise_01_01242023_1.ipynb\" target=\"_parent\"><img src=\"https://colab.research.google.com/assets/colab-badge.svg\" alt=\"Open In Colab\"/></a>"
      ]
    },
    {
      "cell_type": "markdown",
      "metadata": {
        "id": "DymRJbxDBCnf"
      },
      "source": [
        "# **The first In-class-exercise (01/24/2023, 40 points in total)**"
      ]
    },
    {
      "cell_type": "markdown",
      "metadata": {
        "id": "03jb4GZsBkBS"
      },
      "source": [
        "(1) Write a Python program to calculate the length of a string. (4 points)"
      ]
    },
    {
      "cell_type": "code",
      "execution_count": 111,
      "metadata": {
        "id": "YaGLbSHHB8Ej",
        "outputId": "69655b7c-f750-4103-bfbc-f835fc78af0a",
        "colab": {
          "base_uri": "https://localhost:8080/"
        }
      },
      "outputs": [
        {
          "output_type": "stream",
          "name": "stdout",
          "text": [
            "20\n"
          ]
        }
      ],
      "source": [
        "# write your answer here\n",
        "str1 = \"Hello! I'm Jashwanth\"\n",
        "print(len(str1))\n"
      ]
    },
    {
      "cell_type": "markdown",
      "metadata": {
        "id": "jJDe71iLB616"
      },
      "source": [
        "(2) Write a Python program to count the number of characters in a string. (4 points)\n",
        "\n",
        "Sample String : 'google.com‘, \n",
        "\n",
        "Expected Result : {'o': 3, 'g': 2, '.': 1, 'e': 1, 'l': 1, 'm': 1, 'c': 1}"
      ]
    },
    {
      "cell_type": "code",
      "execution_count": 112,
      "metadata": {
        "colab": {
          "base_uri": "https://localhost:8080/"
        },
        "id": "MtKskTzbCLaU",
        "outputId": "ca5e08cb-b445-46b5-bc75-03d11c86a7c7"
      },
      "outputs": [
        {
          "output_type": "stream",
          "name": "stdout",
          "text": [
            "{'o': 3, 'g': 2, 'l': 1, 'e': 1, '.': 1, 'c': 1, 'm': 1}\n"
          ]
        }
      ],
      "source": [
        "# write your answer here\n",
        "str1 = \"google.com\"\n",
        "test = {}\n",
        " \n",
        "for i in str1:\n",
        "    if i in test:\n",
        "        test[i] += 1\n",
        "    else:\n",
        "        test[i] = 1\n",
        "        \n",
        "print(dict(sorted(test.items(),key=lambda i:i[1],reverse=True)))\n",
        "\n",
        "    "
      ]
    },
    {
      "cell_type": "markdown",
      "metadata": {
        "id": "55W9AMdXCSpV"
      },
      "source": [
        "(3) Write a Python program to sum all the items in a list. (4 points)"
      ]
    },
    {
      "cell_type": "code",
      "execution_count": 113,
      "metadata": {
        "id": "I57NXsauCec2",
        "colab": {
          "base_uri": "https://localhost:8080/"
        },
        "outputId": "8bdff812-e84b-443b-9baa-248cc852de48"
      },
      "outputs": [
        {
          "output_type": "stream",
          "name": "stdout",
          "text": [
            "Enter number of items: 4\n",
            "Enter: 1\n",
            "Enter: 6\n",
            "Enter: 84\n",
            "Enter: 0\n",
            "91\n"
          ]
        }
      ],
      "source": [
        "# write your answer here\n",
        "data=[]\n",
        "n=int(input(\"Enter number of items: \"))\n",
        "for i in range(n):\n",
        "  v=int(input(\"Enter: \"))\n",
        "  data.append(v)\n",
        "print(sum(data))"
      ]
    },
    {
      "cell_type": "markdown",
      "metadata": {
        "id": "4ulBZ6yhCi9F"
      },
      "source": [
        "(4) Write a Python program to get a string from a given string where all occurrences of its first char have been changed to '\\$', except the first char itself. (4 points)\n",
        "\n",
        "Sample String : 'restart‘, \n",
        "\n",
        "Expected Result : 'resta\\$t'"
      ]
    },
    {
      "cell_type": "code",
      "source": [
        "# write your answer here\n",
        "test_string='restart'\n",
        "print(\"Sample String:\"+str(test_string))\n",
        "v='$'\n",
        "result=test_string[0] + test_string[1:].replace(test_string[0], v)\n",
        "print(\"Expected Result:\"+str(result))"
      ],
      "metadata": {
        "colab": {
          "base_uri": "https://localhost:8080/"
        },
        "id": "VMzT7mhrmKal",
        "outputId": "eb297e02-a463-4d67-8a08-264204a5afc5"
      },
      "execution_count": 116,
      "outputs": [
        {
          "output_type": "stream",
          "name": "stdout",
          "text": [
            "Sample String:restart\n",
            "Expected Result:resta$t\n"
          ]
        }
      ]
    },
    {
      "cell_type": "markdown",
      "metadata": {
        "id": "_bIP7s1MCzue"
      },
      "source": [
        "(5) Write a program with python which could accept two parameter a and b to calculate and output the result of S, where \n",
        "\n",
        "$\\ S=3.14*(1+a/b)^3$ (4 points)\n",
        "\n"
      ]
    },
    {
      "cell_type": "code",
      "execution_count": 118,
      "metadata": {
        "id": "w79QilHXD3Mg",
        "colab": {
          "base_uri": "https://localhost:8080/"
        },
        "outputId": "5d7c1a6a-6bf4-4493-8952-0f61955d1610"
      },
      "outputs": [
        {
          "name": "stdout",
          "output_type": "stream",
          "text": [
            "Enter a: 1\n",
            "Enter b: 6\n"
          ]
        },
        {
          "output_type": "execute_result",
          "data": {
            "text/plain": [
              "4.986203703703705"
            ]
          },
          "metadata": {},
          "execution_count": 118
        }
      ],
      "source": [
        "# write your answer here\n",
        "a=float(input(\"Enter a: \"))\n",
        "b=float(input(\"Enter b: \"))\n",
        "s= 3.14*((1+a/b)**3)\n",
        "s\n"
      ]
    },
    {
      "cell_type": "markdown",
      "metadata": {
        "id": "xCa2bK9aD4Q3"
      },
      "source": [
        "6(6) Write a Python program to concatenate following dictionaries to create a new one. (4 points)\n",
        "\n",
        "Sample Dictionary : dic1={1:10, 2:20}, dic2={3:30, 4:40}, dic3={5:50,6:60}, \n",
        "\n",
        "Expected Result : {1: 10, 2: 20, 3: 30, 4: 40, 5: 50, 6: 60}\n"
      ]
    },
    {
      "cell_type": "code",
      "execution_count": 119,
      "metadata": {
        "id": "_z4aLqAbEET1",
        "colab": {
          "base_uri": "https://localhost:8080/"
        },
        "outputId": "8838ce0c-ffab-4e73-d1e5-174712e107d1"
      },
      "outputs": [
        {
          "output_type": "stream",
          "name": "stdout",
          "text": [
            "The concatenate dictionary is:{1: 10, 2: 20, 3: 30, 4: 40, 5: 50, 6: 60}\n"
          ]
        }
      ],
      "source": [
        "# write your answer here\n",
        "dic1={1:10, 2:20}\n",
        "dic2={3:30, 4:40}\n",
        "dic3={5:50,6:60}\n",
        "dic4 = {}\n",
        "for dic in (dic1, dic2, dic3): dic4.update(dic)\n",
        "print(\"The concatenate dictionary is:\"+str(dic4))"
      ]
    },
    {
      "cell_type": "markdown",
      "metadata": {
        "id": "0v48Vqa7FrQh"
      },
      "source": [
        "(7) Write a Python program to check whether an element exists within a tuple. (4 points)"
      ]
    },
    {
      "cell_type": "code",
      "execution_count": 120,
      "metadata": {
        "id": "7WEmgq-DF2P1",
        "colab": {
          "base_uri": "https://localhost:8080/"
        },
        "outputId": "e49ab583-4ae4-4bfe-b968-63830cf7e18f"
      },
      "outputs": [
        {
          "output_type": "stream",
          "name": "stdout",
          "text": [
            "False\n"
          ]
        }
      ],
      "source": [
        "# write your answer here\n",
        "tup1=('a','t','d','y',9,'z','j',3,'q',7,1)\n",
        "x='x'\n",
        "print(x in tup1)\n"
      ]
    },
    {
      "cell_type": "markdown",
      "metadata": {
        "id": "vD5PYLMuGga_"
      },
      "source": [
        "(8) Write a Python program to find maximum and the minimum value in a set. (4 points)"
      ]
    },
    {
      "cell_type": "code",
      "execution_count": 121,
      "metadata": {
        "id": "t0D5kdJUGjjw",
        "colab": {
          "base_uri": "https://localhost:8080/"
        },
        "outputId": "d23fd5a3-753c-49cb-bb4f-8d2f89a4491f"
      },
      "outputs": [
        {
          "output_type": "stream",
          "name": "stdout",
          "text": [
            "Maximum value in set is: 77\n",
            "Minimum value in set is: -2\n"
          ]
        }
      ],
      "source": [
        "# write your answer here\n",
        "set1 = set([10,43,3,77,-2,8])\n",
        "print(\"Maximum value in set is: \" +str(max(set1))+ \"\\nMinimum value in set is: \" +str(min(set1)))"
      ]
    },
    {
      "cell_type": "markdown",
      "metadata": {
        "id": "uHkd-y5VhVWC"
      },
      "source": [
        "(9) Write a Python program to randomly divide the students in this class into six groups for term projects, each group should have at least 4 students but no more than 6 students (including 6). Here is the students list: (4 points)\n",
        "\n",
        "studnet_list = ['ja0964','sa1198','sb1357','vb0218','sc1229','kg0569','kg0470','sg1297','bg0320','fh0141','jl1252','sk1386',\n",
        "           'ak0956','sk1390','sk1458','sk1313','ak0934','vm0377','nm0618','sm1640','sm1907','gn0108','pr0353','dr0609','ms1500','aos0040','ds0814', 'av0659','nv0234','hy0232']"
      ]
    },
    {
      "cell_type": "code",
      "execution_count": 122,
      "metadata": {
        "id": "3iGbmcOBhTwy",
        "colab": {
          "base_uri": "https://localhost:8080/"
        },
        "outputId": "e3fac039-41cf-4ee1-ec3f-941d398d306f"
      },
      "outputs": [
        {
          "output_type": "stream",
          "name": "stdout",
          "text": [
            "5\n",
            "30\n",
            "[['sm1640', 'gn0108', 'vb0218', 'nm0618', 'av0659'], ['sk1313', 'hy0232', 'kg0569', 'ds0814', 'nv0234'], ['bg0320', 'sa1198', 'fh0141', 'kg0470', 'aos0040'], ['sk1390', 'ak0956', 'pr0353', 'ms1500', 'sk1386'], ['sc1229', 'vm0377', 'sb1357', 'ak0934', 'dr0609'], ['sm1907', 'sk1458', 'ja0964', 'jl1252', 'sg1297']]\n"
          ]
        }
      ],
      "source": [
        "# write your answer here\n",
        "import random \n",
        "student_list =  ['ja0964','sa1198','sb1357','vb0218','sc1229','kg0569','kg0470','sg1297','bg0320','fh0141','jl1252','sk1386', 'ak0956','sk1390','sk1458','sk1313','ak0934','vm0377','nm0618','sm1640','sm1907','gn0108','pr0353','dr0609','ms1500','aos0040','ds0814', 'av0659','nv0234','hy0232']\n",
        "random.shuffle(student_list)\n",
        "div_stud_list=[]\n",
        "parts=len(student_list)//6\n",
        "print(parts)\n",
        "print(len(student_list))\n",
        "for i in range(0,len(student_list),parts):\n",
        "  if (i+parts)<len(student_list):\n",
        "    div_stud_list.append(student_list[i:i+parts])\n",
        "  else:\n",
        "    div_stud_list.append(student_list[i:])\n",
        "l = div_stud_list[6:]\n",
        "div_stud_list=div_stud_list[:6]\n",
        "\n",
        "for j in range(len(div_stud_list)):\n",
        "  for k in range(len(l)):\n",
        "    for m in range(len(l[k])):\n",
        "      if len(div_stud_list[j])<=5 and l[k][m]!=-1:\n",
        "        div_stud_list[j].append(l[k][m])\n",
        "        l[k][m]=-1\n",
        "print(div_stud_list)"
      ]
    },
    {
      "cell_type": "markdown",
      "metadata": {
        "id": "hH1Itc8Eu_iZ"
      },
      "source": [
        "(10) Write a Python program to find the duplicate elements in a given array of integers. Return -1 If there are no such elements. (4 points)"
      ]
    },
    {
      "cell_type": "code",
      "execution_count": null,
      "metadata": {
        "id": "O1f2wpNWu_iZ",
        "colab": {
          "base_uri": "https://localhost:8080/"
        },
        "outputId": "6b38a98c-7745-4c9b-ec89-eacb0d17c05b"
      },
      "outputs": [
        {
          "output_type": "stream",
          "name": "stdout",
          "text": [
            "3\n",
            "8\n",
            "-1\n"
          ]
        }
      ],
      "source": [
        "# write your answer here\n",
        "arr1 = [1, 3, 4, 2, 8, 3, -1, 7, 8, -5, -1]\n",
        "for i in range(0, len(arr1)):    \n",
        "    for j in range(i+1, len(arr1)):    \n",
        "        if(arr1[i] == arr1[j]):    \n",
        "            print(arr1[j]);"
      ]
    },
    {
      "cell_type": "markdown",
      "metadata": {
        "id": "95R04Kxxu_iZ"
      },
      "source": [
        "(11) Write a Python program to select all the Sundays of a specified year. (4 extra points)"
      ]
    },
    {
      "cell_type": "code",
      "execution_count": null,
      "metadata": {
        "id": "gciaLpf1u_iZ",
        "colab": {
          "base_uri": "https://localhost:8080/"
        },
        "outputId": "d0dc598c-4614-4057-bbd9-4969adbb5048"
      },
      "outputs": [
        {
          "output_type": "stream",
          "name": "stdout",
          "text": [
            "Enter the year: 2089\n",
            "Sunday,1-2-2089\n",
            "Sunday,1-9-2089\n",
            "Sunday,1-16-2089\n",
            "Sunday,1-23-2089\n",
            "Sunday,1-30-2089\n",
            "Sunday,2-6-2089\n",
            "Sunday,2-13-2089\n",
            "Sunday,2-20-2089\n",
            "Sunday,2-27-2089\n",
            "Sunday,3-6-2089\n",
            "Sunday,3-13-2089\n",
            "Sunday,3-20-2089\n",
            "Sunday,3-27-2089\n",
            "Sunday,4-3-2089\n",
            "Sunday,4-10-2089\n",
            "Sunday,4-17-2089\n",
            "Sunday,4-24-2089\n",
            "Sunday,5-1-2089\n",
            "Sunday,5-8-2089\n",
            "Sunday,5-15-2089\n",
            "Sunday,5-22-2089\n",
            "Sunday,5-29-2089\n",
            "Sunday,6-5-2089\n",
            "Sunday,6-12-2089\n",
            "Sunday,6-19-2089\n",
            "Sunday,6-26-2089\n",
            "Sunday,7-3-2089\n",
            "Sunday,7-10-2089\n",
            "Sunday,7-17-2089\n",
            "Sunday,7-24-2089\n",
            "Sunday,7-31-2089\n",
            "Sunday,8-7-2089\n",
            "Sunday,8-14-2089\n",
            "Sunday,8-21-2089\n",
            "Sunday,8-28-2089\n",
            "Sunday,9-4-2089\n",
            "Sunday,9-11-2089\n",
            "Sunday,9-18-2089\n",
            "Sunday,9-25-2089\n",
            "Sunday,10-2-2089\n",
            "Sunday,10-9-2089\n",
            "Sunday,10-16-2089\n",
            "Sunday,10-23-2089\n",
            "Sunday,10-30-2089\n",
            "Sunday,11-6-2089\n",
            "Sunday,11-13-2089\n",
            "Sunday,11-20-2089\n",
            "Sunday,11-27-2089\n",
            "Sunday,12-4-2089\n",
            "Sunday,12-11-2089\n",
            "Sunday,12-18-2089\n",
            "Sunday,12-25-2089\n"
          ]
        }
      ],
      "source": [
        "# write your answer here\n",
        "from datetime import date\n",
        "import calendar\n",
        "Year= int(input(\"Enter the year: \"))\n",
        "A=calendar.TextCalendar(calendar.SUNDAY)\n",
        "for month in range(1,13):\n",
        "    for days in A.itermonthdays(Year,month):\n",
        "        if days!=0:\n",
        "            day=date(Year,month,days)\n",
        "            if day.weekday()==6:\n",
        "                print(\"%s,%d-%d-%d\" % (calendar.day_name[6] ,month,days,Year))"
      ]
    },
    {
      "cell_type": "code",
      "source": [],
      "metadata": {
        "id": "sHrRTo2yVCZD"
      },
      "execution_count": null,
      "outputs": []
    }
  ],
  "metadata": {
    "colab": {
      "provenance": [],
      "include_colab_link": true
    },
    "kernelspec": {
      "display_name": "Python 3 (ipykernel)",
      "language": "python",
      "name": "python3"
    },
    "language_info": {
      "codemirror_mode": {
        "name": "ipython",
        "version": 3
      },
      "file_extension": ".py",
      "mimetype": "text/x-python",
      "name": "python",
      "nbconvert_exporter": "python",
      "pygments_lexer": "ipython3",
      "version": "3.9.13"
    }
  },
  "nbformat": 4,
  "nbformat_minor": 0
}