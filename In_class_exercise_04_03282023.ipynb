{
  "cells": [
    {
      "cell_type": "markdown",
      "metadata": {
        "id": "view-in-github",
        "colab_type": "text"
      },
      "source": [
        "<a href=\"https://colab.research.google.com/github/jessejk484/Jashwanthkalyan_INFO5731_SPRING2023/blob/main/In_class_exercise_04_03282023.ipynb\" target=\"_parent\"><img src=\"https://colab.research.google.com/assets/colab-badge.svg\" alt=\"Open In Colab\"/></a>"
      ]
    },
    {
      "cell_type": "markdown",
      "metadata": {
        "id": "ZO3KDxJ4XbZE"
      },
      "source": [
        "# **The fourth in-class-exercise (40 points in total, 03/28/2022)**"
      ]
    },
    {
      "cell_type": "markdown",
      "metadata": {
        "id": "tpgEIx40XbZF"
      },
      "source": [
        "Question description: Please use the text corpus you collected in your last in-class-exercise for this exercise. Perform the following tasks:"
      ]
    },
    {
      "cell_type": "markdown",
      "metadata": {
        "id": "JxXlR23UXbZF"
      },
      "source": [
        "## (1) (10 points) Generate K topics by using LDA, the number of topics K should be decided by the coherence score, then summarize what are the topics. You may refer the code here: \n",
        "\n",
        "https://www.machinelearningplus.com/nlp/topic-modeling-gensim-python/"
      ]
    },
    {
      "cell_type": "code",
      "execution_count": 231,
      "metadata": {
        "colab": {
          "base_uri": "https://localhost:8080/"
        },
        "id": "4MlhVd0UXbZG",
        "outputId": "67220fc4-1c9f-4e23-89b0-a55dbf538932"
      },
      "outputs": [
        {
          "output_type": "stream",
          "name": "stdout",
          "text": [
            "['For reference, here are my ratings for the other movies: Despicable Me - 9 '\n",
            " 'stars. Despicable Me 2 - 8 stars. Minions - 6 stars. Despicable Me 3 - 7 '\n",
            " 'stars.I am so pleasantly surprised that this is the best one since the '\n",
            " 'original. It fires on all cylinders: comedy, story, visuals, action scenes. '\n",
            " 'It starts out fast and never lets up. The movie flies by. And it has tons of '\n",
            " 'great new characters.This movie is absolutely hilarious. I was literally in '\n",
            " 'tears in some scenes. The minions are at their very best with so many '\n",
            " 'memorable moments. The story is surprisingly unpredictable and keeps you '\n",
            " 'invested. The visuals are stunningly beautiful. I was mesmerized. And the '\n",
            " 'action scenes are pretty epic, the best of the entire series.I had a blast '\n",
            " \"with this movie. It's definitely worth seeing on a premium screen, greatly \"\n",
            " \"enhancing the visuals and action scenes.P. S. I'm not sure what's up with \"\n",
            " 'all these sarcastic 10 star reviews. I assure you this is not one of them. '\n",
            " '(2 viewings, opening Thursday IMAX 6/30/2022, IMAX 7/6/2022)',\n",
            " \"'Minions: The Rise of Gru' follows 11 3/4 year old Gru (voiced by Steve \"\n",
            " 'Carrell) trying to make a name for himself and join the ranks of an elite '\n",
            " 'villians group, the Vicious 6. With humble beginnings as a troublemaker in '\n",
            " \"his mother's basement, the minions (voiced by Pierre Coffin) are determined \"\n",
            " 'to help him succeed in his mission.The film is a sort of origin story for '\n",
            " 'Gru, despite having elusions to his childhood in the 1st and 3rd movies. The '\n",
            " 'wacky and wonderful minions carry the film, but sadly, the plot seems '\n",
            " 'haphazard. The henchmen, Jean-Clawed (voice by Jean-Claude Van Damme), '\n",
            " 'Svengeance (voiced by Dolph Lundgren), and Stronghold (voiced by Danny '\n",
            " 'Trejo) all seem to be second-string compared to Belle Bottom (voiced by '\n",
            " 'Taraji P. Henson) and Wild Knuckles (voiced by Alan Arkin). The animation is '\n",
            " \"fairly standard of the earlier movies, the flow is solid, and the film's \"\n",
            " 'ending kind of makes sense, but the plot in general is a bit of a '\n",
            " 'hodgepodge.Worth a watch with the kids.',\n",
            " 'Going to watch \"future best animated picture winner\" Minions:Rise of Gru I '\n",
            " 'had high hopes. I was not however expected the experience that I had. The '\n",
            " 'Story was crisp and emotional, the animations though fake felt realer than '\n",
            " \"ever,I say this with no exaggeration.....IT WAS BETTER THAN MORBIUS. It's \"\n",
            " \"Morbin time...More like It's Minion Time.\",\n",
            " 'Its a fun movie. Minion scenes are more than Gru and thankfully so. The '\n",
            " 'chemistry between minions characters is epic. Love Kevin, Bob and '\n",
            " 'Stuart.There is no deep meaning or higher message, a simple carefree movie '\n",
            " 'which is supposed to be seen that way.',\n",
            " \"This movie has so many references to the sixties and seventies that I don't \"\n",
            " 'think people under twenty will understand the puns, innuendos and jokes. The '\n",
            " 'children in the theater will still laugh at the slapstick jokes.',\n",
            " \"I'm not sure why this movie doesn't have a higher rating, because i found it \"\n",
            " 'really enjoyable and much better than the first outing.Lets start with the '\n",
            " \"few negatives i have to say, because there aren't many. First the head \"\n",
            " 'female villain is a little annoying. Also there could do with a little bit '\n",
            " 'more emotion so we appreciate the humour even more. These things are '\n",
            " 'nitpicky though, as for the most part this is great fun.Lets now take it for '\n",
            " 'what it is; a comedy animation aimed mostly at kids. So, is it animated '\n",
            " \"well? Yes, it's one of the clearest most colourful animations i think i have \"\n",
            " \"ever seen. Is it funny? Yes, in fact it's very funny. I laughed many times \"\n",
            " \"throughout, proving you don't have to eve use proper words to be funny. Mr \"\n",
            " 'Bean is a prime example of that, and so here are the minions. Lastly will '\n",
            " 'kids get bored? Absolutely not. The story, (although with limited payout) '\n",
            " 'moves along at such a great pace, the movie felt really short and the '\n",
            " 'minions are so consistently funny, kids will never get tired of it and '\n",
            " 'actually neither will the big kids (adults).Finally i still maintain, there '\n",
            " 'is nothing cuter in this world than Bob and when he does his pleading face, '\n",
            " 'is like a puppy X100.A last though is that if they want to keep this '\n",
            " 'franchise alive though, i think they need to move onto shorts, because that '\n",
            " 'will it will stop it becoming too repetitive and boring.',\n",
            " 'In his world, Gru is the most powerful villain anyone has ever seen. But the '\n",
            " 'question is: how did he become this dominant force? Minions: The Rise of Gru '\n",
            " 'shows us the exciting story of 12-year old Gru and the path to his '\n",
            " 'villainous life. Both the familiar faces and the new characters come '\n",
            " 'together to make this make this film highly entertaining, yet '\n",
            " 'nostalgic.Minions: The Rise of Gru provides the backstory for how Gru (Steve '\n",
            " 'Carell) came to be the notorious villain he is today. After being rejected '\n",
            " 'as a replacement for Wild Knuckles (Alan Arkin) and failing to earn a '\n",
            " 'much-coveted spot in the supervillain group Vicious 6, Gru unexpectedly '\n",
            " \"finds himself on the run. As fate would have it, Gru's dream of being \"\n",
            " 'mentored by Wild Knuckles soon comes true, but not without Gru having to now '\n",
            " 'lean on Wild Knuckles and his minions to fight back against the Vicious '\n",
            " '6.The three main minions-Kevin, Stuart, and Bob-each have unique character '\n",
            " 'traits that make these films work. In Minions: The Rise of Gru, you can see '\n",
            " 'how each minion plays a different role in how Gru grows as a villain and as '\n",
            " 'a person. Kevin is the smart and responsible leader-he makes sure everything '\n",
            " 'is going according to plan. Stuart is the one who is always in touch with '\n",
            " 'reality, and makes sure the truth is known-he may seem uninterested, but '\n",
            " \"he's very helpful. Bob is the lighthearted and innocent soul who always \"\n",
            " 'tries to make the best out of a situation. Without all three of these '\n",
            " \"characters, this movie wouldn't be the same. There are many subtle \"\n",
            " 'references to the previous movies that add to the comedic tone, as well. For '\n",
            " 'instance, in the scene where Gru and Wild Knuckles attempt to rob the bank, '\n",
            " 'the bank president shows them an image of his grandson, who turns out to be '\n",
            " \"none other than the aspiring villain, Vector. Of course, young Gru isn't \"\n",
            " 'aware that Vector will play a big role in his future, but the audience '\n",
            " 'definitely is. These subtle references are what contribute to the nostalgic '\n",
            " \"feel we get from watching this film. And, of course, we can't forget about \"\n",
            " \"Gru's iconic wardrobe, which he's already wearing as a young kid.The message \"\n",
            " 'of Minions: The Rise of Gru is that everyone needs a little help sometimes. '\n",
            " \"Even though he doesn't realize it right away, Gru eventually recognizes that \"\n",
            " 'he needs help in order to be the successful villain he desires to '\n",
            " 'be.Minions: The Rise of Gru is such a fun movie to watch. The lovable '\n",
            " 'characters just make the audience continue to yearn for more. I give it 5 '\n",
            " 'out of 5 stars and recommend it for ages 5 to 12, though anyone can enjoy '\n",
            " 'this movie. Minions: The Rise of Gru releases in theaters on July 1, 2022. '\n",
            " 'Make sure you check it out! By Maica N., KIDS FIRST!',\n",
            " 'It may feel in total like this franchise is running out of steam, or at '\n",
            " 'least fresh and creative ideas- but Minions The Rise of Gru does manage to '\n",
            " 'be decently entertaining and charming enough to be worth at least a one time '\n",
            " 'watch. A lot of people, critics included, bash the 2015 film Minions for a '\n",
            " 'lack of a true plot among many other things- but in my personal opinion I '\n",
            " 'actually enjoyed the first minions movie and may even find it better than '\n",
            " 'this one. Although both films are flawed, Minions had a very clear although '\n",
            " 'frantic vision set in mind for ts characters- and never felt like a '\n",
            " 'combination of two completely different films like this one did. So what is '\n",
            " 'it about this film that makes it worth watching? Well the animation for one '\n",
            " 'is absolutely fantastic, gorgeous visuals that are easily the best to ever '\n",
            " \"come out of Illumination in their company's entire run. Kid Gru is also a \"\n",
            " \"fun and charming lead, and i'll be darned if the minions silly gags didn't \"\n",
            " 'charm me from time to time and even earn a chuckle or two (the airplane '\n",
            " 'scene most of all). Its plot is truly all over the place, much like the '\n",
            " 'first film, and its focus on characters feels very divided- as well as its '\n",
            " 'focus on future characters come to be in the franchise considering and '\n",
            " \"reminding the audience how this is a prequel- in case the 70's vibes \"\n",
            " \"wouldn't tell you otherwise. I don't know, its entertaining it has its \"\n",
            " 'moments and I found some fun in it. Its an uneven little flick but its use '\n",
            " 'of colorful visuals and fun characters make it decent enough for a pleasant '\n",
            " 'experience- and certainly trumps the third Despicable Me film and latest '\n",
            " \"franchise release before this one almost 5 years ago. It's hard to believe \"\n",
            " 'this franchise is still going, and how it still manages to propel itself '\n",
            " 'forward, but in this age of commercialization and franchises- Minions the '\n",
            " 'Rise of Gru can be more tolerable than most.My Rating: 6.2/10.',\n",
            " 'The reason The Rise of Gru feels like such a let down is because it lacks '\n",
            " \"creativity, there's not enough of minions, but there's not enough of the \"\n",
            " \"young Gru either. That's not to say it isn't a movie families with young \"\n",
            " \"children will have fun watching, but compared to this movie's predecessor \"\n",
            " 'and all the Despicable Me movies so far, The Rise of Gru is probably the '\n",
            " 'flattest of each of them.Directed by Kyle Balda from a story written and '\n",
            " 'co-thought by Matthew Fogel, this Minions movie brings back Steve Carrell to '\n",
            " 'voice the child-version of the \"superbad-superdad\" Gru and Pierre Coffin as '\n",
            " 'the minions to a setting during the 1970s and behind the Despicable Me '\n",
            " 'movies. If you are a Despicable Me fan or just appreciate the original '\n",
            " 'movies, this film offers a delightful set of hilarious references and other '\n",
            " \"jokes that'll have the whole family laughing. The typical requirements for \"\n",
            " 'animated movies such as voices, animation and other things all work out well '\n",
            " 'in this movie.However, for a Despicable Me prequel titled Minions: The Rise '\n",
            " 'of Gru, this film sure lacks a fair amount of time to laugh with the '\n",
            " \"minions, and the child Gru doesn't have enough of a story or motive behind \"\n",
            " 'him that keeps us fully appealed to the story. This film also follows the '\n",
            " 'predictable Despicable Me basis of having protagonists working with their '\n",
            " \"own lives, but then there's the threat by the villain/s. And this movies \"\n",
            " \"group of villains may be funny, but they're completely unoriginal, leading \"\n",
            " 'to the plot to be quite bland.If you liked this review, check out the full '\n",
            " 'review and other reviews at aussieboyreviews.',\n",
            " 'The latest from Illumination Studios is another adventure, actually a '\n",
            " 'prequel this time, as we follow how Gru, still voiced by Steve Carrell, '\n",
            " 'tries to get in the door to join the Vicious Six (voiced by Alan Arkin, '\n",
            " 'Taraji P. Henson, Jean Claude Van Damme, Lucy Lawless, Danny Trejo & Dolph '\n",
            " 'Lundrgren) after they have betrayed Arkin during a sacred stone heist. '\n",
            " 'Dismissing him as being too young & distracted by another potential try-out, '\n",
            " 'Gru manages to steal the stone sending the baddies on his tail but due to '\n",
            " 'one of the accompanying minions trading the stone out for a pet rock, the '\n",
            " 'race is on to get the rock back before the Vicious Six (really five at this '\n",
            " 'point!) get their collective mitts on it. Sure the film is threadbare '\n",
            " 'plotwise (being an excuse to have a bunch of minion antics running '\n",
            " 'throughout the story like socks on a laundry line) but the film is nothing '\n",
            " 'but fun & unlike the Shrek films which acted as an alternative to the Pixar '\n",
            " 'output, at least the Illumination team keeps pushing the envelope on '\n",
            " \"perfecting their visuals (standouts include the textures on the minions' \"\n",
            " \"goggles & Gru's realistic expressions when he's upset or challenged). \"\n",
            " \"Returning champs to the franchise include Julie Andrews as Gru's mom, \"\n",
            " \"Russell Brand as Mr. Nefario (he's not a doc yet) w/Michelle Yeoh as a kung \"\n",
            " 'fu master the minions get lessons from & the Rza as a biker who gives a '\n",
            " 'minion a much needed ride to San Francisco.',\n",
            " \"Just loved it, the whole time! There is no time to get bored at all, it's \"\n",
            " 'full of well-made action and really funny stuff, and the minions are truly '\n",
            " 'lovely.',\n",
            " \"Join Gru and the Minions in the sequel that's actually better than the \"\n",
            " \"first! It's fun for kids, teens, adults, and seniors! Let's make this film \"\n",
            " \"gross $1 trillion in the freaking box office, y'all!\",\n",
            " 'Minion: The Rise of GruWhat a disappointment this was, and quite frankly I '\n",
            " 'was bored from start to finish!Yet again the script writers have failed to '\n",
            " 'glean from the original movie what was the magical element that made this '\n",
            " 'franchise a success. Clearly is was the strength of story, brilliant and '\n",
            " 'inventive animation, and well drawn and memorable characters. Here the story '\n",
            " \"was tissue thin, Gru's family was all but missing, there was little reason \"\n",
            " 'for things to happen, and the animation was largely uninventive with just '\n",
            " 'repetition from earlier movies.What was key in the original movie what the '\n",
            " 'strong relationship ties between the characters, at best they were casual '\n",
            " 'acquaintances in this movie.Nobody liked it except the children who seem '\n",
            " 'mesmerised by the Minions, clearly easily pleased.For me this is a 5 outta '\n",
            " '10, barely a screensaver!',\n",
            " 'This is by far the best movie of the year! Id say it even competes with The '\n",
            " \"Godfather it's that amazing! The cinematography, the dialogue with the \"\n",
            " \"Minions and Gru, it's fantastic! This movie is an emotional roller coaster \"\n",
            " 'with genius directing. This is a must watch movie for all generations and I '\n",
            " 'highly recommend!',\n",
            " 'If you have kids and want to be like a kid. Go\\n'\n",
            " 'See this movie. Better yet, take a matinee show where you will be with other '\n",
            " 'kids.This movie has everything.From start to end, I loved the movie.And yes, '\n",
            " 'my kids loved it too.Make sure to take popcorn with you.What do you want to '\n",
            " 'be when you grow up?I want to be a super villain!',\n",
            " 'All trolling aside, this movie was very average and below average as far as '\n",
            " 'kids movies go. The animation is top notch but at this point the minions '\n",
            " 'pretty much have the same jokes in every movie. You know what to expect '\n",
            " \"here, there's nothing new. Kids will love it and parents will probably still \"\n",
            " 'hate it, although it might bring out a couple chuckles with some sly adult '\n",
            " 'jokes. The animation carries this film.',\n",
            " \"LIKES:The References: If you've read my reviews before, you'll know I'm a \"\n",
            " 'sucker for easter eggs and references to other genres of Hollywood. The '\n",
            " 'second installment of Minions was a delight in this avenue, loaded with nods '\n",
            " 'to various movies and their scenes that made them famous. From the opening '\n",
            " 'scene where we revisit Indiana Jones temple run to the Kung Fu movies that '\n",
            " 'made the 60s-80s so much fun, its these references that a movie goer like me '\n",
            " \"enjoys. It's enjoyable to see the dynamics unfold, and I loved taking a trip \"\n",
            " 'back into this twisted memory of videos I watched as a kid. I found this to '\n",
            " 'be a part adults will like, and a way to open up to other audiences past the '\n",
            " 'target age.The Voice Acting: Part of the fun of animated features is the '\n",
            " 'voice actors who make the cartons and CGI models come to life and add that '\n",
            " 'emotion. Minions: Rise of Gru is loaded with talent, pulling a wide variety '\n",
            " 'of voices that leads to fun characters and new voices for your little ones '\n",
            " 'to impersonate. The Vicious 6, the collective bunch of baddies has stellar '\n",
            " 'talent in the form of those iconic actors that seem to be background voices '\n",
            " 'like Dolph Lundgren, Danny Trejo, and Lucy Lawless are just some of the '\n",
            " 'voices that you will hear, and though not the most prominent, they still '\n",
            " 'have a great place in this film. Others like Taraji P. Henson and Michelle '\n",
            " 'Yeoh have bigger roles and get that sass factor you love in the characters '\n",
            " 'of this goofy world. And there are other characters reviving their parts '\n",
            " 'like Russell Brand and Julie Andrews who though short and sweet do it so '\n",
            " 'well. Yet the main voices are the top billed cast and they work the real '\n",
            " 'charm in this movie. Arkin as White Knuckle is pretty much playing his live '\n",
            " 'action roles in an animated form and it works as the jokes, threats, and '\n",
            " 'warming moments feel genuine and caustic like the old age jokes he often is '\n",
            " 'the butt of. Pierre Coffin is still the energetic and hyper voice of the '\n",
            " 'various yellow blobs that are the Minions. Though they sound very much the '\n",
            " 'same, Coffin manages to really work personalities into the four main guys to '\n",
            " \"stand out and work with the physical personas that they wear so well. It's a \"\n",
            " 'subtle thing for audience members like me, but I appreciate the effort to '\n",
            " 'make them stand out a bit more. As for Carrell, he rocks the Gru voice he '\n",
            " 'invented so well, but this time changes the pitch to sound like a kid '\n",
            " 'version of Gru we saw in the original. And yet this time, more charm and '\n",
            " 'emotion were seen and it worked very well to craft more of the evil '\n",
            " \"villain's formative years to explain so much. All in all, the acting is \"\n",
            " 'stacked and well executed and I quite enjoyed how well they played '\n",
            " \"together.The Pace: It's a kids movie, so you can expect that the movie is \"\n",
            " 'going to be very quick paced and not standing still too much. However, Rise '\n",
            " 'of Gru manages to still harness that speed and tone it down to give you '\n",
            " 'those moments that allow for character development and training without '\n",
            " 'blowing it over completely. True, the movie does not quite have the balance '\n",
            " 'or natural layout of Despicable Me, but for a sequel of a prequel, the '\n",
            " 'balance is quite welcome and perfectly fit for the other components put into '\n",
            " 'the movie.The Music: The Gru legacy is chock full of music from the various '\n",
            " 'decades that fans dive into no matter what age you currently are. In this '\n",
            " 'prequel , the trend continues with some orchestra work present to help out '\n",
            " \"the emotional moments, it's the tracks they put in that are my favorite to \"\n",
            " \"tap my toes to. Gru's gang has plenty of decade classics, and other songs \"\n",
            " 'that need to fill the void are brought out by the Minions cover, giving you '\n",
            " 'that comedic edge to the film.The Animation/Design Now we get into the '\n",
            " 'levels that are the main strengths for me in this film. Illumination may not '\n",
            " 'be groundbreaking in terms of animation and design, but they certainly did '\n",
            " 'accomplish fluid movement and that loveable, kid friendly, structure that we '\n",
            " \"fell in love with years ago. Gru's adventures are still whacky and the \"\n",
            " 'extreme features they share are still all utilized well to make that '\n",
            " 'caricature design I love, but helping incorporate some other cultural moves '\n",
            " 'into the works as well. The martial arts montage shows how they keep putting '\n",
            " 'new features into the design and again it works so well to make this '\n",
            " 'adventure enjoyable.The Balance Somewhat: Minions 2 had a lot of things to '\n",
            " 'juggle and three plot lines to leap about to make the adventure whole. It '\n",
            " 'worked for the most part at least for two of the stories that they were '\n",
            " \"working on. You'll get plenty of screen time between the classic three and \"\n",
            " \"Gru's adventure as they each work to the ultimate goal of being the ultimate \"\n",
            " 'villain of the era. The gimmicks are cute, and each story has its own feel '\n",
            " 'to it that are grossly different, but yet connect like an ionic bond to make '\n",
            " 'something stronger. The other plot line is attempting to incorporate a new '\n",
            " 'character, and while a little heartwarming, is primarily comedic antics that '\n",
            " 'will end up in some way, shape and form in the form of a toy. Nevertheless, '\n",
            " 'many of these plot lines do well to get adequate time and that kept things '\n",
            " 'dynamic and fun.The Comedy: I laughed a lot in this film, the balance of '\n",
            " 'adult humor and kid humor tickling my funny bones a lot as they vied to find '\n",
            " 'their place in the writing. Rise of Gru may not be quite as clever or '\n",
            " 'cultured as the Despicable Me movie from long ago, but it still has plenty '\n",
            " 'of pizazz and well-timed moments to get you busting out a hardy chuckle or '\n",
            " 'guffaw. Slapstick comedy, physical humor, pronunciation of words, and some '\n",
            " 'clever lines all have a nice mix into the run time, always keeping the '\n",
            " 'atmosphere and energy of the film in check.The Fun: Overall though, I had a '\n",
            " 'lot of fun in this film, and managed to find it better than several of the '\n",
            " \"other entries in this film. Gru's childhood had a lot of quirks to it, but \"\n",
            " 'overall there was a lot of heart and adventurous energy that just made going '\n",
            " 'to the movies fun. Another group in my showing seemed to agree, and all the '\n",
            " 'comedic moments and Minion squeaks should fill your theater with laughter '\n",
            " 'and delight. Not too many politics, not getting lost in some cultural '\n",
            " \"relevance that films seem to want to explore, and it's not going too deep or \"\n",
            " 'surreal to complicate matters. This film is just another enjoyable venture '\n",
            " 'that helps you take a break from the harsh reality of '\n",
            " 'today.DISLIKES:Predictable Plot: The trailers have a lot to do with this, '\n",
            " 'but the movie, to no surprise, is a predictable mess that is a bit boring. I '\n",
            " 'know, I should not have expected something like that, but Disney has proven '\n",
            " 'to pull that twist on us when it counts to shock us to the core. Minions: '\n",
            " 'Rise of Gru could have tried to add a few more kinks into the mix, which '\n",
            " 'might have helped add that little bit of adventure that the first one did '\n",
            " 'long ago.More Balance Needed In Characters: You know me and my utilizing '\n",
            " 'characters well if you are going to include them. Rise of Gru does an okay '\n",
            " \"job on about a handful of characters, but I can't help but feel there were \"\n",
            " 'too many new contenders to the mix to say they were all crucial to the plot. '\n",
            " 'The main antagonists were unimpressive and certainly could have been paired '\n",
            " 'or sent out on other missions to help give them more dimension than the '\n",
            " 'stereotypes they served as. Meanwhile, Brand and Andrews characters were '\n",
            " 'very scarce, maximizing their time, but really not having a leg in the race '\n",
            " 'like I had hoped they would. And even the new Minion did not quite shine '\n",
            " 'like the original trio, meaning he was pretty much for toys than running '\n",
            " 'with his boys, which again was a shame.Could Have Used A Little More '\n",
            " 'Heartwarming Moments: The first two movies had those touching moments that '\n",
            " 'really dug into your hearts and pulled the family card out for you to enjoy. '\n",
            " 'However, Minions 2, while trying, did not quite have the same awwwww moments '\n",
            " \"you might be looking for. Don't get me wrong, there are still cute moments \"\n",
            " 'to be had, some as trades to get the joke in, and there are those hints of '\n",
            " 'something deeper happening. Yet, this films balance towards the character '\n",
            " 'side did not quite come off as clean as the previous installments.Sort of '\n",
            " 'Disconnected At Times: Finally, the movie feels not quite as linear and '\n",
            " 'connected as the other films have had in the past. Whether it was due to '\n",
            " 'delays, or the fear of too much story, this sequel-prequel has moments that '\n",
            " 'feel like something was dropped or edited down to get to the end game '\n",
            " 'faster. While it is subtle at times, there is just something missing that '\n",
            " \"feels like a Director's cut is needed for home release.The VERDICT:\\n\"\n",
            " 'The claims of the movie being the funniest of the year is at least partially '\n",
            " 'true. Minions: Rise of Gru is by far the same spectacle you have come to '\n",
            " 'expect with bright animation, lots of music, references that are great for '\n",
            " 'guys like me and great voice acting that makes them come to life. Sure it '\n",
            " 'has some predictability issues, and character inclusion/balance is not '\n",
            " 'perfect leading to a disconnected feeling that the first two movies did '\n",
            " 'better. Yet, the movie is still super fun and accomplishes the task of not '\n",
            " 'being political and just being a movie to lose yourself in for a few hours. '\n",
            " 'When all of this is said and done, the movie for me gets a thumbs up for '\n",
            " 'theater watching if you can, and with that my scores '\n",
            " 'are:Animation/Adventure/Comedy: 8.0\\n'\n",
            " 'Movie Overall: 7.0.',\n",
            " 'Nothing too impressive or new.. Te scenes look contrived. Learning kung-fu '\n",
            " 'scenes were an utter waste of time. Too slapstick even for kids. Hope there '\n",
            " 'will be a better storyline next time.',\n",
            " \"Take this for what it is, I am a late 40's guy watching this. And that is my \"\n",
            " 'fault. However, this is set in 1976, so I remember a tiny bit of it. '\n",
            " 'Anachronisms a plenty. But, that said, this the return of some little yellow '\n",
            " 'pilled gibberish spewing...things. I did watch \"Despicable Me\" years ago, '\n",
            " \"but can't fully remember what that was about. This one is Gru attempting to \"\n",
            " 'join a super villain coalition. This coming during the Chinese New Year. A '\n",
            " 'jade amulet holds the answer to his entry into the world of villainy. So he '\n",
            " 'desperately wants to be accepted by his fellow baddies. Cool cameo voices by '\n",
            " 'Jean Claude Van Damme, Julie Andrews and Dolph Lundgren. However, through so '\n",
            " 'much audio processing, they may as well be anyone.This is so mediocre. Tired '\n",
            " 'tropes of Minions rambling a language between Portuguese and French. Hard to '\n",
            " \"say. But a few cute moments don't save a movie that seems so...template \"\n",
            " \"built.The noise and butt jokes will be amusing for the kids. The 70's \"\n",
            " \"references will placate the Gen X'ers.\",\n",
            " \"I've been waiting since Despicable Me 2 for the makers of the Minions to \"\n",
            " 'make another good movie in the franchise. After seeing Minions: The Rise of '\n",
            " \"Gru I think I'll have to keep waiting. This movie isn't as trashy and \"\n",
            " \"terrible as the last 2 movies with Minions, but it's not anything special. I \"\n",
            " 'always have a slight issue with any of these movies because having an '\n",
            " \"aspiring villain as your protagonist is such a challenge. It's hard for me \"\n",
            " \"to cheer for a young Gru to become more evil, and I'm not even sure how the \"\n",
            " 'logic of the villains even works. It seems like the minute Gru gets the '\n",
            " 'better of the Vicious 6 they would consider him a great villain, yet they '\n",
            " 'instead form this vendetta against him. It just never works for me living in '\n",
            " 'these opposite worlds where bad is good, and good is bad, particularly with '\n",
            " \"such loveable and fun-loving minions. There's a lack of any consistency, and \"\n",
            " \"even if I get a chuckle out of it, I don't think it's the best kind of \"\n",
            " 'story-telling.I still think that the Minions are better in smaller doses. '\n",
            " 'The long sequences with just Minions and them learning kung fu is only cute '\n",
            " 'for a few minutes and starts to get tedious as they go on. I also struggle '\n",
            " \"every single time I watch a prequel. I don't understand Hollywood's \"\n",
            " 'fascination with making them, and just like any other prequel, they make a '\n",
            " 'point of shining a spotlight on things that are in the original movies. \"Oh '\n",
            " 'look, it\\'s Dr. Nefario!\" \"Now there is that bank manager guy, I know him!\" '\n",
            " \"It's not good story-telling, and fails to have a purpose for people who \"\n",
            " \"aren't overly familiar with the first film. There is a lot of negativity in \"\n",
            " \"this review, but I want to make it clear I didn't hate seeing this movie. \"\n",
            " 'Minions: The Rise of Gru was good for some laughs, particularly in the big '\n",
            " \"climax. I don't hate the Minions as much as some other people do, and I \"\n",
            " 'wanted to enjoy this as much as I liked Despicable Me or even Despicable Me '\n",
            " '2. It was underwhelming, but considering where the franchise has gone, this '\n",
            " 'was at least a little more enjoyable.',\n",
            " 'After the last of the Minions movies, Despicable Me 3, I thought the '\n",
            " 'adorable critters had stayed too long at the party. The sequel dropoff had '\n",
            " 'been trending, reaching low enough for a mercy killing. So when I saw that '\n",
            " \"there was another round coming - a prequel of Gru's origin story, I entered \"\n",
            " 'the theater with trepidation. SURPRISE!! This one may be the funniest of the '\n",
            " 'series! New writers apparently did the trick. Well, Matthew Fogel is new to '\n",
            " 'the franchise, and Brian Lynch is returning after penning the relatively '\n",
            " 'amusing Minions in 2015. They give us Gru at age 11, aspiring to be a '\n",
            " 'supervillain and already variably helped and plagued by his little yellow '\n",
            " 'pals. He gets the chance to join a quintet of his megavillain heroes when '\n",
            " \"the vacancy they'd just created by ousting the sixth member opens the \"\n",
            " \"selection for his replacement. They shun him just because he's a kid \"\n",
            " 'inspiring him to turn the tables on them to prove his worth. The plot '\n",
            " 'borrows from the Indiana Jones legacy and slips in homages to Kung Fu flicks '\n",
            " 'and many other pop-culture figures and themes, set in1976, mostly in San '\n",
            " \"Francisco.The more of those movies you've seen - live action or animated - \"\n",
            " \"the more you'll find to enjoy here. For example, one of the evildoers has a \"\n",
            " 'huge crablike right arm. Not only is he named Jean-Clawed, but Mr. Van Damme '\n",
            " 'actually provides his voice! Steve Carrell returns as Gru, assisted by the '\n",
            " 'likes of Michelle Yeoh, Lucy Liu, Alan Arkin, Danny Trejo and Julie-freakin '\n",
            " \"- Andrews! That's establishing a cast pedigree that the script serves \"\n",
            " 'dutifully.Besides the job they did of packing lots of laughs into the dialog '\n",
            " 'and rapid-fire action, there are goodies to savor in the backgrounds ala The '\n",
            " 'Simpsons. Art design is first-rate, with a wealth of colors and characters '\n",
            " 'to tickle viewers of all ages. No animation corps ever used San Francisco to '\n",
            " 'better advantage, making the city and Bay Area look gorgeous - especially '\n",
            " 'Chinatown. This is one of those rare films worth seeing twice, since so much '\n",
            " \"is going on so quickly that I'm sure I missed a number of gags. Don't just \"\n",
            " 'drop the kids at the theater for this one. Join them.',\n",
            " 'Was pretty excited about this one after seeing the trailer. But it was just '\n",
            " 'disappointing. Me and my kids went (and also to the original Minions 1 '\n",
            " 'movie) and it was just ok. They had fun... but their standards for movies is '\n",
            " 'pretty low.It looked great.. but the story and characters just felt so '\n",
            " 'boring and flat. Jokes were just ok.. mostly flat here as well. Just felt a '\n",
            " \"bit all over the place and didn't click for us. They could have done so much \"\n",
            " 'better with this movie.. just disappointing.',\n",
            " 'I rarely give 10/10 but this one deserves it. The hard work put into the '\n",
            " 'movie \"shows\". There\\'s nothing like a good sense of humor and this C. G. I. '\n",
            " 'Animated film ticks all the boxes so-to-speak.The movie is based on '\n",
            " \"Despicable Me franchise and you don't have to watch any previous movies to \"\n",
            " 'enjoy this one. The plot of the film concerns a young Gru who wants to join '\n",
            " \"the Vicious 6, an elite gang of supervillains. However things don't pan out \"\n",
            " 'as expected for the young Gru...A lot of tongue-in-cheek humor, references '\n",
            " 'galore to past movies and fads gone bye. Overall excellent and wholesome '\n",
            " 'entertainment.']\n"
          ]
        }
      ],
      "source": [
        "import requests, csv\n",
        "from bs4 import BeautifulSoup\n",
        "import pandas as pd\n",
        "from pprint import pprint\n",
        "\n",
        "url = \"https://www.imdb.com/title/tt5113044/reviews?ref_=tt_urv\"\n",
        "data = requests.get(url)\n",
        "soup = BeautifulSoup(data.content, 'html.parser')\n",
        "\n",
        "imdb_reviews=[]\n",
        "right_table=soup.find('div', {'class':\"lister\"})\n",
        "for i in right_table.findAll('div', class_=\"lister-item mode-detail imdb-user-review collapsable\"):\n",
        "  imdb_reviews.append(i.find(\"div\", class_=\"text show-more__control\").text.strip())\n",
        "pprint(imdb_reviews)"
      ]
    },
    {
      "cell_type": "code",
      "execution_count": 232,
      "metadata": {
        "colab": {
          "base_uri": "https://localhost:8080/",
          "height": 206
        },
        "id": "e53BKnfSXbZH",
        "outputId": "4bc51d23-693b-422a-8021-69b07743ff05"
      },
      "outputs": [
        {
          "output_type": "execute_result",
          "data": {
            "text/plain": [
              "                                             reviews\n",
              "0  For reference, here are my ratings for the oth...\n",
              "1  'Minions: The Rise of Gru' follows 11 3/4 year...\n",
              "2  Going to watch \"future best animated picture w...\n",
              "3  Its a fun movie. Minion scenes are more than G...\n",
              "4  This movie has so many references to the sixti..."
            ],
            "text/html": [
              "\n",
              "  <div id=\"df-3db09851-7b34-483f-968a-4393275965ba\">\n",
              "    <div class=\"colab-df-container\">\n",
              "      <div>\n",
              "<style scoped>\n",
              "    .dataframe tbody tr th:only-of-type {\n",
              "        vertical-align: middle;\n",
              "    }\n",
              "\n",
              "    .dataframe tbody tr th {\n",
              "        vertical-align: top;\n",
              "    }\n",
              "\n",
              "    .dataframe thead th {\n",
              "        text-align: right;\n",
              "    }\n",
              "</style>\n",
              "<table border=\"1\" class=\"dataframe\">\n",
              "  <thead>\n",
              "    <tr style=\"text-align: right;\">\n",
              "      <th></th>\n",
              "      <th>reviews</th>\n",
              "    </tr>\n",
              "  </thead>\n",
              "  <tbody>\n",
              "    <tr>\n",
              "      <th>0</th>\n",
              "      <td>For reference, here are my ratings for the oth...</td>\n",
              "    </tr>\n",
              "    <tr>\n",
              "      <th>1</th>\n",
              "      <td>'Minions: The Rise of Gru' follows 11 3/4 year...</td>\n",
              "    </tr>\n",
              "    <tr>\n",
              "      <th>2</th>\n",
              "      <td>Going to watch \"future best animated picture w...</td>\n",
              "    </tr>\n",
              "    <tr>\n",
              "      <th>3</th>\n",
              "      <td>Its a fun movie. Minion scenes are more than G...</td>\n",
              "    </tr>\n",
              "    <tr>\n",
              "      <th>4</th>\n",
              "      <td>This movie has so many references to the sixti...</td>\n",
              "    </tr>\n",
              "  </tbody>\n",
              "</table>\n",
              "</div>\n",
              "      <button class=\"colab-df-convert\" onclick=\"convertToInteractive('df-3db09851-7b34-483f-968a-4393275965ba')\"\n",
              "              title=\"Convert this dataframe to an interactive table.\"\n",
              "              style=\"display:none;\">\n",
              "        \n",
              "  <svg xmlns=\"http://www.w3.org/2000/svg\" height=\"24px\"viewBox=\"0 0 24 24\"\n",
              "       width=\"24px\">\n",
              "    <path d=\"M0 0h24v24H0V0z\" fill=\"none\"/>\n",
              "    <path d=\"M18.56 5.44l.94 2.06.94-2.06 2.06-.94-2.06-.94-.94-2.06-.94 2.06-2.06.94zm-11 1L8.5 8.5l.94-2.06 2.06-.94-2.06-.94L8.5 2.5l-.94 2.06-2.06.94zm10 10l.94 2.06.94-2.06 2.06-.94-2.06-.94-.94-2.06-.94 2.06-2.06.94z\"/><path d=\"M17.41 7.96l-1.37-1.37c-.4-.4-.92-.59-1.43-.59-.52 0-1.04.2-1.43.59L10.3 9.45l-7.72 7.72c-.78.78-.78 2.05 0 2.83L4 21.41c.39.39.9.59 1.41.59.51 0 1.02-.2 1.41-.59l7.78-7.78 2.81-2.81c.8-.78.8-2.07 0-2.86zM5.41 20L4 18.59l7.72-7.72 1.47 1.35L5.41 20z\"/>\n",
              "  </svg>\n",
              "      </button>\n",
              "      \n",
              "  <style>\n",
              "    .colab-df-container {\n",
              "      display:flex;\n",
              "      flex-wrap:wrap;\n",
              "      gap: 12px;\n",
              "    }\n",
              "\n",
              "    .colab-df-convert {\n",
              "      background-color: #E8F0FE;\n",
              "      border: none;\n",
              "      border-radius: 50%;\n",
              "      cursor: pointer;\n",
              "      display: none;\n",
              "      fill: #1967D2;\n",
              "      height: 32px;\n",
              "      padding: 0 0 0 0;\n",
              "      width: 32px;\n",
              "    }\n",
              "\n",
              "    .colab-df-convert:hover {\n",
              "      background-color: #E2EBFA;\n",
              "      box-shadow: 0px 1px 2px rgba(60, 64, 67, 0.3), 0px 1px 3px 1px rgba(60, 64, 67, 0.15);\n",
              "      fill: #174EA6;\n",
              "    }\n",
              "\n",
              "    [theme=dark] .colab-df-convert {\n",
              "      background-color: #3B4455;\n",
              "      fill: #D2E3FC;\n",
              "    }\n",
              "\n",
              "    [theme=dark] .colab-df-convert:hover {\n",
              "      background-color: #434B5C;\n",
              "      box-shadow: 0px 1px 3px 1px rgba(0, 0, 0, 0.15);\n",
              "      filter: drop-shadow(0px 1px 2px rgba(0, 0, 0, 0.3));\n",
              "      fill: #FFFFFF;\n",
              "    }\n",
              "  </style>\n",
              "\n",
              "      <script>\n",
              "        const buttonEl =\n",
              "          document.querySelector('#df-3db09851-7b34-483f-968a-4393275965ba button.colab-df-convert');\n",
              "        buttonEl.style.display =\n",
              "          google.colab.kernel.accessAllowed ? 'block' : 'none';\n",
              "\n",
              "        async function convertToInteractive(key) {\n",
              "          const element = document.querySelector('#df-3db09851-7b34-483f-968a-4393275965ba');\n",
              "          const dataTable =\n",
              "            await google.colab.kernel.invokeFunction('convertToInteractive',\n",
              "                                                     [key], {});\n",
              "          if (!dataTable) return;\n",
              "\n",
              "          const docLinkHtml = 'Like what you see? Visit the ' +\n",
              "            '<a target=\"_blank\" href=https://colab.research.google.com/notebooks/data_table.ipynb>data table notebook</a>'\n",
              "            + ' to learn more about interactive tables.';\n",
              "          element.innerHTML = '';\n",
              "          dataTable['output_type'] = 'display_data';\n",
              "          await google.colab.output.renderOutput(dataTable, element);\n",
              "          const docLink = document.createElement('div');\n",
              "          docLink.innerHTML = docLinkHtml;\n",
              "          element.appendChild(docLink);\n",
              "        }\n",
              "      </script>\n",
              "    </div>\n",
              "  </div>\n",
              "  "
            ]
          },
          "metadata": {},
          "execution_count": 232
        }
      ],
      "source": [
        "df = pd.DataFrame({'reviews': imdb_reviews})\n",
        "\n",
        "df.to_csv('reviews.csv')\n",
        "df.head()"
      ]
    },
    {
      "cell_type": "code",
      "execution_count": 233,
      "metadata": {
        "colab": {
          "base_uri": "https://localhost:8080/"
        },
        "id": "RZs11qBAXbZH",
        "outputId": "0a39c038-9f30-436d-c91b-f437db033983"
      },
      "outputs": [
        {
          "output_type": "stream",
          "name": "stderr",
          "text": [
            "[nltk_data] Downloading package stopwords to /root/nltk_data...\n",
            "[nltk_data]   Package stopwords is already up-to-date!\n"
          ]
        },
        {
          "output_type": "execute_result",
          "data": {
            "text/plain": [
              "True"
            ]
          },
          "metadata": {},
          "execution_count": 233
        }
      ],
      "source": [
        "import nltk; nltk.download('stopwords')"
      ]
    },
    {
      "cell_type": "code",
      "execution_count": 234,
      "metadata": {
        "colab": {
          "base_uri": "https://localhost:8080/"
        },
        "id": "SrwFfiGMXbZH",
        "outputId": "84967a72-4b98-48f2-ad74-64a07eddb777"
      },
      "outputs": [
        {
          "output_type": "stream",
          "name": "stderr",
          "text": [
            "[nltk_data] Downloading package stopwords to /root/nltk_data...\n",
            "[nltk_data]   Package stopwords is already up-to-date!\n"
          ]
        },
        {
          "output_type": "stream",
          "name": "stdout",
          "text": [
            "openjdk version \"11.0.18\" 2023-01-17\n",
            "OpenJDK Runtime Environment (build 11.0.18+10-post-Ubuntu-0ubuntu120.04.1)\n",
            "OpenJDK 64-Bit Server VM (build 11.0.18+10-post-Ubuntu-0ubuntu120.04.1, mixed mode, sharing)\n",
            "Looking in indexes: https://pypi.org/simple, https://us-python.pkg.dev/colab-wheels/public/simple/\n",
            "Requirement already satisfied: pyLDAvis in /usr/local/lib/python3.9/dist-packages (3.4.0)\n",
            "Requirement already satisfied: pandas>=1.3.4 in /usr/local/lib/python3.9/dist-packages (from pyLDAvis) (1.4.4)\n",
            "Requirement already satisfied: jinja2 in /usr/local/lib/python3.9/dist-packages (from pyLDAvis) (3.1.2)\n",
            "Requirement already satisfied: gensim in /usr/local/lib/python3.9/dist-packages (from pyLDAvis) (4.3.1)\n",
            "Requirement already satisfied: joblib>=1.2.0 in /usr/local/lib/python3.9/dist-packages (from pyLDAvis) (1.2.0)\n",
            "Requirement already satisfied: numpy>=1.22.0 in /usr/local/lib/python3.9/dist-packages (from pyLDAvis) (1.22.4)\n",
            "Requirement already satisfied: scipy in /usr/local/lib/python3.9/dist-packages (from pyLDAvis) (1.10.1)\n",
            "Requirement already satisfied: scikit-learn>=1.0.0 in /usr/local/lib/python3.9/dist-packages (from pyLDAvis) (1.2.2)\n",
            "Requirement already satisfied: funcy in /usr/local/lib/python3.9/dist-packages (from pyLDAvis) (2.0)\n",
            "Requirement already satisfied: setuptools in /usr/local/lib/python3.9/dist-packages (from pyLDAvis) (67.6.1)\n",
            "Requirement already satisfied: numexpr in /usr/local/lib/python3.9/dist-packages (from pyLDAvis) (2.8.4)\n",
            "Requirement already satisfied: python-dateutil>=2.8.1 in /usr/local/lib/python3.9/dist-packages (from pandas>=1.3.4->pyLDAvis) (2.8.2)\n",
            "Requirement already satisfied: pytz>=2020.1 in /usr/local/lib/python3.9/dist-packages (from pandas>=1.3.4->pyLDAvis) (2022.7.1)\n",
            "Requirement already satisfied: threadpoolctl>=2.0.0 in /usr/local/lib/python3.9/dist-packages (from scikit-learn>=1.0.0->pyLDAvis) (3.1.0)\n",
            "Requirement already satisfied: smart-open>=1.8.1 in /usr/local/lib/python3.9/dist-packages (from gensim->pyLDAvis) (6.3.0)\n",
            "Requirement already satisfied: MarkupSafe>=2.0 in /usr/local/lib/python3.9/dist-packages (from jinja2->pyLDAvis) (2.1.2)\n",
            "Requirement already satisfied: six>=1.5 in /usr/local/lib/python3.9/dist-packages (from python-dateutil>=2.8.1->pandas>=1.3.4->pyLDAvis) (1.16.0)\n"
          ]
        }
      ],
      "source": [
        "import nltk\n",
        "nltk.download('stopwords')\n",
        "import os\n",
        "def install_java():\n",
        "  !apt-get install -y openjdk-8-jdk-headless -qq > /dev/null\n",
        "  os.environ[\"JAVA_HOME\"] = \"/usr/lib/jvm/java-8-openjdk-amd64\"\n",
        "  !java -version\n",
        "install_java()\n",
        "!pip install pyLDAvis"
      ]
    },
    {
      "cell_type": "code",
      "execution_count": 235,
      "metadata": {
        "colab": {
          "base_uri": "https://localhost:8080/"
        },
        "id": "VLHUlh3IXbZI",
        "outputId": "2af4bd99-7017-44a3-d985-9cdd6a039717"
      },
      "outputs": [
        {
          "output_type": "stream",
          "name": "stdout",
          "text": [
            "Looking in indexes: https://pypi.org/simple, https://us-python.pkg.dev/colab-wheels/public/simple/\n",
            "Requirement already satisfied: gensim in /usr/local/lib/python3.9/dist-packages (4.3.1)\n",
            "Requirement already satisfied: smart-open>=1.8.1 in /usr/local/lib/python3.9/dist-packages (from gensim) (6.3.0)\n",
            "Requirement already satisfied: scipy>=1.7.0 in /usr/local/lib/python3.9/dist-packages (from gensim) (1.10.1)\n",
            "Requirement already satisfied: numpy>=1.18.5 in /usr/local/lib/python3.9/dist-packages (from gensim) (1.22.4)\n",
            "\u001b[38;5;3m⚠ As of spaCy v3.0, shortcuts like 'en' are deprecated. Please use the\n",
            "full pipeline package name 'en_core_web_sm' instead.\u001b[0m\n",
            "\u001b[38;5;2m✔ Download and installation successful\u001b[0m\n",
            "You can now load the package via spacy.load('en_core_web_sm')\n"
          ]
        }
      ],
      "source": [
        "!pip install --upgrade gensim\n",
        "import requests\n",
        "from bs4 import BeautifulSoup\n",
        "import re\n",
        "import pandas as pd\n",
        "import numpy as np\n",
        "import itertools\n",
        "import lxml.html as LH\n",
        "import urllib.request as urllib2\n",
        "from bs4 import BeautifulSoup\n",
        "import spacy.cli\n",
        "spacy.cli.download(\"en\")"
      ]
    },
    {
      "cell_type": "code",
      "source": [
        "import re\n",
        "import numpy as np\n",
        "import pandas as pd\n",
        "from pprint import pprint\n",
        "\n",
        "# Gensim\n",
        "import gensim\n",
        "import gensim.corpora as corpora\n",
        "from gensim.utils import simple_preprocess\n",
        "from gensim.models import CoherenceModel\n",
        "\n",
        "# spacy for lemmatization\n",
        "import spacy\n",
        "\n",
        "# Plotting tools\n",
        "import pyLDAvis\n",
        "import pyLDAvis.gensim  # don't skip this\n",
        "import matplotlib.pyplot as plt\n",
        "%matplotlib inline\n",
        "\n",
        "# Enable logging for gensim - optional\n",
        "import logging\n",
        "logging.basicConfig(format='%(asctime)s : %(levelname)s : %(message)s', level=logging.ERROR)\n",
        "\n",
        "import warnings\n",
        "warnings.filterwarnings(\"ignore\",category=DeprecationWarning)"
      ],
      "metadata": {
        "id": "0DcJK1fkY_M-"
      },
      "execution_count": 236,
      "outputs": []
    },
    {
      "cell_type": "code",
      "source": [
        "import nltk\n",
        "nltk.download('stopwords')\n",
        "from nltk.corpus import stopwords\n",
        "stop_words = stopwords.words('english')\n",
        "stop_words.extend(['from', 'subject', 're', 'edu', 'use'])\n",
        "\n",
        "\n",
        "def sent_to_words(sentences):\n",
        "    for sentence in sentences:\n",
        "        yield(gensim.utils.simple_preprocess(str(sentence), deacc=True))\n",
        "\n",
        "def remove_stopwords(texts):\n",
        "    return [[word for word in simple_preprocess(str(doc)) \n",
        "             if word not in stop_words] for doc in texts]\n",
        "\n",
        "rev_data = df['reviews'].values.tolist()\n",
        "rev_data_words = list(sent_to_words(rev_data))\n",
        "rev_data_words = remove_stopwords(rev_data_words)\n",
        "print(rev_data_words[:1])"
      ],
      "metadata": {
        "colab": {
          "base_uri": "https://localhost:8080/"
        },
        "id": "3x_niwhdaSOB",
        "outputId": "c6e55081-01fe-4fe1-ecc0-43d654fb11da"
      },
      "execution_count": 237,
      "outputs": [
        {
          "output_type": "stream",
          "name": "stdout",
          "text": [
            "[['reference', 'ratings', 'movies', 'despicable', 'stars', 'despicable', 'stars', 'minions', 'stars', 'despicable', 'stars', 'pleasantly', 'surprised', 'best', 'one', 'since', 'original', 'fires', 'cylinders', 'comedy', 'story', 'visuals', 'action', 'scenes', 'starts', 'fast', 'never', 'lets', 'movie', 'flies', 'tons', 'great', 'new', 'characters', 'movie', 'absolutely', 'hilarious', 'literally', 'tears', 'scenes', 'minions', 'best', 'many', 'memorable', 'moments', 'story', 'surprisingly', 'unpredictable', 'keeps', 'invested', 'visuals', 'stunningly', 'beautiful', 'mesmerized', 'action', 'scenes', 'pretty', 'epic', 'best', 'entire', 'series', 'blast', 'movie', 'definitely', 'worth', 'seeing', 'premium', 'screen', 'greatly', 'enhancing', 'visuals', 'action', 'scenes', 'sure', 'sarcastic', 'star', 'reviews', 'assure', 'one', 'viewings', 'opening', 'thursday', 'imax', 'imax']]\n"
          ]
        },
        {
          "output_type": "stream",
          "name": "stderr",
          "text": [
            "[nltk_data] Downloading package stopwords to /root/nltk_data...\n",
            "[nltk_data]   Package stopwords is already up-to-date!\n"
          ]
        }
      ]
    },
    {
      "cell_type": "code",
      "source": [
        "bigram = gensim.models.Phrases(rev_data_words, min_count=5, threshold=100) # higher threshold fewer phrases.\n",
        "trigram = gensim.models.Phrases(bigram[rev_data_words], threshold=100)  \n",
        "\n",
        "bigram_mod = gensim.models.phrases.Phraser(bigram)\n",
        "trigram_mod = gensim.models.phrases.Phraser(trigram)\n",
        "def remove_stopwords(texts):\n",
        "    return [[word for word in simple_preprocess(str(doc)) if word not in stop_words] for doc in texts]\n",
        "\n",
        "def make_bigrams(texts):\n",
        "    return [bigram_mod[doc] for doc in texts]\n",
        "\n",
        "def make_trigrams(texts):\n",
        "    return [trigram_mod[bigram_mod[doc]] for doc in texts]\n",
        "\n",
        "def lemmatization(texts, allowed_postags=['NOUN', 'ADJ', 'VERB', 'ADV']):\n",
        "    \"\"\"https://spacy.io/api/annotation\"\"\"\n",
        "    texts_out = []\n",
        "    for sent in texts:\n",
        "        doc = nlp(\" \".join(sent)) \n",
        "        texts_out.append([token.lemma_ for token in doc if token.pos_ in allowed_postags])\n",
        "    return texts_out\n",
        "data_words_nostops = remove_stopwords(rev_data_words)\n",
        "\n",
        "data_words_bigrams = make_bigrams(data_words_nostops)\n",
        "\n",
        "\n",
        "nlp = spacy.load('en_core_web_sm', disable=['parser', 'ner'])\n",
        "\n",
        "data_lemmatized = lemmatization(data_words_bigrams, allowed_postags=['NOUN', 'ADJ', 'VERB', 'ADV'])\n",
        "\n",
        "print(data_lemmatized[:1])"
      ],
      "metadata": {
        "colab": {
          "base_uri": "https://localhost:8080/"
        },
        "id": "WFHyrQfOMDwJ",
        "outputId": "e187235d-ee88-481e-d2a3-0ad466967e22"
      },
      "execution_count": 238,
      "outputs": [
        {
          "output_type": "stream",
          "name": "stdout",
          "text": [
            "[['reference', 'rating', 'movie', 'despicable', 'star', 'despicable', 'star', 'minion', 'star', 'despicable', 'star', 'pleasantly', 'surprise', 'good', 'original', 'fire', 'cylinder', 'comedy', 'story', 'visual', 'action', 'scene', 'start', 'fast', 'never', 'let', 'movie', 'fly', 'ton', 'great', 'new', 'character', 'movie', 'absolutely', 'hilarious', 'literally', 'tear', 'scene', 'minion', 'well', 'many', 'memorable', 'moment', 'story', 'surprisingly', 'unpredictable', 'keep', 'invest', 'visual', 'stunningly', 'beautiful', 'mesmerized', 'action', 'scene', 'pretty', 'epic', 'good', 'entire', 'series', 'blast', 'movie', 'definitely', 'worth', 'see', 'premium', 'screen', 'greatly', 'enhance', 'visual', 'action', 'scene', 'sure', 'sarcastic', 'star', 'review', 'assure', 'viewing', 'open', 'thursday', 'imax', 'imax']]\n"
          ]
        }
      ]
    },
    {
      "cell_type": "code",
      "source": [
        "review_id2word = corpora.Dictionary(review_data_lemmatized) \n",
        "review_texts = review_data_lemmatized\n",
        "review_corpus = [review_id2word.doc2bow(text) for text in review_texts] \n",
        "print(review_corpus[:1])\n",
        "[[(review_id2word[i], f) for i, f in c] for c in review_corpus[:1]]"
      ],
      "metadata": {
        "colab": {
          "base_uri": "https://localhost:8080/"
        },
        "id": "nAur7aaqZIKJ",
        "outputId": "3b9eb2ff-92a0-49db-e8a7-f593b068226a"
      },
      "execution_count": 239,
      "outputs": [
        {
          "output_type": "stream",
          "name": "stdout",
          "text": [
            "[[(0, 1), (1, 3), (2, 1), (3, 1), (4, 1), (5, 1), (6, 1), (7, 1), (8, 1), (9, 3), (10, 1), (11, 1), (12, 1), (13, 1), (14, 1), (15, 1), (16, 2), (17, 1), (18, 1), (19, 1), (20, 2), (21, 1), (22, 1), (23, 1), (24, 1), (25, 1), (26, 1), (27, 1), (28, 2), (29, 1), (30, 4), (31, 1), (32, 1), (33, 1), (34, 1), (35, 1), (36, 1), (37, 1), (38, 1), (39, 1), (40, 1), (41, 1), (42, 4), (43, 1), (44, 1), (45, 1), (46, 5), (47, 1), (48, 2), (49, 1), (50, 1), (51, 1), (52, 1), (53, 1), (54, 1), (55, 1), (56, 1), (57, 1), (58, 3), (59, 1), (60, 1)]]\n"
          ]
        },
        {
          "output_type": "execute_result",
          "data": {
            "text/plain": [
              "[[('absolutely', 1),\n",
              "  ('action', 3),\n",
              "  ('assure', 1),\n",
              "  ('beautiful', 1),\n",
              "  ('blast', 1),\n",
              "  ('character', 1),\n",
              "  ('comedy', 1),\n",
              "  ('cylinder', 1),\n",
              "  ('definitely', 1),\n",
              "  ('despicable', 3),\n",
              "  ('enhance', 1),\n",
              "  ('entire', 1),\n",
              "  ('epic', 1),\n",
              "  ('fast', 1),\n",
              "  ('fire', 1),\n",
              "  ('fly', 1),\n",
              "  ('good', 2),\n",
              "  ('great', 1),\n",
              "  ('greatly', 1),\n",
              "  ('hilarious', 1),\n",
              "  ('imax', 2),\n",
              "  ('invest', 1),\n",
              "  ('keep', 1),\n",
              "  ('let', 1),\n",
              "  ('literally', 1),\n",
              "  ('many', 1),\n",
              "  ('memorable', 1),\n",
              "  ('mesmerized', 1),\n",
              "  ('minion', 2),\n",
              "  ('moment', 1),\n",
              "  ('movie', 4),\n",
              "  ('never', 1),\n",
              "  ('new', 1),\n",
              "  ('open', 1),\n",
              "  ('original', 1),\n",
              "  ('pleasantly', 1),\n",
              "  ('premium', 1),\n",
              "  ('pretty', 1),\n",
              "  ('rating', 1),\n",
              "  ('reference', 1),\n",
              "  ('review', 1),\n",
              "  ('sarcastic', 1),\n",
              "  ('scene', 4),\n",
              "  ('screen', 1),\n",
              "  ('see', 1),\n",
              "  ('series', 1),\n",
              "  ('star', 5),\n",
              "  ('start', 1),\n",
              "  ('story', 2),\n",
              "  ('stunningly', 1),\n",
              "  ('sure', 1),\n",
              "  ('surprise', 1),\n",
              "  ('surprisingly', 1),\n",
              "  ('tear', 1),\n",
              "  ('thursday', 1),\n",
              "  ('ton', 1),\n",
              "  ('unpredictable', 1),\n",
              "  ('viewing', 1),\n",
              "  ('visual', 3),\n",
              "  ('well', 1),\n",
              "  ('worth', 1)]]"
            ]
          },
          "metadata": {},
          "execution_count": 239
        }
      ]
    },
    {
      "cell_type": "code",
      "source": [
        "review_id2word[0]\n"
      ],
      "metadata": {
        "colab": {
          "base_uri": "https://localhost:8080/",
          "height": 36
        },
        "id": "21ej5P4jMLpX",
        "outputId": "b315306a-2dcd-4a36-b725-db4ef79fe339"
      },
      "execution_count": 240,
      "outputs": [
        {
          "output_type": "execute_result",
          "data": {
            "text/plain": [
              "'absolutely'"
            ],
            "application/vnd.google.colaboratory.intrinsic+json": {
              "type": "string"
            }
          },
          "metadata": {},
          "execution_count": 240
        }
      ]
    },
    {
      "cell_type": "code",
      "source": [
        "from pprint import pprint\n",
        "lda_model = gensim.models.ldamodel.LdaModel(corpus=review_corpus,\n",
        "                                           id2word=review_id2word,\n",
        "                                           num_topics=20, \n",
        "                                           random_state=100,\n",
        "                                           update_every=1,\n",
        "                                           chunksize=100,\n",
        "                                           passes=10,\n",
        "                                           alpha='auto',\n",
        "                                           per_word_topics=True)\n",
        "pprint(lda_model.print_topics())\n",
        "doc_lda = lda_model[review_corpus]"
      ],
      "metadata": {
        "colab": {
          "base_uri": "https://localhost:8080/"
        },
        "id": "OvARS-w2MQpd",
        "outputId": "42a72f5d-bada-49db-9dc6-34c91982b5ff"
      },
      "execution_count": 241,
      "outputs": [
        {
          "output_type": "stream",
          "name": "stdout",
          "text": [
            "[(0,\n",
            "  '0.001*\"voice\" + 0.001*\"movie\" + 0.001*\"minion\" + 0.001*\"get\" + 0.001*\"film\" '\n",
            "  '+ 0.001*\"make\" + 0.001*\"gru\" + 0.001*\"still\" + 0.001*\"fun\" + 0.001*\"well\"'),\n",
            " (1,\n",
            "  '0.042*\"movie\" + 0.015*\"gru\" + 0.015*\"minion\" + 0.015*\"direct\" + 0.014*\"far\" '\n",
            "  '+ 0.014*\"watch\" + 0.014*\"say\" + 0.014*\"year\" + 0.014*\"even\" + 0.014*\"good\"'),\n",
            " (2,\n",
            "  '0.039*\"minion\" + 0.033*\"gru\" + 0.022*\"make\" + 0.017*\"rise\" + 0.017*\"film\" + '\n",
            "  '0.014*\"get\" + 0.014*\"villain\" + 0.011*\"character\" + 0.011*\"wild\" + '\n",
            "  '0.011*\"vicious\"'),\n",
            " (3,\n",
            "  '0.025*\"movie\" + 0.016*\"well\" + 0.013*\"character\" + 0.013*\"minion\" + '\n",
            "  '0.013*\"moment\" + 0.012*\"film\" + 0.012*\"work\" + 0.011*\"get\" + 0.011*\"make\" + '\n",
            "  '0.010*\"voice\"'),\n",
            " (4,\n",
            "  '0.053*\"movie\" + 0.034*\"voice\" + 0.031*\"minion\" + 0.024*\"despicable\" + '\n",
            "  '0.023*\"film\" + 0.020*\"gru\" + 0.018*\"story\" + 0.018*\"rise\" + 0.015*\"child\" + '\n",
            "  '0.015*\"review\"'),\n",
            " (5,\n",
            "  '0.025*\"movie\" + 0.019*\"kid\" + 0.019*\"joke\" + 0.013*\"minion\" + 0.013*\"much\" '\n",
            "  '+ 0.013*\"however\" + 0.013*\"animation\" + 0.013*\"new\" + 0.013*\"year\" + '\n",
            "  '0.013*\"watch\"'),\n",
            " (6,\n",
            "  '0.001*\"movie\" + 0.001*\"well\" + 0.001*\"get\" + 0.001*\"kid\" + 0.001*\"minion\" + '\n",
            "  '0.001*\"work\" + 0.001*\"make\" + 0.001*\"still\" + 0.001*\"character\" + '\n",
            "  '0.001*\"film\"'),\n",
            " (7,\n",
            "  '0.026*\"movie\" + 0.019*\"minion\" + 0.019*\"see\" + 0.015*\"well\" + '\n",
            "  '0.011*\"character\" + 0.011*\"kid\" + 0.008*\"fun\" + 0.008*\"gru\" + 0.008*\"feel\" '\n",
            "  '+ 0.008*\"pretty\"'),\n",
            " (8,\n",
            "  '0.001*\"movie\" + 0.001*\"well\" + 0.001*\"still\" + 0.001*\"character\" + '\n",
            "  '0.001*\"minion\" + 0.001*\"make\" + 0.001*\"moment\" + 0.001*\"voice\" + '\n",
            "  '0.001*\"time\" + 0.001*\"gru\"'),\n",
            " (9,\n",
            "  '0.026*\"kid\" + 0.026*\"funny\" + 0.013*\"movie\" + 0.013*\"minion\" + '\n",
            "  '0.013*\"little\" + 0.013*\"get\" + 0.013*\"short\" + 0.013*\"let\" + 0.013*\"first\" '\n",
            "  '+ 0.013*\"animation\"'),\n",
            " (10,\n",
            "  '0.045*\"movie\" + 0.032*\"kid\" + 0.025*\"time\" + 0.025*\"want\" + 0.020*\"well\" + '\n",
            "  '0.019*\"love\" + 0.013*\"make\" + 0.013*\"show\" + 0.013*\"go\" + 0.013*\"film\"'),\n",
            " (11,\n",
            "  '0.001*\"movie\" + 0.001*\"character\" + 0.001*\"film\" + 0.001*\"get\" + '\n",
            "  '0.001*\"work\" + 0.001*\"well\" + 0.001*\"moment\" + 0.001*\"lot\" + 0.001*\"make\" + '\n",
            "  '0.001*\"time\"'),\n",
            " (12,\n",
            "  '0.035*\"minion\" + 0.023*\"well\" + 0.022*\"make\" + 0.017*\"film\" + 0.015*\"time\" '\n",
            "  '+ 0.015*\"join\" + 0.015*\"kid\" + 0.015*\"seem\" + 0.014*\"voice\" + 0.014*\"gru\"'),\n",
            " (13,\n",
            "  '0.001*\"movie\" + 0.001*\"join\" + 0.001*\"film\" + 0.001*\"see\" + 0.001*\"plot\" + '\n",
            "  '0.001*\"minion\" + 0.001*\"action\" + 0.001*\"enjoy\" + 0.001*\"supervillain\" + '\n",
            "  '0.001*\"go\"'),\n",
            " (14,\n",
            "  '0.029*\"minion\" + 0.029*\"film\" + 0.024*\"franchise\" + 0.020*\"character\" + '\n",
            "  '0.015*\"time\" + 0.015*\"feel\" + 0.015*\"well\" + 0.015*\"fun\" + 0.010*\"gru\" + '\n",
            "  '0.010*\"enough\"'),\n",
            " (15,\n",
            "  '0.032*\"joke\" + 0.016*\"movie\" + 0.016*\"still\" + 0.016*\"many\" + '\n",
            "  '0.016*\"theater\" + 0.016*\"reference\" + 0.016*\"think\" + 0.016*\"people\" + '\n",
            "  '0.016*\"laugh\" + 0.016*\"slapstick\"'),\n",
            " (16,\n",
            "  '0.002*\"minion\" + 0.002*\"movie\" + 0.001*\"good\" + 0.001*\"despicable\" + '\n",
            "  '0.001*\"story\" + 0.001*\"think\" + 0.001*\"voice\" + 0.001*\"well\" + 0.001*\"make\" '\n",
            "  '+ 0.001*\"star\"'),\n",
            " (17,\n",
            "  '0.001*\"movie\" + 0.001*\"character\" + 0.001*\"well\" + 0.001*\"make\" + '\n",
            "  '0.001*\"film\" + 0.001*\"minion\" + 0.001*\"time\" + 0.001*\"work\" + 0.001*\"voice\" '\n",
            "  '+ 0.001*\"moment\"'),\n",
            " (18,\n",
            "  '0.037*\"minion\" + 0.037*\"movie\" + 0.023*\"good\" + 0.019*\"make\" + 0.016*\"even\" '\n",
            "  '+ 0.014*\"story\" + 0.012*\"villain\" + 0.011*\"rise\" + 0.011*\"get\" + '\n",
            "  '0.011*\"well\"'),\n",
            " (19,\n",
            "  '0.001*\"movie\" + 0.001*\"well\" + 0.001*\"see\" + 0.001*\"make\" + 0.001*\"film\" + '\n",
            "  '0.001*\"voice\" + 0.001*\"new\" + 0.001*\"get\" + 0.001*\"character\" + '\n",
            "  '0.001*\"minion\"')]\n"
          ]
        }
      ]
    },
    {
      "cell_type": "code",
      "source": [
        "coherence_model_lda = CoherenceModel(model=lda_model, texts=review_data_lemmatized, dictionary=review_id2word, coherence='c_v')\n",
        "coherence_lda = coherence_model_lda.get_coherence()\n",
        "print('\\nCoherence Score: ', coherence_lda)"
      ],
      "metadata": {
        "colab": {
          "base_uri": "https://localhost:8080/"
        },
        "id": "wpgOBmxQMZUF",
        "outputId": "7a4455d2-e040-477d-9d82-31b2370691cc"
      },
      "execution_count": 242,
      "outputs": [
        {
          "output_type": "stream",
          "name": "stdout",
          "text": [
            "\n",
            "Coherence Score:  0.27211834659034306\n"
          ]
        }
      ]
    },
    {
      "cell_type": "code",
      "source": [
        "def compute_coherence_values(dictionary, corpus, texts, limit, start=2, step=3):\n",
        "    \"\"\"\n",
        "    Parameters:\n",
        "    ----------\n",
        "    dictionary : Gensim dictionary\n",
        "    corpus : Gensim corpus\n",
        "    texts : List of input texts\n",
        "    limit : Max num of topics\n",
        "\n",
        "    Returns:\n",
        "    -------\n",
        "    model_list : List of LDA topic models\n",
        "    coherence_values : Coherence values corresponding to the LDA model with respective number of topics\n",
        "    \"\"\"\n",
        "    coherence_values = []\n",
        "    model_list = []\n",
        "    for num_topics in range(start, limit, step):\n",
        "        model = gensim.models.ldamodel.LdaModel(corpus=review_corpus,\n",
        "                                           id2word=review_id2word,\n",
        "                                           num_topics=num_topics, \n",
        "                                           random_state=100,\n",
        "                                           update_every=1,\n",
        "                                           chunksize=100,\n",
        "                                           passes=10,\n",
        "                                           alpha='auto',\n",
        "                                           per_word_topics=True)\n",
        "        model_list.append(model)\n",
        "        coherencemodel = CoherenceModel(model=model, texts=texts, dictionary=dictionary, coherence='c_v')\n",
        "        coherence_values.append(coherencemodel.get_coherence())\n",
        "\n",
        "    return model_list, coherence_values\n",
        "start, limit, step=2, 20, 2\n",
        "model_list, coherence_values = compute_coherence_values(dictionary=review_id2word, corpus=review_corpus, texts=review_data_lemmatized, start=start, limit=limit, step=step)\n",
        "cohe_val = []\n",
        "for m, cv in zip(range(start, limit, step), coherence_values):\n",
        "    cohe_val.append(round(cv,4))\n",
        "    print(\"Num Topics =\", m, \" has Coherence Value of\", round(cv, 4))"
      ],
      "metadata": {
        "colab": {
          "base_uri": "https://localhost:8080/"
        },
        "id": "ujiBBoqYMu3H",
        "outputId": "d63918bc-d150-4a1a-da8c-c2fd9e2a39b7"
      },
      "execution_count": 243,
      "outputs": [
        {
          "output_type": "stream",
          "name": "stdout",
          "text": [
            "Num Topics = 2  has Coherence Value of 0.291\n",
            "Num Topics = 4  has Coherence Value of 0.3003\n",
            "Num Topics = 6  has Coherence Value of 0.2812\n",
            "Num Topics = 8  has Coherence Value of 0.267\n",
            "Num Topics = 10  has Coherence Value of 0.3046\n",
            "Num Topics = 12  has Coherence Value of 0.308\n",
            "Num Topics = 14  has Coherence Value of 0.2645\n",
            "Num Topics = 16  has Coherence Value of 0.3039\n",
            "Num Topics = 18  has Coherence Value of 0.2805\n"
          ]
        }
      ]
    },
    {
      "cell_type": "code",
      "source": [
        "sum(cohe_val)/len(cohe_val)\n"
      ],
      "metadata": {
        "colab": {
          "base_uri": "https://localhost:8080/"
        },
        "id": "g0C8r-DuNz3z",
        "outputId": "d1629f98-9de1-4d47-b08d-9ab9ee194749"
      },
      "execution_count": 244,
      "outputs": [
        {
          "output_type": "execute_result",
          "data": {
            "text/plain": [
              "0.289"
            ]
          },
          "metadata": {},
          "execution_count": 244
        }
      ]
    },
    {
      "cell_type": "code",
      "source": [
        "import pyLDAvis\n",
        "import pyLDAvis.gensim_models as gensimvis\n",
        "pyLDAvis.enable_notebook()\n",
        "\n",
        "\n",
        "LDAvis_prepared = pyLDAvis.gensim_models.prepare(lda_model, review_corpus, review_id2word)\n",
        "\n",
        "pyLDAvis.display(LDAvis_prepared)"
      ],
      "metadata": {
        "colab": {
          "base_uri": "https://localhost:8080/",
          "height": 862
        },
        "id": "vleJnCrPW3V6",
        "outputId": "b81f23fc-a5ff-4437-a700-0c26091698a8"
      },
      "execution_count": 245,
      "outputs": [
        {
          "output_type": "execute_result",
          "data": {
            "text/plain": [
              "<IPython.core.display.HTML object>"
            ],
            "text/html": [
              "\n",
              "<link rel=\"stylesheet\" type=\"text/css\" href=\"https://cdn.jsdelivr.net/gh/bmabey/pyLDAvis@3.4.0/pyLDAvis/js/ldavis.v1.0.0.css\">\n",
              "\n",
              "\n",
              "<div id=\"ldavis_el1171397352269739847457152899\" style=\"background-color:white;\"></div>\n",
              "<script type=\"text/javascript\">\n",
              "\n",
              "var ldavis_el1171397352269739847457152899_data = {\"mdsDat\": {\"x\": [-0.041341585700615344, -0.1230887385883463, -0.14889661796434991, 0.010640521965917724, -0.11873215053448372, -0.10076610940583207, -0.0471472390847967, 0.0306538226434132, 0.005334367608249739, -0.035652380732846066, 0.052890646091757997, 0.08050754911689909, 0.048028174642719024, 0.05103574382389228, 0.05596576373972471, 0.05406061928291055, 0.05633974695311938, 0.05634941688617062, 0.05679015870182576, 0.05702829055466974], \"y\": [-0.009386105929028894, -0.15392192454371617, 0.08951200938983706, -0.009921598670571675, -0.07596997347052664, 0.08431374483932493, 0.09068943258073733, 0.08593585087978663, 0.06544464718549109, -0.04231571263950914, -0.00466750781288895, 0.006081953889429696, -0.011151587685549592, -0.016365035474652595, -0.016032877478508473, -0.016321309116818443, -0.016200563652118864, -0.01651996313909721, -0.01658253303002895, -0.01662094612159117], \"topics\": [1, 2, 3, 4, 5, 6, 7, 8, 9, 10, 11, 12, 13, 14, 15, 16, 17, 18, 19, 20], \"cluster\": [1, 1, 1, 1, 1, 1, 1, 1, 1, 1, 1, 1, 1, 1, 1, 1, 1, 1, 1, 1], \"Freq\": [34.814441136310506, 12.979334230404307, 10.362703014604328, 9.12836724410653, 6.626614298613511, 6.564913093610282, 4.70311733670661, 4.648255170994223, 4.584756164126855, 3.6554190158906543, 1.0434692405029673, 0.7098601477971567, 0.025048252733120415, 0.02325412554294406, 0.022678879611490007, 0.02220292036290261, 0.022054064721704167, 0.021602589575697037, 0.020958709845445202, 0.02095036393876162]}, \"tinfo\": {\"Term\": [\"movie\", \"minion\", \"voice\", \"gru\", \"kid\", \"still\", \"make\", \"film\", \"joke\", \"time\", \"moment\", \"good\", \"character\", \"well\", \"reference\", \"rise\", \"balance\", \"get\", \"many\", \"work\", \"quite\", \"despicable\", \"story\", \"adventure\", \"new\", \"scene\", \"love\", \"see\", \"even\", \"watch\", \"balance\", \"pull\", \"various\", \"music\", \"feature\", \"mix\", \"moment\", \"imax\", \"screen\", \"matter\", \"actor\", \"installment\", \"acting\", \"accomplish\", \"energy\", \"cultural\", \"decade\", \"twist\", \"dynamic\", \"connect\", \"load\", \"classic\", \"toy\", \"sound\", \"incorporate\", \"fill\", \"heartwarming\", \"lose\", \"fast\", \"ultimate\", \"adventure\", \"quite\", \"star\", \"comedy\", \"part\", \"work\", \"design\", \"lot\", \"main\", \"line\", \"form\", \"still\", \"scene\", \"help\", \"character\", \"well\", \"overall\", \"put\", \"movie\", \"plenty\", \"get\", \"time\", \"voice\", \"new\", \"fun\", \"feel\", \"film\", \"make\", \"much\", \"reference\", \"minion\", \"gru\", \"plot\", \"rise\", \"despicable\", \"story\", \"action\", \"wild\", \"rock\", \"stone\", \"nostalgic\", \"vector\", \"course\", \"knuckle\", \"needed\", \"texture\", \"team\", \"champ\", \"threadbare\", \"ride\", \"output\", \"dismiss\", \"betray\", \"goggle\", \"mitt\", \"envelope\", \"trading\", \"plotwise\", \"studio\", \"standout\", \"laundry\", \"tail\", \"shrek\", \"potential\", \"push\", \"accompany\", \"alternative\", \"excuse\", \"vicious\", \"gru\", \"try\", \"minion\", \"villain\", \"sure\", \"make\", \"rise\", \"include\", \"illumination\", \"back\", \"always\", \"play\", \"role\", \"subtle\", \"get\", \"film\", \"young\", \"come\", \"audience\", \"character\", \"need\", \"show\", \"movie\", \"run\", \"voice\", \"story\", \"much\", \"fun\", \"help\", \"clearly\", \"wait\", \"particularly\", \"bad\", \"minute\", \"strength\", \"strong\", \"happen\", \"loveable\", \"casual\", \"gruwhat\", \"acquaintance\", \"mesmerise\", \"tissue\", \"inventive\", \"please\", \"draw\", \"relationship\", \"repetition\", \"outta\", \"disappointment\", \"frankly\", \"uninventive\", \"thin\", \"largely\", \"element\", \"brilliant\", \"key\", \"barely\", \"finish\", \"good\", \"hate\", \"like\", \"consider\", \"even\", \"miss\", \"fail\", \"think\", \"people\", \"original\", \"minion\", \"family\", \"movie\", \"want\", \"story\", \"make\", \"franchise\", \"start\", \"villain\", \"despicable\", \"rise\", \"get\", \"well\", \"seem\", \"thing\", \"little\", \"animation\", \"go\", \"much\", \"work\", \"character\", \"see\", \"low\", \"click\", \"disappoint\", \"excited\", \"disappointing\", \"simple\", \"carefree\", \"chemistry\", \"thankfully\", \"suppose\", \"round\", \"quickly\", \"chinatown\", \"killing\", \"critter\", \"slip\", \"dropoff\", \"apparently\", \"hero\", \"mercy\", \"arm\", \"selection\", \"adorable\", \"huge\", \"oust\", \"color\", \"trick\", \"area\", \"rapid\", \"rate\", \"brian\", \"crablike\", \"mostly\", \"flat\", \"theme\", \"see\", \"return\", \"look\", \"movie\", \"theater\", \"worth\", \"pretty\", \"join\", \"well\", \"minion\", \"age\", \"action\", \"kid\", \"character\", \"new\", \"go\", \"feel\", \"much\", \"story\", \"fun\", \"gru\", \"trailer\", \"make\", \"way\", \"one\", \"do\", \"deep\", \"focus\", \"charming\", \"believe\", \"decent\", \"fresh\", \"idea\", \"combination\", \"silly\", \"third\", \"airplane\", \"colorful\", \"pleasant\", \"personal\", \"otherwise\", \"tolerable\", \"darn\", \"total\", \"uneven\", \"decently\", \"vibe\", \"entertain\", \"creative\", \"divide\", \"remind\", \"steam\", \"critic\", \"almost\", \"bash\", \"vision\", \"trump\", \"franchise\", \"film\", \"minion\", \"enough\", \"character\", \"worth\", \"least\", \"feel\", \"manage\", \"visual\", \"fun\", \"run\", \"time\", \"find\", \"well\", \"even\", \"first\", \"come\", \"plot\", \"watch\", \"still\", \"rise\", \"make\", \"gru\", \"movie\", \"despicable\", \"moment\", \"animation\", \"compare\", \"fair\", \"title\", \"appeal\", \"unoriginal\", \"balda\", \"basis\", \"creativity\", \"requirement\", \"typical\", \"delightful\", \"amount\", \"superbad\", \"predecessor\", \"kyle\", \"offer\", \"motive\", \"flow\", \"bottom\", \"svengeance\", \"determine\", \"villian\", \"mother\", \"string\", \"hodgepodge\", \"child\", \"troublemaker\", \"follow\", \"direct\", \"enough\", \"review\", \"voice\", \"lack\", \"family\", \"despicable\", \"movie\", \"carrell\", \"group\", \"coffin\", \"set\", \"young\", \"story\", \"minion\", \"plot\", \"film\", \"rise\", \"laugh\", \"gru\", \"villain\", \"work\", \"watch\", \"think\", \"joke\", \"funny\", \"well\", \"animation\", \"grow\", \"matinee\", \"stuff\", \"lovely\", \"popcorn\", \"tick\", \"pan\", \"cheek\", \"excellent\", \"base\", \"speak\", \"entertainment\", \"galore\", \"concern\", \"past\", \"rarely\", \"deserve\", \"tongue\", \"fad\", \"wholesome\", \"impressive\", \"waste\", \"utter\", \"next\", \"contrived\", \"previous\", \"box\", \"elite\", \"want\", \"sense\", \"love\", \"humor\", \"kid\", \"movie\", \"time\", \"show\", \"take\", \"well\", \"scene\", \"go\", \"make\", \"film\", \"supervillain\", \"good\", \"enjoy\", \"even\", \"see\", \"villain\", \"work\", \"reference\", \"watch\", \"sure\", \"new\", \"minion\", \"vicious\", \"whole\", \"give\", \"get\", \"remember\", \"average\", \"sly\", \"chinese\", \"notch\", \"placate\", \"language\", \"audio\", \"pille\", \"coalition\", \"fault\", \"ramble\", \"hold\", \"save\", \"template\", \"troll\", \"processing\", \"villainy\", \"tiny\", \"build\", \"noise\", \"gibberish\", \"fellow\", \"anachronism\", \"mediocre\", \"cameo\", \"couple\", \"desperately\", \"er\", \"parent\", \"aside\", \"joke\", \"however\", \"say\", \"kid\", \"year\", \"movie\", \"new\", \"watch\", \"animation\", \"much\", \"minion\", \"top\", \"entry\", \"film\", \"far\", \"well\", \"bring\", \"voice\", \"still\", \"attempt\", \"moment\", \"expect\", \"super\", \"yellow\", \"ago\", \"come\", \"know\", \"thing\", \"consistently\", \"lastly\", \"aim\", \"stop\", \"maintain\", \"plead\", \"outing\", \"nitpicky\", \"puppy\", \"alive\", \"eve\", \"fact\", \"head\", \"prime\", \"proper\", \"humour\", \"colourful\", \"negative\", \"though\", \"payout\", \"repetitive\", \"limited\", \"annoying\", \"female\", \"bored\", \"short\", \"move\", \"funny\", \"tired\", \"example\", \"let\", \"think\", \"kid\", \"really\", \"great\", \"many\", \"first\", \"little\", \"animation\", \"get\", \"minion\", \"movie\", \"say\", \"well\", \"thing\", \"still\", \"much\", \"villain\", \"time\", \"fun\", \"feel\", \"bit\", \"take\", \"world\", \"story\", \"part\", \"exaggeration\", \"fake\", \"office\", \"teen\", \"picture\", \"realer\", \"freaking\", \"senior\", \"winner\", \"crisp\", \"gross\", \"wacky\", \"wonderful\", \"sadly\", \"rank\", \"fairly\", \"humble\", \"general\", \"beginning\", \"solid\", \"succeed\", \"basement\", \"stronghold\", \"box\", \"experience\", \"early\", \"danny\", \"dolph\", \"mission\", \"emotional\", \"join\", \"seem\", \"minion\", \"make\", \"well\", \"watch\", \"time\", \"film\", \"kid\", \"voice\", \"gru\", \"rise\", \"story\", \"future\", \"high\", \"hope\", \"fun\", \"feel\", \"first\", \"go\", \"ever\", \"animation\", \"actually\", \"sequel\", \"expect\", \"say\", \"animate\", \"however\", \"adult\", \"godfather\", \"compete\", \"genius\", \"amazing\", \"roller\", \"dialogue\", \"generation\", \"cinematography\", \"coaster\", \"direct\", \"fantastic\", \"recommend\", \"highly\", \"emotional\", \"far\", \"say\", \"year\", \"even\", \"good\", \"watch\", \"sixty\", \"innuendo\", \"seventy\", \"pun\", \"movie\", \"crisp\", \"gross\", \"winner\", \"freaking\", \"senior\", \"gru\", \"minion\", \"kyle\", \"amount\", \"offer\", \"delightful\", \"unoriginal\", \"review\", \"young\", \"rise\", \"story\", \"enough\", \"villain\", \"despicable\", \"work\", \"film\", \"sixty\", \"innuendo\", \"seventy\", \"pun\", \"understand\", \"slapstick\", \"people\", \"child\", \"joke\", \"theater\", \"think\", \"laugh\", \"many\", \"reference\", \"still\", \"coaster\", \"cinematography\", \"generation\", \"dialogue\", \"roller\", \"amazing\", \"genius\", \"compete\", \"godfather\", \"crisp\", \"gross\", \"winner\", \"freaking\", \"senior\", \"picture\", \"movie\", \"opposite\", \"dose\", \"telling\", \"sequence\", \"cheer\", \"make\", \"minion\", \"well\", \"gru\", \"go\", \"good\", \"work\", \"much\", \"villain\", \"bad\", \"get\", \"moment\", \"rise\", \"quite\", \"film\", \"fun\", \"character\", \"sixty\", \"innuendo\", \"seventy\", \"pun\", \"coaster\", \"cinematography\", \"generation\", \"dialogue\", \"roller\", \"amazing\", \"genius\", \"compete\", \"godfather\", \"humble\", \"general\", \"sadly\", \"succeed\", \"wacky\", \"fairly\", \"solid\", \"basement\", \"wonderful\", \"beginning\", \"rank\", \"head\", \"stronghold\", \"prime\", \"nitpicky\", \"lastly\", \"though\", \"maintain\", \"humour\", \"payout\", \"consistently\", \"colourful\", \"fact\", \"bored\", \"outing\", \"female\", \"repetitive\", \"puppy\", \"proper\", \"manager\", \"small\", \"spotlight\", \"minion\", \"movie\", \"overly\", \"good\", \"think\", \"despicable\", \"sequence\", \"single\", \"story\", \"star\", \"never\", \"start\", \"tedious\", \"funny\", \"minute\", \"consider\", \"bad\", \"voice\", \"want\", \"even\", \"world\", \"great\", \"villain\", \"well\", \"keep\", \"original\", \"get\", \"particularly\", \"make\", \"kid\", \"sure\", \"see\", \"let\", \"also\", \"rise\", \"many\", \"scene\", \"animation\", \"watch\", \"gru\", \"work\", \"sixty\", \"innuendo\", \"seventy\", \"pun\", \"coaster\", \"cinematography\", \"generation\", \"dialogue\", \"roller\", \"amazing\", \"genius\", \"compete\", \"godfather\", \"succeed\", \"general\", \"humble\", \"sadly\", \"solid\", \"wacky\", \"fairly\", \"rank\", \"beginning\", \"wonderful\", \"basement\", \"stronghold\", \"crisp\", \"gross\", \"winner\", \"freaking\", \"senior\", \"hodgepodge\", \"flow\", \"villian\", \"svengeance\", \"bottom\", \"mother\", \"voice\", \"get\", \"movie\", \"determine\", \"film\", \"minion\", \"danny\", \"troublemaker\", \"team\", \"still\", \"rock\", \"make\", \"gru\", \"try\", \"fun\", \"well\", \"rise\", \"time\", \"vicious\", \"help\", \"much\", \"work\", \"character\", \"adventure\", \"lot\", \"seem\", \"moment\", \"quite\", \"carrell\", \"story\", \"plot\", \"balance\", \"line\", \"feel\", \"year\", \"watch\", \"sixty\", \"innuendo\", \"seventy\", \"pun\", \"coaster\", \"cinematography\", \"generation\", \"dialogue\", \"roller\", \"amazing\", \"genius\", \"compete\", \"godfather\", \"wholesome\", \"fad\", \"crisp\", \"gross\", \"winner\", \"freaking\", \"senior\", \"picture\", \"realer\", \"office\", \"teen\", \"exaggeration\", \"fake\", \"wacky\", \"sadly\", \"wonderful\", \"fairly\", \"tongue\", \"deserve\", \"rarely\", \"past\", \"concern\", \"galore\", \"entertainment\", \"speak\", \"base\", \"excellent\", \"cheek\", \"pan\", \"tick\", \"pedigree\", \"wealth\", \"packing\", \"pal\", \"culture\", \"pop\", \"arm\", \"adorable\", \"thought\", \"dialog\", \"advantage\", \"especially\", \"figure\", \"megavillain\", \"simpson\", \"trepidation\", \"round\", \"viewer\", \"join\", \"savor\", \"mercy\", \"color\", \"movie\", \"supervillain\", \"enter\", \"film\", \"see\", \"return\", \"action\", \"plot\", \"enjoy\", \"age\", \"give\", \"go\", \"worth\", \"new\", \"kid\", \"much\", \"minion\", \"lot\", \"theater\", \"work\", \"character\", \"well\", \"despicable\", \"get\", \"gru\", \"make\", \"many\", \"voice\", \"sequel\", \"humor\", \"sixty\", \"innuendo\", \"seventy\", \"pun\", \"coaster\", \"cinematography\", \"generation\", \"dialogue\", \"roller\", \"amazing\", \"genius\", \"compete\", \"godfather\", \"crisp\", \"gross\", \"winner\", \"freaking\", \"senior\", \"picture\", \"realer\", \"office\", \"teen\", \"exaggeration\", \"fake\", \"wacky\", \"sadly\", \"wonderful\", \"fairly\", \"humble\", \"rank\", \"nice\", \"meanwhile\", \"crucial\", \"adequate\", \"craft\", \"leap\", \"favorite\", \"trade\", \"guffaw\", \"video\", \"dig\", \"easter\", \"stack\", \"sass\", \"whacky\", \"linear\", \"stellar\", \"movie\", \"balance\", \"character\", \"lot\", \"work\", \"moment\", \"well\", \"make\", \"time\", \"voice\", \"film\", \"pull\", \"quite\", \"get\", \"minion\", \"plot\", \"gru\", \"feel\", \"main\", \"adventure\", \"various\", \"fun\", \"put\", \"help\", \"connect\", \"feature\", \"still\", \"new\", \"much\", \"come\", \"enjoy\", \"rise\", \"animation\", \"go\", \"reference\", \"sixty\", \"innuendo\", \"seventy\", \"pun\", \"coaster\", \"cinematography\", \"generation\", \"dialogue\", \"roller\", \"amazing\", \"genius\", \"compete\", \"godfather\", \"crisp\", \"gross\", \"winner\", \"freaking\", \"senior\", \"picture\", \"realer\", \"office\", \"teen\", \"exaggeration\", \"fake\", \"wacky\", \"sadly\", \"wonderful\", \"fairly\", \"humble\", \"rank\", \"female\", \"nitpicky\", \"bored\", \"aim\", \"limited\", \"though\", \"lastly\", \"consistently\", \"payout\", \"plead\", \"fact\", \"outing\", \"repetitive\", \"puppy\", \"negative\", \"alive\", \"eve\", \"movie\", \"proper\", \"stop\", \"colourful\", \"prime\", \"get\", \"kid\", \"work\", \"well\", \"many\", \"minion\", \"funny\", \"still\", \"quite\", \"moment\", \"animation\", \"make\", \"short\", \"fun\", \"balance\", \"part\", \"lot\", \"little\", \"character\", \"great\", \"bit\", \"time\", \"voice\", \"find\", \"film\", \"much\", \"gru\", \"see\", \"feel\", \"first\", \"sixty\", \"innuendo\", \"seventy\", \"pun\", \"coaster\", \"cinematography\", \"generation\", \"dialogue\", \"roller\", \"amazing\", \"genius\", \"compete\", \"godfather\", \"crisp\", \"gross\", \"winner\", \"freaking\", \"senior\", \"picture\", \"realer\", \"office\", \"teen\", \"exaggeration\", \"fake\", \"wacky\", \"sadly\", \"wonderful\", \"fairly\", \"humble\", \"rank\", \"dutifully\", \"twice\", \"borrow\", \"culture\", \"rapid\", \"gag\", \"variably\", \"evildoer\", \"rare\", \"dropoff\", \"table\", \"packing\", \"quickly\", \"city\", \"sixth\", \"savor\", \"number\", \"apparently\", \"arm\", \"chinatown\", \"rate\", \"color\", \"brian\", \"corp\", \"selection\", \"vacancy\", \"movie\", \"see\", \"well\", \"new\", \"voice\", \"make\", \"get\", \"film\", \"moment\", \"character\", \"kid\", \"work\", \"age\", \"lot\", \"quite\", \"action\", \"design\", \"plot\", \"return\", \"worth\", \"minion\", \"gru\", \"time\", \"much\", \"go\", \"help\", \"still\", \"animation\", \"feel\", \"fun\", \"come\", \"sixty\", \"innuendo\", \"seventy\", \"pun\", \"coaster\", \"cinematography\", \"generation\", \"dialogue\", \"roller\", \"amazing\", \"genius\", \"compete\", \"godfather\", \"crisp\", \"gross\", \"winner\", \"freaking\", \"senior\", \"picture\", \"realer\", \"office\", \"teen\", \"exaggeration\", \"fake\", \"wacky\", \"sadly\", \"wonderful\", \"fairly\", \"humble\", \"rank\", \"dislike\", \"term\", \"dive\", \"carton\", \"famous\", \"welcome\", \"movement\", \"target\", \"cgi\", \"movie\", \"moment\", \"work\", \"lot\", \"character\", \"get\", \"film\", \"well\", \"still\", \"time\", \"quite\", \"balance\", \"make\", \"installment\", \"adventure\", \"mix\", \"gru\", \"voice\", \"minion\", \"fun\", \"much\", \"feel\", \"help\", \"love\", \"rise\", \"new\", \"reference\", \"main\", \"little\", \"humor\", \"year\", \"animation\", \"sixty\", \"innuendo\", \"seventy\", \"pun\", \"coaster\", \"cinematography\", \"generation\", \"dialogue\", \"roller\", \"amazing\", \"genius\", \"compete\", \"godfather\", \"crisp\", \"gross\", \"winner\", \"freaking\", \"senior\", \"picture\", \"realer\", \"office\", \"teen\", \"exaggeration\", \"fake\", \"wacky\", \"sadly\", \"wonderful\", \"fairly\", \"humble\", \"rank\", \"movie\", \"still\", \"well\", \"moment\", \"track\", \"balance\", \"hear\", \"bright\", \"real\", \"bust\", \"stellar\", \"claim\", \"development\", \"meanwhile\", \"fear\", \"inclusion\", \"structure\", \"character\", \"minion\", \"make\", \"voice\", \"time\", \"gru\", \"work\", \"lot\", \"film\", \"fun\", \"get\", \"quite\", \"help\", \"rise\", \"adventure\", \"feel\", \"reference\", \"year\", \"kid\", \"new\", \"main\", \"part\", \"enjoy\", \"overall\", \"plot\"], \"Freq\": [59.0, 52.0, 18.0, 27.0, 18.0, 13.0, 26.0, 29.0, 7.0, 18.0, 12.0, 10.0, 22.0, 28.0, 9.0, 18.0, 7.0, 19.0, 8.0, 15.0, 9.0, 14.0, 16.0, 6.0, 10.0, 9.0, 7.0, 12.0, 8.0, 10.0, 6.680517075565053, 2.8915360704028634, 2.891543073873306, 2.891310013940245, 2.889979743637847, 2.8854288496360936, 10.47005291121897, 1.9479195895057972, 1.9454637058706015, 1.9442604707403983, 1.943798436232034, 1.9435828849750794, 1.9435083758312042, 1.9436768482035172, 1.9431784345570207, 1.9428477151194548, 1.9436712065189938, 1.9431912742528321, 1.9431210450075607, 1.9429060773731428, 1.9431078162300581, 1.9427329360205348, 1.942866780122326, 1.9425889757947707, 1.9424815892479845, 1.9424096091351026, 1.9422590345205872, 1.9424399575070204, 1.9427881856206928, 1.9421386137371441, 5.713596546770323, 7.526344876835846, 4.798248407069631, 3.8435477669521187, 3.839156201902934, 10.285923891649885, 3.840012181623693, 7.552943279413358, 3.839395098061364, 3.8323721735342278, 3.755488464097346, 8.488932202835079, 5.747198419790409, 5.721503075818298, 11.221698820141416, 13.042323330882995, 2.890052696454957, 2.888121100398726, 20.962910678525724, 2.890288674500703, 9.206847063615943, 8.488579694822803, 8.550651453355332, 5.739431960151285, 7.530046600046438, 6.663970209399399, 10.34222323421097, 8.96866681549784, 6.472641622215348, 4.788904610254164, 10.511574931146225, 7.527323028207658, 4.778544921142833, 5.390652517722369, 4.683022642368115, 4.547895738240644, 3.8469035965391853, 3.4913870836314764, 1.772829048126419, 1.7704636303608325, 1.7699383849000374, 1.7694993023234487, 1.766389170336453, 2.6295551640597634, 0.9088952763793613, 0.9085528006729439, 0.9080987773942116, 0.9082312854661355, 0.908330575860478, 0.9081156763437236, 0.9083121538296797, 0.9081314148503505, 0.9080731751230626, 0.908122131307271, 0.9077705896408149, 0.9080079002107849, 0.9078875042614725, 0.907824187596563, 0.907953867088955, 0.9078011963219053, 0.9077708072238558, 0.9076338024357529, 0.9076158155710363, 0.9077391851552413, 0.9075199339776683, 0.9075150020954073, 0.9076219804238626, 0.9076414178421852, 3.4864578123669787, 10.417640429629891, 2.635745836740189, 12.13804574515241, 4.34348636872721, 3.4831960975281375, 6.884420250328546, 5.233588127529631, 1.775709122311476, 1.7735604172546517, 1.7807967940297675, 1.764754686533017, 1.77136065271089, 1.768882817040825, 1.7678696053469132, 4.36044247005121, 5.229784195752803, 1.7660925321239904, 2.63482966708253, 1.7698751407628082, 3.5104142853943707, 1.767358720366819, 1.6892423471242979, 3.372588483950223, 1.775869408484958, 1.780831172150234, 1.780239056168194, 1.7800161060789252, 1.7795116035346983, 1.7712482348064116, 1.6981493803577237, 1.6929597185826673, 1.6925630616997687, 1.6921719638038422, 1.69215331803504, 1.6890999286284354, 1.689404283165153, 1.6862080972807048, 1.547371586969174, 0.8701477095735772, 0.8700498482404242, 0.8700437101923093, 0.8700323605939081, 0.8699859777963603, 0.8699245394090968, 0.8698964549436653, 0.8698901431772075, 0.8698623482423474, 0.869817586816, 0.8697635025052514, 0.869749547131707, 0.869737618472163, 0.8696902512706723, 0.8696340823398093, 0.8696117305796927, 0.8696029288503203, 0.8695881048850617, 0.8695111476591679, 0.8694376068940174, 0.8694241726755016, 5.8238842824483354, 1.6919051324291856, 2.5170078494135435, 1.6920895054970906, 4.084450853718528, 1.6912783566480916, 1.696346183958678, 2.5167931335417495, 1.6932931419887591, 2.7120717757635187, 9.161007626846745, 1.6917010712824214, 9.111711456876796, 2.4918754376886323, 3.5759705470133007, 4.682172126154449, 2.5348373736284344, 1.696290015027815, 2.8625389607550074, 2.6218332034958074, 2.842020508216864, 2.8274932538878037, 2.784514409362629, 1.921527196164028, 1.9146020881436474, 1.8990559178275093, 1.917503416094122, 1.874438059834195, 1.888706242207914, 1.8699785941603577, 1.9022137698642962, 1.821201726223377, 1.676845652350193, 0.8613795582787235, 0.8613794562612718, 0.8613794562612718, 0.8613791502089168, 0.8613790481914652, 0.8613788441565619, 0.8613787421391101, 0.8613787421391101, 0.8613784360867551, 0.8564193677615181, 0.8563454051090639, 0.8565353616040565, 0.856539136249768, 0.856656150266823, 0.8564044732135755, 0.8563222471475368, 0.8563514241387118, 0.8564724168363816, 0.8564045752310272, 0.8561944192806057, 0.8564767015693514, 0.8562784816607742, 0.8563919250670212, 0.8562706263169964, 0.856242163447983, 0.8564293654717808, 0.8566248309091631, 0.8561814630642447, 0.8562467542333078, 0.856513835921756, 0.856402228829639, 1.6772408679579274, 1.6817915604241658, 0.856477721743868, 4.129592990668718, 1.670740519972997, 1.6772876939682397, 5.784713516600461, 1.6750885037627854, 1.6713060027075535, 1.6839147476281329, 1.6711477736400275, 3.3220501839979457, 4.147994490529508, 1.6751332894240645, 1.671642864332938, 2.4958120672056, 2.506185813795192, 1.6743914185155864, 1.6796092030982355, 1.6875628916995273, 1.6805439890078044, 1.6792168439791477, 1.6890661188497509, 1.6881797912297207, 0.8677655447003418, 0.868696964034006, 0.8667050732903266, 0.866071952985319, 0.8656126704179415, 0.8653578308236926, 1.5736765777397044, 1.5726141390274815, 0.8061385922849065, 0.8061048958110418, 0.8060084720550601, 0.8059649999008656, 0.8059675919373167, 0.8059674438209481, 0.8059009395714307, 0.8058770928360804, 0.8058868685164103, 0.8058078484337433, 0.80578703808395, 0.805801479429892, 0.8057497868172382, 0.8057337902494255, 0.8057626729413094, 0.8057078698849143, 0.8057019452301689, 0.8057018711719846, 0.8056407731699224, 0.8056418099845029, 0.8056158155618073, 0.8056009298667595, 0.8056544739340211, 0.8056099649652462, 0.8056134456999091, 0.8056296644422747, 0.805580563866072, 0.8055680480329224, 3.8738526867927257, 4.648294820538732, 4.648753981281502, 1.5789539639541887, 3.1097946954190197, 1.5760270363935818, 1.5741929114007678, 2.343667814608213, 1.5739085279729876, 1.5723759679067155, 2.3426895059933748, 1.5734806197839994, 2.3445033390436856, 1.57569940298616, 2.3432836007479723, 1.5733804931188018, 1.5742249045363932, 1.5743402871875603, 1.5775218267858515, 1.5759926733960583, 1.5749339375930513, 1.5783135087762086, 1.57551810855095, 1.5819013315736674, 0.8181666041745086, 0.8111280402787633, 0.8098991928263786, 0.8094298861123568, 1.5535472113344475, 0.7966438821846653, 0.7964990525295136, 0.7961397663991803, 0.7960964055449783, 0.7961672796315419, 0.7957867899701352, 0.7960142326909915, 0.7957473176527737, 0.7954153980175628, 0.7951189154256336, 0.7948094465880298, 0.7952379926952948, 0.7951272794482716, 0.7945715121545662, 0.7946803911860988, 0.7944861110813157, 0.7913646431591121, 0.7878407483582321, 0.7793776047151695, 0.7793064371541273, 0.7759249508439512, 0.7750331552723356, 0.7477308576921263, 0.7254852721141292, 2.3155956616730973, 0.6923040937801219, 1.5533693658004617, 0.7892181708231858, 2.3074257724027, 2.308225637093918, 5.435071625853691, 1.5532779485004016, 1.5535360593042635, 3.825175407058477, 8.372438312087349, 1.5518406572418288, 1.5504966908674271, 1.5520912844464887, 1.5529030348540867, 1.5469820405126207, 2.8124806762190118, 4.886737160265972, 2.2582300586187225, 3.628803416192501, 2.791695052803053, 1.5597154579240702, 3.1713081059423938, 1.5520761705108446, 1.5524302474691842, 1.0028598141151606, 0.8049309411406135, 0.803620724331242, 0.8030483757295, 0.8025384638230642, 0.8010309587955047, 1.3990427481042509, 0.7279132720198103, 0.7279127989669307, 0.7279125887212066, 0.7279125887212066, 0.7272166753740278, 0.7272094744579732, 0.7271999608389521, 0.7271949149415707, 0.727001120945268, 0.7269791502670867, 0.7269647484349774, 0.726832503874441, 0.7268270900470423, 0.726823042816851, 0.7268040155788088, 0.7268020182444287, 0.7267252785550872, 0.7265367407018901, 0.7264794487420393, 0.7264834434107995, 0.726397242663868, 0.7263465734443302, 0.7262124366722758, 0.7257573072407637, 1.3782099197824245, 0.7269789925827935, 0.7269561809217153, 2.8106991884332717, 0.7270179931646369, 2.1202335182148873, 1.4241630123572988, 3.6467398390866843, 5.047072654954769, 2.811059970096039, 1.4902842413968684, 1.424554174527216, 2.208189606697931, 1.4191951161396292, 1.4860536769340495, 1.4985634026481909, 1.450692974191263, 0.7760305815184072, 0.7663289502584216, 0.7585544838680968, 0.758563156504221, 0.7625843162257135, 0.759252709918242, 0.7606631433591932, 0.7521168649152451, 0.7531795519283312, 0.7519357907852579, 0.7517040999971639, 0.7632692442338016, 0.7423130542332871, 0.7351262772035971, 0.7394570237540083, 0.7392486702413031, 1.4285036134034232, 1.4290725511695552, 0.7327830115670901, 0.7321419695625186, 0.732465555514421, 0.7319274750376502, 0.7319747999376636, 0.731972098626137, 0.7318953190408245, 0.7318672150112886, 0.7319476309775023, 0.7318946437129429, 0.7318350070661642, 0.7318217602500244, 0.7318919424014163, 0.7322525155419132, 0.7317530845992916, 0.7316279411479939, 0.7316126163999106, 0.7316248242500787, 0.7314817586357683, 0.7314592650224798, 0.7314813430493796, 0.7314343817874563, 0.731429758388882, 0.7314440441709936, 0.7319523063243751, 0.7313883555949077, 0.731448667569568, 0.7319057087005421, 0.7318730332207304, 2.130428608333273, 1.4334450394616771, 1.4296387876241605, 2.1307074668000916, 1.431241912118575, 2.8318376527615503, 1.4317354209551578, 1.430916507976222, 1.4326001523334477, 1.43418239361183, 1.43552712726907, 0.737583969425963, 0.7371380452308867, 0.7391540028541773, 0.7378525421296611, 0.7373894230477522, 0.7370621487666501, 0.7367963812710757, 0.7361435989510234, 0.735481258144031, 0.7352556986315634, 0.7351138797764192, 0.7350919056461166, 0.7348007354325328, 0.7347729950410871, 0.7346693062371061, 0.7340135628640343, 0.7339241078938663, 0.7305337071594042, 0.7304004866904646, 0.7305024515878453, 0.7306593955479845, 0.7303094356238087, 0.7305032201674738, 0.7303549355378157, 0.730114882500515, 0.7303766607219813, 0.7305600438213408, 0.7303777367334612, 0.7301599725053869, 0.729972695269243, 0.730011585398445, 0.7302533805495702, 0.7301068892723787, 0.7300725081436639, 0.7302350371157701, 0.7298959397836771, 0.7298971182724407, 0.7299684424619653, 0.7298759054746943, 0.73006323394948, 0.7295237422889167, 0.7295589432359019, 1.4264370608498225, 1.4253726293029956, 2.8179570367905877, 0.7319229916958762, 0.7303714856191493, 1.4262569057849028, 1.4253307160939215, 2.8200477783346685, 1.4256784215178537, 1.4256150905564655, 1.425932052795258, 1.4261854791180943, 1.4299897433245892, 1.4260595345363045, 1.4288051059238651, 1.4320357022956491, 1.4366468726347825, 0.7374683961927689, 0.7361243553770945, 0.7345346765121523, 0.7342716173246386, 0.7340019995909618, 0.7339440999256149, 0.7334211583463853, 0.7333576736690713, 0.7329556040460834, 0.7327844157434961, 0.7326157381343619, 0.7323558045040041, 0.732267878994504, 0.7321072458521479, 0.6843440017472963, 0.6843440017472963, 0.6843438383373358, 0.6843438383373358, 0.6843436749273752, 0.6843436749273752, 0.684343593222395, 0.684343593222395, 0.6843435523699049, 0.6843433889599443, 0.6843433889599443, 0.6678125922383064, 0.6677313366354354, 0.6643443383836362, 0.6645292776064602, 0.6643465852705933, 0.6605458738512352, 0.659011903699298, 0.6499554377195781, 0.6463676494787839, 0.6401246944944011, 0.626089127017488, 0.5719866627945774, 0.6843438383373358, 0.6852885521716202, 0.6753157648382571, 0.6682855415165555, 0.6476396734639996, 0.6216320386391915, 0.6845170937479823, 1.3309540290500288, 1.2885531478378545, 3.058570703557843, 1.963725602140731, 1.9947695728014063, 1.1601550786351116, 1.340025569598607, 1.5248200111976185, 1.3253236571551636, 1.2699504762267213, 1.2586805814792017, 0.9293691487613126, 0.9067222440371493, 0.6864320542228832, 0.684343920042316, 0.6845447508838011, 0.6891505423261752, 0.689060830257847, 0.6881861784441377, 0.6870221275903386, 0.6865881107351846, 0.6862509142816414, 0.6852327068176108, 0.685082042834007, 0.6848645033240582, 0.6847787130947827, 0.6847494218593585, 0.6846273546188465, 0.6846233919273037, 0.35941646193415655, 0.3594061296880953, 0.3594057565144227, 0.3594052434006228, 0.35940111516686923, 0.3593949811246252, 0.3593933251664529, 0.3593869112439544, 0.35937541283016616, 0.36312933006672865, 0.35938898702250843, 0.35964132239527635, 0.35962450625665304, 0.3595504779293432, 0.36274489121384634, 0.36148811225446015, 0.3600456327462267, 0.35971430117163194, 0.3597121787463688, 0.3622247104375414, 0.01711718044891283, 0.01711718044891283, 0.01711718044891283, 0.01711718044891283, 1.0576736390440822, 0.01711718044891283, 0.01711718044891283, 0.01711718044891283, 0.01711718044891283, 0.01711718044891283, 0.3676616642610625, 0.3646242404759679, 0.0183861866769166, 0.018335112903603047, 0.01820113043573854, 0.01819802988729438, 0.01799228291522005, 0.02061803054245866, 0.02014600374702083, 0.021942625070589132, 0.02163054255203811, 0.01997921260786688, 0.02076293417108651, 0.020793527123694654, 0.02067836806065356, 0.0208423749743593, 0.2749355777721184, 0.2748565620523387, 0.27481762539042315, 0.27478789136253823, 0.274960107551793, 0.2749774656235679, 0.27507923406265766, 0.27481889471925497, 0.5369004554100222, 0.27562453772879997, 0.27508808763125947, 0.27504270912552253, 0.2757881224819985, 0.2754997944378546, 0.27582975646768165, 0.013144669583918363, 0.013144669583918363, 0.013144669583918363, 0.013144669583918363, 0.013144669583918363, 0.013144669583918363, 0.013144669583918363, 0.013144669583918363, 0.013144669583918363, 0.013144669583918363, 0.013144669583918363, 0.013144669583918363, 0.013144669583918363, 0.013144669583918363, 0.013144669583918363, 0.27760399257555424, 0.013409996992964763, 0.013372207685313595, 0.013364241655230884, 0.01335109815184283, 0.013348973017712712, 0.01583101861541917, 0.016179508879537924, 0.015253907353745547, 0.015134478385620188, 0.014582318360459834, 0.014461849137690287, 0.014639761440077793, 0.014559142200984792, 0.014387012286424035, 0.013586818465887439, 0.014523607935336373, 0.014244261384340606, 0.014362534073233246, 0.014154906584560614, 0.01446136718939946, 0.014233868754530223, 0.014259643071457861, 0.0006197226693813861, 0.0006197226693813861, 0.0006197226693813861, 0.0006197226693813861, 0.0006197226693813861, 0.0006197226693813861, 0.0006197226693813861, 0.0006197226693813861, 0.0006197226693813861, 0.0006197226693813861, 0.0006197226693813861, 0.0006197226693813861, 0.0006197226693813861, 0.0006355699181830388, 0.0006355918231776066, 0.0006351328680518068, 0.0006369314570626417, 0.0006323148919774768, 0.0006326291901583197, 0.0006339770821563227, 0.0006359896822642446, 0.0006309704991798839, 0.0006303384736017963, 0.000628492715369432, 0.0006533376681378174, 0.0006343287517975463, 0.0006506164099628249, 0.0006503399731304203, 0.0006499370751951916, 0.0006495028244242877, 0.0006494746908529899, 0.0006480932065310489, 0.0006479756333972667, 0.0006475787540867436, 0.0006473433978671546, 0.0006458860508803208, 0.0006456932449377197, 0.0006456464256362314, 0.0006450385445409741, 0.0006440412724240714, 0.0006436419436732611, 0.000643597923732101, 0.0006603987046455291, 0.0006576983716889896, 0.0006566803843056586, 0.0012002388976868987, 0.0011472710111898753, 0.0006561902862962082, 0.0008773664861110158, 0.0007976752060814117, 0.0008682377020969177, 0.0006530070636830631, 0.0006520080419659554, 0.0008283144848090218, 0.0007560742621648487, 0.0007135382619146761, 0.0007201796043251903, 0.0006501132249438404, 0.0007324911910483842, 0.000675024942456052, 0.0006895602710399182, 0.0006744477143563878, 0.0007837220044777837, 0.0007310221567321805, 0.0007401536001385903, 0.0006997665988283286, 0.000726071418007843, 0.0007501395482851672, 0.0007784771229669661, 0.0007216801314450858, 0.0007181042285619097, 0.000753954516540367, 0.0006726464659532412, 0.0007626808225232857, 0.0007410183225439552, 0.0007203344089513369, 0.0007265220450366665, 0.0006949112483071727, 0.0006927486724696703, 0.0007333156026650238, 0.0007110388530456894, 0.0007105688404465934, 0.0007147601127139044, 0.0007096055105736696, 0.0007132636446664849, 0.0007039265182599644, 0.0005774787896090657, 0.0005774787896090657, 0.0005774787896090657, 0.0005774787896090657, 0.0005774787896090657, 0.0005774787896090657, 0.0005774787896090657, 0.0005774787896090657, 0.0005774787896090657, 0.0005774787896090657, 0.0005774787896090657, 0.0005774787896090657, 0.0005774787896090657, 0.0006033488569139221, 0.0006002080805165308, 0.0005987410941017546, 0.0005975210635026728, 0.000598515059036561, 0.0005948567214637365, 0.0005948255352518098, 0.0005948983680509136, 0.0005949591161928957, 0.000591147316468882, 0.0005935011607853233, 0.0005949955650780851, 0.0005774787896090657, 0.0005774787896090657, 0.0005774787896090657, 0.0005774787896090657, 0.0005774787896090657, 0.00060223953736718, 0.0006030245852811594, 0.0006003399722044708, 0.0006002382271880599, 0.0005997894705926899, 0.0005983765402785866, 0.0008314027745308594, 0.0007805196110363819, 0.0008228236425436534, 0.0005984074666054139, 0.0007720979044481308, 0.0007979500396811293, 0.0006180339243399986, 0.0005962997984493689, 0.0005999717150186365, 0.0007029806176390453, 0.0006216496407565233, 0.0007227009588657842, 0.0007129383751072354, 0.0006542891301589903, 0.0006901413841313794, 0.0006900984381187054, 0.000677463149442785, 0.0006713902843828118, 0.0006433581679648632, 0.000650163259292365, 0.0006611773197470217, 0.0006619888759411388, 0.0006631055372419386, 0.0006402125836931332, 0.0006478337142327165, 0.0006399781023622095, 0.0006471951115722428, 0.000641061693284112, 0.0006219208958290106, 0.0006456805661842784, 0.0006393868637610995, 0.0006333152981266232, 0.0006272397042731066, 0.0006381166103665607, 0.0006288284468569465, 0.0006294617218728826, 0.0005687302337713667, 0.0005687302337713667, 0.0005687302337713667, 0.0005687302337713667, 0.0005713673824311529, 0.0005709903662960769, 0.0005707763858779001, 0.00057072290661437, 0.0005705197614498231, 0.0005703851761942095, 0.0005703674342584412, 0.0005703514031521935, 0.0005700105045292172, 0.0005922432410607326, 0.0005913034253774642, 0.0005687302337713667, 0.0005687302337713667, 0.0005687302337713667, 0.0005687302337713667, 0.0005687302337713667, 0.0005687302337713667, 0.0005687302337713667, 0.0005687302337713667, 0.0005687302337713667, 0.0005687302337713667, 0.0005687302337713667, 0.0005687302337713667, 0.0005687302337713667, 0.0005687302337713667, 0.0005687302337713667, 0.0005882089783232506, 0.000586955003648771, 0.0005869207870583608, 0.0005866134713852316, 0.0005865479529510015, 0.0005864545543319928, 0.0005842894678917556, 0.0005840505220353906, 0.0005836916280204208, 0.0005805155046976168, 0.0005804348422539274, 0.0005802783330348286, 0.0005801604125260258, 0.0005930048136535861, 0.0005920938286159412, 0.0005917795428966173, 0.0005917617375967927, 0.0005915762710039579, 0.0005914341454256426, 0.0005910880509500486, 0.0005908925094722595, 0.0005907475958754665, 0.0005905784138451046, 0.0005902634944852176, 0.0005900810060030296, 0.0005900353205184263, 0.0005898182986255464, 0.0005898141165978296, 0.0005896062191290591, 0.0005894677686660102, 0.0005890351822535457, 0.0006372694860221539, 0.0005889712479207235, 0.0005889119391640124, 0.0005888743642786174, 0.0007042854029950652, 0.0006107153208499356, 0.0005888611845549039, 0.0006372135989244839, 0.0006251329881317481, 0.0006054919682316407, 0.0006121875846984213, 0.0006159630686299117, 0.000611000585831467, 0.0006091916053877216, 0.000608189439473039, 0.0006105802920459276, 0.0006043374751255761, 0.0006069898311588779, 0.0006091654993965197, 0.000607550349601043, 0.0006149221872768204, 0.0006051951709918599, 0.0005998813978652032, 0.0006063749463563943, 0.0006085023945471802, 0.0006087057931679523, 0.0006057409889729599, 0.0006053375500264004, 0.0006029362423842198, 0.0005980791340114273, 0.0005980622791724474, 0.000596875850582, 0.0005955502111598277, 0.0005954287422638713, 0.0005550434360184109, 0.0005550434360184109, 0.0005550434360184109, 0.0005550434360184109, 0.0005550434360184109, 0.0005550434360184109, 0.0005550434360184109, 0.0005550434360184109, 0.0005550434360184109, 0.0005550434360184109, 0.0005550434360184109, 0.0005550434360184109, 0.0005550434360184109, 0.0005550434360184109, 0.0005550434360184109, 0.0005550434360184109, 0.0005550434360184109, 0.0005550434360184109, 0.0005550434360184109, 0.0005550434360184109, 0.0005550434360184109, 0.0005550434360184109, 0.0005550434360184109, 0.0005550434360184109, 0.0005550434360184109, 0.0005550434360184109, 0.0005550434360184109, 0.0005550434360184109, 0.0005550434360184109, 0.0005550434360184109, 0.000567667280108371, 0.0005663156160189149, 0.0005662313735188699, 0.0005658973191280432, 0.000565851165652319, 0.0005658371459137254, 0.0005654874588940244, 0.0005654171120640899, 0.0005653772860810053, 0.0005653665541572146, 0.0005652169896008017, 0.0005651774117546833, 0.000565131134210476, 0.0005651092361232036, 0.0005650292739858265, 0.0005650130210145365, 0.0005650050806316162, 0.000717287171064656, 0.0006249276766135811, 0.0006571249988417678, 0.0006302688868465547, 0.0006390874264904448, 0.0006313694983603979, 0.0006537754599684747, 0.0006488966529721254, 0.000639473713712669, 0.000634962211460625, 0.0006457537501574847, 0.0005879307030812817, 0.000612413447028466, 0.0006268938518999784, 0.0006452323523571323, 0.0006104230163536168, 0.0006282190894025279, 0.0006151520726908286, 0.000594274386657943, 0.0005983445773154947, 0.0005848185692504572, 0.0006131536395988176, 0.000587265509908982, 0.0006024392714984645, 0.0005764175820865399, 0.00058167461185371, 0.0006067270162411841, 0.0005995958700020989, 0.0006028452856095064, 0.0005978473728693526, 0.0005934144059671297, 0.0006035428606559029, 0.0005927064091681502, 0.0005903049396086925, 0.0005895419804716867, 0.0005556781055915457, 0.0005556781055915457, 0.0005556781055915457, 0.0005556781055915457, 0.0005556781055915457, 0.0005556781055915457, 0.0005556781055915457, 0.0005556781055915457, 0.0005556781055915457, 0.0005556781055915457, 0.0005556781055915457, 0.0005556781055915457, 0.0005556781055915457, 0.0005556781055915457, 0.0005556781055915457, 0.0005556781055915457, 0.0005556781055915457, 0.0005556781055915457, 0.0005556781055915457, 0.0005556781055915457, 0.0005556781055915457, 0.0005556781055915457, 0.0005556781055915457, 0.0005556781055915457, 0.0005556781055915457, 0.0005556781055915457, 0.0005556781055915457, 0.0005556781055915457, 0.0005556781055915457, 0.0005556781055915457, 0.0005632828567180118, 0.0005624350499268157, 0.000561972789112254, 0.0005618930549754848, 0.0005618507847916953, 0.0005617187366811108, 0.0005616867567607218, 0.0005616907619530635, 0.0005616876810358776, 0.0005613196962872024, 0.0005611687929634405, 0.0005611678686882847, 0.000561107174619724, 0.0005608823292835022, 0.0005608742572804754, 0.0005608738259520694, 0.0005605158849934198, 0.000627304377457856, 0.0005602198704702055, 0.0005602081629848994, 0.0005601661392744847, 0.0005600634214955093, 0.0005913797739409176, 0.0005909791930884163, 0.0005888868189908332, 0.0005919284236733699, 0.0005789402010930758, 0.0005889037024170116, 0.0005756664184914152, 0.0005804506515525997, 0.0005774641336693457, 0.0005786809727210602, 0.0005782090994448789, 0.0005822182353604528, 0.00056890540734546, 0.0005791444659024961, 0.0005741040853864819, 0.0005719743089542629, 0.0005764805200485984, 0.0005759623097779421, 0.0005801963526480815, 0.0005734189510226976, 0.0005718781843380652, 0.0005781184588612719, 0.0005781792145481764, 0.0005725754575155616, 0.0005794739391863485, 0.0005765701131203622, 0.0005754267231343578, 0.0005752322556415884, 0.0005751138251849652, 0.0005730237925844434, 0.0005434132383417055, 0.0005434132383417055, 0.0005434132383417055, 0.0005434132383417055, 0.0005434132383417055, 0.0005434132383417055, 0.0005434132383417055, 0.0005434132383417055, 0.0005434132383417055, 0.0005434132383417055, 0.0005434132383417055, 0.0005434132383417055, 0.0005434132383417055, 0.0005434132383417055, 0.0005434132383417055, 0.0005434132383417055, 0.0005434132383417055, 0.0005434132383417055, 0.0005434132383417055, 0.0005434132383417055, 0.0005434132383417055, 0.0005434132383417055, 0.0005434132383417055, 0.0005434132383417055, 0.0005434132383417055, 0.0005434132383417055, 0.0005434132383417055, 0.0005434132383417055, 0.0005434132383417055, 0.0005434132383417055, 0.000554922038685596, 0.0005548622249612697, 0.0005545858505478594, 0.0005542993361690739, 0.0005541555055887819, 0.0005540170467758613, 0.0005539947147092612, 0.0005539093700006868, 0.0005539141381986906, 0.000553885710081478, 0.0005538659733631585, 0.0005537780936632402, 0.0005536747022305755, 0.000553545900527536, 0.000553465686158586, 0.0005533309694757444, 0.0005533081545536502, 0.000553229690535866, 0.0005530993195524709, 0.0005530994402663445, 0.0005530681753731043, 0.0005529491514938195, 0.0005529056944993544, 0.0005528853542116673, 0.0005528023634236264, 0.0005526766399243615, 0.0006087213753347696, 0.0005881141892733167, 0.000594485708945134, 0.0005778261079753368, 0.0005790797819087168, 0.0005800935973754244, 0.0005770803376647672, 0.0005793860933627586, 0.0005724539181054054, 0.0005753082580015813, 0.0005730060633628586, 0.000571905816762715, 0.0005667437293896347, 0.000568882598157493, 0.0005675846222325334, 0.0005653190038974854, 0.0005636207407679534, 0.0005673279845374426, 0.0005611246192914304, 0.0005620954002622301, 0.0005745951407937972, 0.0005696277045417583, 0.0005659025347620522, 0.0005649886703826143, 0.0005643394108139191, 0.0005641554428706838, 0.0005635927955062349, 0.0005629222299388645, 0.0005627988000031964, 0.0005625793421811479, 0.0005613338164342301, 0.0005289323060931307, 0.0005289323060931307, 0.0005289323060931307, 0.0005289323060931307, 0.0005289323060931307, 0.0005289323060931307, 0.0005289323060931307, 0.0005289323060931307, 0.0005289323060931307, 0.0005289323060931307, 0.0005289323060931307, 0.0005289323060931307, 0.0005289323060931307, 0.0005289323060931307, 0.0005289323060931307, 0.0005289323060931307, 0.0005289323060931307, 0.0005289323060931307, 0.0005289323060931307, 0.0005289323060931307, 0.0005289323060931307, 0.0005289323060931307, 0.0005289323060931307, 0.0005289323060931307, 0.0005289323060931307, 0.0005289323060931307, 0.0005289323060931307, 0.0005289323060931307, 0.0005289323060931307, 0.0005289323060931307, 0.0005318284655606296, 0.0005317257549029808, 0.0005316849985644839, 0.0005316806652756207, 0.0005316314180332703, 0.0005316127380447926, 0.0005316089903355055, 0.0005315816437693014, 0.0005315613241580105, 0.0005683621897342277, 0.0005494390100585304, 0.0005505183503332066, 0.0005486329597720222, 0.0005514063232024118, 0.0005505994531044971, 0.0005511738481106983, 0.0005504712697352878, 0.0005460673599752345, 0.0005470528318438612, 0.0005434158556546323, 0.000541630423527089, 0.0005485248617822733, 0.0005351343550575288, 0.0005409900337026609, 0.0005364074636139381, 0.0005467497358552694, 0.0005449402949651058, 0.0005441837847107361, 0.0005430443054135938, 0.0005428867259496641, 0.0005425233738226912, 0.0005399544362223197, 0.0005398150682832067, 0.0005398145412615883, 0.0005394154102225153, 0.0005389310187971614, 0.0005386765259133863, 0.0005384776630893411, 0.0005382923857114616, 0.0005378016114687283, 0.0005375413799051073, 0.0005291527305877761, 0.0005291527305877761, 0.0005291527305877761, 0.0005291527305877761, 0.0005291527305877761, 0.0005291527305877761, 0.0005291527305877761, 0.0005291527305877761, 0.0005291527305877761, 0.0005291527305877761, 0.0005291527305877761, 0.0005291527305877761, 0.0005291527305877761, 0.0005291527305877761, 0.0005291527305877761, 0.0005291527305877761, 0.0005291527305877761, 0.0005291527305877761, 0.0005291527305877761, 0.0005291527305877761, 0.0005291527305877761, 0.0005291527305877761, 0.0005291527305877761, 0.0005291527305877761, 0.0005291527305877761, 0.0005291527305877761, 0.0005291527305877761, 0.0005291527305877761, 0.0005291527305877761, 0.0005291527305877761, 0.0005569487235999205, 0.0005480703650970585, 0.0005515831458777553, 0.0005436087963460505, 0.0005316548522842978, 0.0005402904091028578, 0.000531492067452079, 0.0005314547223521309, 0.0005314428398203293, 0.0005313990559100454, 0.0005312665334864051, 0.000531251080341599, 0.0005312288957132599, 0.0005312174229239342, 0.0005311989845125178, 0.0005311896775048505, 0.0005311887994852592, 0.0005444775089296391, 0.0005443387232995814, 0.0005440483914880726, 0.0005429995678189977, 0.000542678622391074, 0.000542543875651136, 0.0005423889344605989, 0.0005419274473634348, 0.0005412710984516513, 0.0005409425435206033, 0.0005404699933765893, 0.0005399945165006046, 0.0005381602750398315, 0.0005381600994359132, 0.0005381506168243277, 0.0005375813089213573, 0.000537056780017541, 0.0005368773128130883, 0.0005366563445492889, 0.0005366120923618895, 0.0005363498571773011, 0.0005363296627267022, 0.0005357461309063535, 0.0005354641695482815, 0.0005353885427941547], \"Total\": [59.0, 52.0, 18.0, 27.0, 18.0, 13.0, 26.0, 29.0, 7.0, 18.0, 12.0, 10.0, 22.0, 28.0, 9.0, 18.0, 7.0, 19.0, 8.0, 15.0, 9.0, 14.0, 16.0, 6.0, 10.0, 9.0, 7.0, 12.0, 8.0, 10.0, 7.08329466896161, 3.2767942043061318, 3.27696331336621, 3.277708012366771, 3.276810674430188, 3.2759450785269375, 12.36263675531149, 2.3278960600530936, 2.327191925831155, 2.325830021113369, 2.3254671156292352, 2.3252138599936005, 2.325437908759167, 2.32570646102068, 2.3252313367176605, 2.324853172176713, 2.3259441522429287, 2.3254008921741103, 2.325530431963189, 2.3253527522030333, 2.325658522869947, 2.325370628394649, 2.3255793061619188, 2.32538014334794, 2.3253127341908466, 2.3254488632046786, 2.3253221886933444, 2.325614367610804, 2.32613254164303, 2.325382292728169, 6.997720328319367, 9.612238229045442, 6.0544924040139785, 4.928514493549897, 4.927321224244972, 15.597101054322884, 5.047777523300645, 11.134045253091438, 5.096162164996493, 5.096450504992892, 5.045478190584763, 13.875977435494303, 9.118056524652605, 9.337116744181145, 22.494394834958538, 28.824373350566272, 3.9694528672367237, 3.9680979742319553, 59.1238089356681, 3.9754918450246133, 19.62095569972007, 18.52134141170074, 18.87432060646553, 10.723526751104782, 16.651631813704856, 14.016618302237179, 29.520074592062585, 26.636525578514476, 14.952151597605903, 9.330637310554863, 52.56983082676245, 27.849941002906043, 10.508726404661624, 18.979447751347326, 14.440131114303908, 16.19357516336128, 6.5624847621048215, 3.893471381418489, 2.1578434917188565, 2.1586319742957594, 2.1585353056941723, 2.1585421512794642, 2.15762304915133, 3.676397510786573, 1.2904972955904377, 1.290578982709144, 1.2900321862304476, 1.290376337835557, 1.2905353985459134, 1.2904921161696317, 1.2908097618013612, 1.2906305906380706, 1.290585410067179, 1.2906955286887791, 1.2902403427516118, 1.290579300436408, 1.2904420030756252, 1.2903972105983224, 1.2905822774341853, 1.2904250438858642, 1.2905120397150396, 1.2903350835165315, 1.2903195352192496, 1.290503832444034, 1.2903367186912333, 1.2903661946980716, 1.2905820951024511, 1.2906128233872982, 6.939800929295763, 27.849941002906043, 5.5786733705002645, 52.56983082676245, 12.703263807629375, 9.585576659143332, 26.636525578514476, 18.979447751347326, 3.756456667514843, 3.756978055983318, 3.8727765126546148, 3.9176591501012745, 4.061789189935401, 4.06031619618122, 4.061032677896157, 19.62095569972007, 29.520074592062585, 4.371155696606754, 9.892339124139594, 4.832603992925588, 22.494394834958538, 5.710247452127113, 5.4300677483377795, 59.1238089356681, 6.556393175033171, 18.87432060646553, 16.19357516336128, 14.952151597605903, 16.651631813704856, 9.337116744181145, 2.079076606007121, 2.0762749185962996, 2.075878964653529, 2.0755964393080095, 2.075637811022398, 2.076997534309622, 2.077870136574892, 2.0779786194050627, 2.096483761954946, 1.2510537864056148, 1.2509573853587768, 1.2509513362603364, 1.2509401613420197, 1.2508944652975444, 1.250833947759861, 1.2508062808190223, 1.2508000654905278, 1.2507726857008046, 1.250728589402471, 1.250675312287273, 1.250661564416313, 1.2506498190448863, 1.2506031528732058, 1.2505478236104735, 1.2505258064438998, 1.2505171315255506, 1.2505025278699495, 1.250426724190463, 1.2503542780451848, 1.2503410440509164, 10.00861534475653, 2.7747554271824915, 4.484212955831128, 2.846387510228988, 8.707718010701583, 2.8955560673117238, 2.9450532873692916, 5.322865826007779, 3.1126492850158165, 7.31628692756764, 52.56983082676245, 3.6002510869004194, 59.1238089356681, 7.070955953050441, 16.19357516336128, 26.636525578514476, 9.020934327473878, 4.420390291118059, 12.703263807629375, 14.440131114303908, 18.979447751347326, 19.62095569972007, 28.824373350566272, 7.7718675575615865, 8.522217891848408, 10.40638536893645, 11.649000645276912, 11.853259537345613, 14.952151597605903, 15.597101054322884, 22.494394834958538, 12.211084878595868, 2.060985906806632, 1.2427256890025147, 1.242725586985063, 1.242725586985063, 1.242725280932708, 1.2427251789152565, 1.242724974880353, 1.2427248728629015, 1.2427248728629015, 1.2427245668105464, 1.2403496053699639, 1.2402473665819762, 1.2405225838907792, 1.2405603368488818, 1.2407319355509665, 1.2403921413378711, 1.2402861633834263, 1.2403353920540998, 1.240531389637377, 1.2404368835989374, 1.2401364575979683, 1.2405952862077856, 1.2403242098474363, 1.2404969929431704, 1.2403254972669213, 1.2402928990086468, 1.2405689293152304, 1.2408556517215856, 1.240231266412148, 1.2403275987947036, 1.240744734110657, 1.24058787332537, 2.75877617576373, 2.8246724185544902, 1.2407200657812494, 12.211084878595868, 3.624915367541992, 4.515023403583577, 59.1238089356681, 5.09407284622813, 5.229202892442539, 5.617980499842478, 5.6191381036001875, 28.824373350566272, 52.56983082676245, 6.553317269793015, 6.5624847621048215, 18.813242720892397, 22.494394834958538, 10.723526751104782, 11.853259537345613, 14.016618302237179, 14.952151597605903, 16.19357516336128, 16.651631813704856, 27.849941002906043, 2.1930679094085668, 26.636525578514476, 3.144504864542845, 2.963359895196254, 2.193716541127439, 2.1936300354569376, 1.9661765052340674, 1.9662270069217933, 1.1942026256154883, 1.1942410546168045, 1.1941628380319345, 1.1942160360355365, 1.19425069851318, 1.194306470892783, 1.1942165212271696, 1.1942074202395951, 1.194263908355785, 1.1941828431253045, 1.1941738139364078, 1.1942005721618345, 1.1941890319508182, 1.1942240835775348, 1.19427536210251, 1.194205883116093, 1.1942258899015676, 1.1942377004088593, 1.1941800040814161, 1.1941855012859866, 1.1941709962071105, 1.1941549604349224, 1.1942363565766299, 1.1941862947030448, 1.1941938950695123, 1.194242256708986, 1.1942051266925546, 1.1942022940319743, 9.020934327473878, 29.520074592062585, 52.56983082676245, 5.069845339680952, 22.494394834958538, 5.229202892442539, 5.54462877312513, 14.016618302237179, 5.686042699208646, 5.693654121590445, 16.651631813704856, 6.556393175033171, 18.52134141170074, 7.204316750697346, 28.824373350566272, 8.707718010701583, 9.368489530762172, 9.892339124139594, 10.508726404661624, 10.934996072637704, 13.875977435494303, 18.979447751347326, 26.636525578514476, 27.849941002906043, 59.1238089356681, 14.440131114303908, 12.36263675531149, 11.649000645276912, 1.9456615524257739, 1.1844857364901042, 1.1848813358002621, 1.1843775945921662, 1.1843235767089042, 1.184474592230657, 1.1842232596770534, 1.18457911257637, 1.1845126237724668, 1.1841811959024386, 1.1840069783664833, 1.1835671468252973, 1.1843686259260522, 1.18428618420308, 1.1836457107098808, 1.1839104174848936, 1.1846529666070402, 1.181976051446225, 1.1816603853340817, 1.180604528620686, 1.180533393633512, 1.1800371421892741, 1.1799442995951197, 1.1759425266070556, 1.1726002005041758, 3.801823935589839, 1.1678631515177464, 2.8137242707440957, 1.5230351466698688, 5.069845339680952, 5.43352134945324, 18.87432060646553, 3.5462722014518513, 3.6002510869004194, 14.440131114303908, 59.1238089356681, 3.7553260999615263, 3.763955974683028, 3.8479433532528007, 4.233557937956043, 4.371155696606754, 16.19357516336128, 52.56983082676245, 10.508726404661624, 29.520074592062585, 18.979447751347326, 5.386217949623476, 27.849941002906043, 12.703263807629375, 15.597101054322884, 10.934996072637704, 5.322865826007779, 7.486967997806088, 5.61840501892661, 28.824373350566272, 11.649000645276912, 1.8124983620659352, 1.1156158883838447, 1.1156154153309652, 1.115615205085241, 1.115615205085241, 1.114930721916817, 1.1149236389212713, 1.1149142818114692, 1.1149093165765316, 1.1147186987035516, 1.1146970869193853, 1.1146829240331324, 1.114552844559036, 1.1145475241302565, 1.1145435424184993, 1.1145248224961304, 1.1145228593783407, 1.1144473736636737, 1.1142619302575307, 1.1142055781133633, 1.1161541656763279, 1.1161867047583451, 1.1162059273772997, 1.1162564676220588, 1.1164279664131145, 2.7679304379111436, 1.7664520691995131, 1.7991952741524542, 7.070955953050441, 1.8676020000017104, 7.822893554362822, 4.66093403734482, 18.813242720892397, 59.1238089356681, 18.52134141170074, 5.4300677483377795, 5.106689476698543, 28.824373350566272, 9.118056524652605, 11.853259537345613, 26.636525578514476, 29.520074592062585, 2.7883067039249623, 10.00861534475653, 7.231708302586209, 8.707718010701583, 12.211084878595868, 12.703263807629375, 15.597101054322884, 9.330637310554863, 10.934996072637704, 9.585576659143332, 10.723526751104782, 52.56983082676245, 6.939800929295763, 2.8255412926723262, 6.519446476255368, 19.62095569972007, 1.8192878411982303, 1.82087905500737, 1.1214158174390985, 1.1208975700610637, 1.1214930434237291, 1.1207211941515764, 1.12090657431976, 1.1209178109399978, 1.1208081539297714, 1.1208292491349163, 1.1209580063586606, 1.12091992644302, 1.1208355467725266, 1.120830868027789, 1.1209444731194678, 1.1215451646504297, 1.120803714949998, 1.1207775943500653, 1.1208100708054785, 1.1209083407165499, 1.1207193331798178, 1.1207057116406343, 1.1207637202943075, 1.120741351627581, 1.1207704585674088, 1.1208376173955348, 1.121617688780938, 1.1208144128796003, 1.1209099682186372, 1.1216290271747313, 1.1216372210427736, 7.486967997806088, 5.827679963674376, 6.173941874778955, 18.813242720892397, 7.30465748743396, 59.1238089356681, 10.723526751104782, 10.934996072637704, 11.649000645276912, 14.952151597605903, 52.56983082676245, 2.0711068656434244, 2.0702809756476133, 29.520074592062585, 3.1721388670133774, 28.824373350566272, 2.8334728991559053, 18.87432060646553, 13.875977435494303, 2.071168569708792, 12.36263675531149, 5.318040698905417, 2.763782808556828, 2.8886198624189388, 4.746675560777798, 9.892339124139594, 6.43040314843327, 8.522217891848408, 1.1194662795316368, 1.119363576185469, 1.119769645530673, 1.1200511375959026, 1.1195151230847982, 1.1198771088501212, 1.1196672344168401, 1.119311145950766, 1.1197555500093561, 1.1201749044460445, 1.1198992718710967, 1.1196486326867687, 1.1193722079335258, 1.1194584079122465, 1.1198469843422318, 1.1196277705670474, 1.1196170912737695, 1.1198689756951645, 1.1194007648716966, 1.1194925594926195, 1.1197795708568097, 1.1198004811139872, 1.1200934409837024, 1.1195983493560155, 1.1196707630917453, 2.7691771279617066, 2.7695338110098557, 5.61840501892661, 1.8183252058870405, 1.9375559961196593, 4.184660421504963, 5.322865826007779, 18.813242720892397, 6.231728334070224, 7.264080209709347, 8.346474830532237, 9.368489530762172, 10.40638536893645, 11.649000645276912, 19.62095569972007, 52.56983082676245, 59.1238089356681, 6.173941874778955, 28.824373350566272, 8.522217891848408, 13.875977435494303, 14.952151597605903, 12.703263807629375, 18.52134141170074, 16.651631813704856, 14.016618302237179, 6.254212993500773, 5.106689476698543, 3.5771367768576603, 16.19357516336128, 4.927321224244972, 1.0741216165200433, 1.0741216165200433, 1.074121453110083, 1.074121453110083, 1.0741212897001222, 1.0741212897001222, 1.074121207995142, 1.074121207995142, 1.0741211671426518, 1.0741210037326914, 1.0741210037326914, 1.075028567358456, 1.07536607637463, 1.075276033160026, 1.075819121239673, 1.0756035743735057, 1.075818938289684, 1.07598420230188, 1.0781943531031144, 1.07835463273608, 1.0789267256778579, 1.0820277982067887, 1.0912876096640887, 1.7664520691995131, 1.8458981069465012, 1.9009236464528678, 1.9423589909785595, 2.029332789042247, 2.0342608265877047, 2.367607314249831, 5.6191381036001875, 7.7718675575615865, 52.56983082676245, 26.636525578514476, 28.824373350566272, 10.934996072637704, 18.52134141170074, 29.520074592062585, 18.813242720892397, 18.87432060646553, 27.849941002906043, 18.979447751347326, 16.19357516336128, 2.7140127021525564, 2.5919224220301813, 2.719292489880889, 16.651631813704856, 14.016618302237179, 9.368489530762172, 11.853259537345613, 4.229129805914137, 11.649000645276912, 4.229429911226459, 3.7951649464815413, 5.318040698905417, 6.173941874778955, 5.128823323752441, 5.827679963674376, 4.374232325706698, 0.7646668768659495, 0.7646568855185113, 0.7646565283759449, 0.7646560330040808, 0.7646520393555828, 0.7646461084585033, 0.7646445059795944, 0.7646383060375141, 0.764627184639861, 1.5230351466698688, 1.5364904648707078, 1.6326736271696916, 1.632621180552649, 2.367607314249831, 3.1721388670133774, 6.173941874778955, 7.30465748743396, 8.707718010701583, 10.00861534475653, 10.934996072637704, 0.6873461422022555, 0.6874964538597488, 0.6875704681877552, 0.6876268826759333, 59.1238089356681, 1.0741210037326914, 1.0741210037326914, 1.0741211671426518, 1.074121207995142, 1.074121207995142, 27.849941002906043, 52.56983082676245, 1.1836457107098808, 1.1835671468252973, 1.1839104174848936, 1.1840069783664833, 1.1843235767089042, 5.43352134945324, 4.371155696606754, 18.979447751347326, 16.19357516336128, 5.069845339680952, 12.703263807629375, 14.440131114303908, 15.597101054322884, 29.520074592062585, 0.6873461422022555, 0.6874964538597488, 0.6875704681877552, 0.6876268826759333, 1.5133399188891008, 1.6389064924981365, 3.1126492850158165, 3.801823935589839, 7.486967997806088, 5.09407284622813, 5.322865826007779, 5.386217949623476, 8.346474830532237, 9.330637310554863, 13.875977435494303, 0.764627184639861, 0.7646383060375141, 0.7646445059795944, 0.7646461084585033, 0.7646520393555828, 0.7646560330040808, 0.7646565283759449, 0.7646568855185113, 0.7646668768659495, 1.0741210037326914, 1.0741210037326914, 1.0741211671426518, 1.074121207995142, 1.074121207995142, 1.0741212897001222, 59.1238089356681, 1.2487134955972057, 1.2488829236369101, 1.2487281905631527, 1.248504929506344, 1.2490074858821056, 26.636525578514476, 52.56983082676245, 28.824373350566272, 27.849941002906043, 11.853259537345613, 10.00861534475653, 15.597101054322884, 14.952151597605903, 12.703263807629375, 2.0755964393080095, 19.62095569972007, 12.36263675531149, 18.979447751347326, 9.612238229045442, 29.520074592062585, 16.651631813704856, 22.494394834958538, 0.6873461422022555, 0.6874964538597488, 0.6875704681877552, 0.6876268826759333, 0.764627184639861, 0.7646383060375141, 0.7646445059795944, 0.7646461084585033, 0.7646520393555828, 0.7646560330040808, 0.7646565283759449, 0.7646568855185113, 0.7646668768659495, 1.075818938289684, 1.07598420230188, 1.075276033160026, 1.0789267256778579, 1.075028567358456, 1.0756035743735057, 1.07835463273608, 1.0820277982067887, 1.07536607637463, 1.0781943531031144, 1.075819121239673, 1.1193722079335258, 1.0912876096640887, 1.1194584079122465, 1.119311145950766, 1.119363576185469, 1.1194007648716966, 1.1195151230847982, 1.1196277705670474, 1.1194925594926195, 1.1194662795316368, 1.1196170912737695, 1.1196486326867687, 1.1196707630917453, 1.1196672344168401, 1.1195983493560155, 1.1197795708568097, 1.1197555500093561, 1.1198469843422318, 1.2481666771965283, 1.2481235459596116, 1.248294536065358, 52.56983082676245, 59.1238089356681, 1.2485091840526092, 10.00861534475653, 5.322865826007779, 14.440131114303908, 1.248504929506344, 1.2486126029114863, 16.19357516336128, 6.0544924040139785, 3.6702502976980576, 4.420390291118059, 1.248790656988125, 5.61840501892661, 2.075637811022398, 2.846387510228988, 2.0755964393080095, 18.87432060646553, 7.070955953050441, 8.707718010701583, 3.5771367768576603, 7.264080209709347, 12.703263807629375, 28.824373350566272, 7.375525973549802, 7.31628692756764, 19.62095569972007, 2.075878964653529, 26.636525578514476, 18.813242720892397, 9.585576659143332, 12.211084878595868, 4.184660421504963, 4.3004164180957485, 18.979447751347326, 8.346474830532237, 9.118056524652605, 11.649000645276912, 10.934996072637704, 27.849941002906043, 15.597101054322884, 0.6873461422022555, 0.6874964538597488, 0.6875704681877552, 0.6876268826759333, 0.764627184639861, 0.7646383060375141, 0.7646445059795944, 0.7646461084585033, 0.7646520393555828, 0.7646560330040808, 0.7646565283759449, 0.7646568855185113, 0.7646668768659495, 1.0789267256778579, 1.07598420230188, 1.075818938289684, 1.075276033160026, 1.07835463273608, 1.075028567358456, 1.0756035743735057, 1.075819121239673, 1.0781943531031144, 1.07536607637463, 1.0820277982067887, 1.0912876096640887, 1.0741210037326914, 1.0741210037326914, 1.0741211671426518, 1.074121207995142, 1.074121207995142, 1.1726002005041758, 1.181976051446225, 1.1800371421892741, 1.180604528620686, 1.1816603853340817, 1.1799442995951197, 18.87432060646553, 19.62095569972007, 59.1238089356681, 1.180533393633512, 29.520074592062585, 52.56983082676245, 1.9423589909785595, 1.1678631515177464, 1.2900321862304476, 13.875977435494303, 2.1578434917188565, 26.636525578514476, 27.849941002906043, 5.5786733705002645, 16.651631813704856, 28.824373350566272, 18.979447751347326, 18.52134141170074, 6.939800929295763, 9.337116744181145, 14.952151597605903, 15.597101054322884, 22.494394834958538, 6.997720328319367, 11.134045253091438, 7.7718675575615865, 12.36263675531149, 9.612238229045442, 3.7553260999615263, 16.19357516336128, 10.508726404661624, 7.08329466896161, 5.096450504992892, 14.016618302237179, 7.30465748743396, 10.934996072637704, 0.6873461422022555, 0.6874964538597488, 0.6875704681877552, 0.6876268826759333, 0.764627184639861, 0.7646383060375141, 0.7646445059795944, 0.7646461084585033, 0.7646520393555828, 0.7646560330040808, 0.7646565283759449, 0.7646568855185113, 0.7646668768659495, 1.1142055781133633, 1.1142619302575307, 1.0741210037326914, 1.0741210037326914, 1.0741211671426518, 1.074121207995142, 1.074121207995142, 1.0741212897001222, 1.0741212897001222, 1.074121453110083, 1.074121453110083, 1.0741216165200433, 1.0741216165200433, 1.075028567358456, 1.075276033160026, 1.07536607637463, 1.0756035743735057, 1.1144473736636737, 1.1145228593783407, 1.1145248224961304, 1.1145435424184993, 1.1145475241302565, 1.114552844559036, 1.1146829240331324, 1.1146970869193853, 1.1147186987035516, 1.1149093165765316, 1.1149142818114692, 1.1149236389212713, 1.114930721916817, 1.2399955591673801, 1.2400824449659984, 1.2400077542948724, 1.2403222479856604, 1.240018091977552, 1.2401055693384917, 1.2401364575979683, 1.2403242098474363, 1.2402083336468437, 1.2402257229961062, 1.2402579045351787, 1.2402491344304842, 1.240242126975107, 1.2403663287470477, 1.2402737603507341, 1.2403261339203586, 1.2403496053699639, 1.2403265532822048, 5.6191381036001875, 1.2402189797669865, 1.2404368835989374, 1.2402928990086468, 59.1238089356681, 2.7883067039249623, 1.2404243849208396, 29.520074592062585, 12.211084878595868, 3.624915367541992, 6.5624847621048215, 10.508726404661624, 7.231708302586209, 6.553317269793015, 6.519446476255368, 11.853259537345613, 5.229202892442539, 10.723526751104782, 18.813242720892397, 14.952151597605903, 52.56983082676245, 11.134045253091438, 5.09407284622813, 15.597101054322884, 22.494394834958538, 28.824373350566272, 14.440131114303908, 19.62095569972007, 27.849941002906043, 26.636525578514476, 8.346474830532237, 18.87432060646553, 3.7951649464815413, 4.66093403734482, 0.6873461422022555, 0.6874964538597488, 0.6875704681877552, 0.6876268826759333, 0.764627184639861, 0.7646383060375141, 0.7646445059795944, 0.7646461084585033, 0.7646520393555828, 0.7646560330040808, 0.7646565283759449, 0.7646568855185113, 0.7646668768659495, 1.0741210037326914, 1.0741210037326914, 1.0741211671426518, 1.074121207995142, 1.074121207995142, 1.0741212897001222, 1.0741212897001222, 1.074121453110083, 1.074121453110083, 1.0741216165200433, 1.0741216165200433, 1.075028567358456, 1.075276033160026, 1.07536607637463, 1.0756035743735057, 1.075818938289684, 1.075819121239673, 1.3737458875784943, 1.3736119126084598, 1.3734820777185053, 1.3734212556335441, 1.3736994284707758, 1.3733624762342864, 1.3734704489263658, 1.373496564409396, 1.373713990340822, 1.3733894146821917, 1.3738959706706648, 1.3736256945524286, 1.3734818322884574, 1.3731533438179022, 1.3736465532912399, 1.3734704124789705, 1.3735059229045952, 59.1238089356681, 7.08329466896161, 22.494394834958538, 11.134045253091438, 15.597101054322884, 12.36263675531149, 28.824373350566272, 26.636525578514476, 18.52134141170074, 18.87432060646553, 29.520074592062585, 3.2767942043061318, 9.612238229045442, 19.62095569972007, 52.56983082676245, 10.508726404661624, 27.849941002906043, 14.016618302237179, 5.096162164996493, 6.997720328319367, 3.27696331336621, 16.651631813704856, 3.9680979742319553, 9.337116744181145, 2.3253527522030333, 3.276810674430188, 13.875977435494303, 10.723526751104782, 14.952151597605903, 9.892339124139594, 7.231708302586209, 18.979447751347326, 11.649000645276912, 11.853259537345613, 9.330637310554863, 0.6873461422022555, 0.6874964538597488, 0.6875704681877552, 0.6876268826759333, 0.764627184639861, 0.7646383060375141, 0.7646445059795944, 0.7646461084585033, 0.7646520393555828, 0.7646560330040808, 0.7646565283759449, 0.7646568855185113, 0.7646668768659495, 1.0741210037326914, 1.0741210037326914, 1.0741211671426518, 1.074121207995142, 1.074121207995142, 1.0741212897001222, 1.0741212897001222, 1.074121453110083, 1.074121453110083, 1.0741216165200433, 1.0741216165200433, 1.075028567358456, 1.075276033160026, 1.07536607637463, 1.0756035743735057, 1.075818938289684, 1.075819121239673, 1.1195983493560155, 1.119311145950766, 1.1196707630917453, 1.119769645530673, 1.1198004811139872, 1.1194007648716966, 1.119363576185469, 1.1194662795316368, 1.1194925594926195, 1.1198771088501212, 1.1196486326867687, 1.1196672344168401, 1.1197795708568097, 1.1197555500093561, 1.1198689756951645, 1.1201749044460445, 1.1198992718710967, 59.1238089356681, 1.1198469843422318, 1.1200511375959026, 1.1196170912737695, 1.1194584079122465, 19.62095569972007, 18.813242720892397, 15.597101054322884, 28.824373350566272, 8.346474830532237, 52.56983082676245, 5.61840501892661, 13.875977435494303, 9.612238229045442, 12.36263675531149, 11.649000645276912, 26.636525578514476, 2.7691771279617066, 16.651631813704856, 7.08329466896161, 4.927321224244972, 11.134045253091438, 10.40638536893645, 22.494394834958538, 7.264080209709347, 6.254212993500773, 18.52134141170074, 18.87432060646553, 7.204316750697346, 29.520074592062585, 14.952151597605903, 27.849941002906043, 12.211084878595868, 14.016618302237179, 9.368489530762172, 0.6873461422022555, 0.6874964538597488, 0.6875704681877552, 0.6876268826759333, 0.764627184639861, 0.7646383060375141, 0.7646445059795944, 0.7646461084585033, 0.7646520393555828, 0.7646560330040808, 0.7646565283759449, 0.7646568855185113, 0.7646668768659495, 1.0741210037326914, 1.0741210037326914, 1.0741211671426518, 1.074121207995142, 1.074121207995142, 1.0741212897001222, 1.0741212897001222, 1.074121453110083, 1.074121453110083, 1.0741216165200433, 1.0741216165200433, 1.075028567358456, 1.075276033160026, 1.07536607637463, 1.0756035743735057, 1.075818938289684, 1.075819121239673, 1.2403161075551854, 1.240294393206908, 1.2402051045416411, 1.240018091977552, 1.240231266412148, 1.240209824606725, 1.2401706239860975, 1.2401710615679409, 1.2403145615120104, 1.2402861633834263, 1.2401881882564327, 1.2400077542948724, 1.2402473665819762, 1.2404586681057534, 1.240331681448959, 1.2402189797669865, 1.2404319859082542, 1.2403353920540998, 1.2401364575979683, 1.2405225838907792, 1.2403275987947036, 1.2402928990086468, 1.240744734110657, 1.2406132625128647, 1.2405952862077856, 1.2405025022166172, 59.1238089356681, 12.211084878595868, 28.824373350566272, 10.723526751104782, 18.87432060646553, 26.636525578514476, 19.62095569972007, 29.520074592062585, 12.36263675531149, 22.494394834958538, 18.813242720892397, 15.597101054322884, 6.553317269793015, 11.134045253091438, 9.612238229045442, 6.5624847621048215, 5.047777523300645, 10.508726404661624, 3.624915367541992, 5.229202892442539, 52.56983082676245, 27.849941002906043, 18.52134141170074, 14.952151597605903, 11.853259537345613, 9.337116744181145, 13.875977435494303, 11.649000645276912, 14.016618302237179, 16.651631813704856, 9.892339124139594, 0.6873461422022555, 0.6874964538597488, 0.6875704681877552, 0.6876268826759333, 0.764627184639861, 0.7646383060375141, 0.7646445059795944, 0.7646461084585033, 0.7646520393555828, 0.7646560330040808, 0.7646565283759449, 0.7646568855185113, 0.7646668768659495, 1.0741210037326914, 1.0741210037326914, 1.0741211671426518, 1.074121207995142, 1.074121207995142, 1.0741212897001222, 1.0741212897001222, 1.074121453110083, 1.074121453110083, 1.0741216165200433, 1.0741216165200433, 1.075028567358456, 1.075276033160026, 1.07536607637463, 1.0756035743735057, 1.075818938289684, 1.075819121239673, 1.373847617637761, 1.37386110924484, 1.3734836497076874, 1.3735865608251283, 1.3737611886124228, 1.3735250627541082, 1.3735693950718864, 1.3739186332481492, 1.373565112313288, 59.1238089356681, 12.36263675531149, 15.597101054322884, 11.134045253091438, 22.494394834958538, 19.62095569972007, 29.520074592062585, 28.824373350566272, 13.875977435494303, 18.52134141170074, 9.612238229045442, 7.08329466896161, 26.636525578514476, 2.3252138599936005, 6.997720328319367, 3.2759450785269375, 27.849941002906043, 18.87432060646553, 52.56983082676245, 16.651631813704856, 14.952151597605903, 14.016618302237179, 9.337116744181145, 7.822893554362822, 18.979447751347326, 10.723526751104782, 9.330637310554863, 5.096162164996493, 10.40638536893645, 4.66093403734482, 7.30465748743396, 11.649000645276912, 0.6873461422022555, 0.6874964538597488, 0.6875704681877552, 0.6876268826759333, 0.764627184639861, 0.7646383060375141, 0.7646445059795944, 0.7646461084585033, 0.7646520393555828, 0.7646560330040808, 0.7646565283759449, 0.7646568855185113, 0.7646668768659495, 1.0741210037326914, 1.0741210037326914, 1.0741211671426518, 1.074121207995142, 1.074121207995142, 1.0741212897001222, 1.0741212897001222, 1.074121453110083, 1.074121453110083, 1.0741216165200433, 1.0741216165200433, 1.075028567358456, 1.075276033160026, 1.07536607637463, 1.0756035743735057, 1.075818938289684, 1.075819121239673, 59.1238089356681, 13.875977435494303, 28.824373350566272, 12.36263675531149, 1.3739649629235466, 7.08329466896161, 1.3738686979229917, 1.3737363762356098, 1.3735291130005711, 1.373479362640417, 1.3735059229045952, 1.3740222626130485, 1.3736675935230558, 1.3736119126084598, 1.3734457179553987, 1.373681957473362, 1.3735793537770649, 22.494394834958538, 52.56983082676245, 26.636525578514476, 18.87432060646553, 18.52134141170074, 27.849941002906043, 15.597101054322884, 11.134045253091438, 29.520074592062585, 16.651631813704856, 19.62095569972007, 9.612238229045442, 9.337116744181145, 18.979447751347326, 6.997720328319367, 14.016618302237179, 9.330637310554863, 7.30465748743396, 18.813242720892397, 10.723526751104782, 5.096162164996493, 4.927321224244972, 7.231708302586209, 3.9694528672367237, 10.508726404661624], \"Category\": [\"Default\", \"Default\", \"Default\", \"Default\", \"Default\", \"Default\", \"Default\", \"Default\", \"Default\", \"Default\", \"Default\", \"Default\", \"Default\", \"Default\", \"Default\", \"Default\", \"Default\", \"Default\", \"Default\", \"Default\", \"Default\", \"Default\", \"Default\", \"Default\", \"Default\", \"Default\", \"Default\", \"Default\", \"Default\", \"Default\", \"Topic1\", \"Topic1\", \"Topic1\", \"Topic1\", \"Topic1\", \"Topic1\", \"Topic1\", \"Topic1\", \"Topic1\", \"Topic1\", \"Topic1\", \"Topic1\", \"Topic1\", \"Topic1\", \"Topic1\", \"Topic1\", \"Topic1\", \"Topic1\", \"Topic1\", \"Topic1\", \"Topic1\", \"Topic1\", \"Topic1\", \"Topic1\", \"Topic1\", \"Topic1\", \"Topic1\", \"Topic1\", \"Topic1\", \"Topic1\", \"Topic1\", \"Topic1\", \"Topic1\", \"Topic1\", \"Topic1\", \"Topic1\", \"Topic1\", \"Topic1\", \"Topic1\", \"Topic1\", \"Topic1\", \"Topic1\", \"Topic1\", \"Topic1\", \"Topic1\", \"Topic1\", \"Topic1\", \"Topic1\", \"Topic1\", \"Topic1\", \"Topic1\", \"Topic1\", \"Topic1\", \"Topic1\", \"Topic1\", \"Topic1\", \"Topic1\", \"Topic1\", \"Topic1\", \"Topic1\", \"Topic1\", \"Topic1\", \"Topic1\", \"Topic1\", \"Topic1\", \"Topic1\", \"Topic1\", \"Topic2\", \"Topic2\", \"Topic2\", \"Topic2\", \"Topic2\", \"Topic2\", \"Topic2\", \"Topic2\", \"Topic2\", \"Topic2\", \"Topic2\", \"Topic2\", \"Topic2\", \"Topic2\", \"Topic2\", \"Topic2\", \"Topic2\", \"Topic2\", \"Topic2\", \"Topic2\", \"Topic2\", \"Topic2\", \"Topic2\", \"Topic2\", \"Topic2\", \"Topic2\", \"Topic2\", \"Topic2\", \"Topic2\", \"Topic2\", \"Topic2\", \"Topic2\", \"Topic2\", \"Topic2\", \"Topic2\", \"Topic2\", \"Topic2\", \"Topic2\", \"Topic2\", \"Topic2\", \"Topic2\", \"Topic2\", \"Topic2\", \"Topic2\", \"Topic2\", \"Topic2\", \"Topic2\", \"Topic2\", \"Topic2\", \"Topic2\", \"Topic2\", \"Topic2\", \"Topic2\", \"Topic2\", \"Topic2\", \"Topic2\", \"Topic2\", \"Topic2\", \"Topic2\", \"Topic2\", \"Topic2\", \"Topic3\", \"Topic3\", \"Topic3\", \"Topic3\", \"Topic3\", \"Topic3\", \"Topic3\", \"Topic3\", \"Topic3\", \"Topic3\", \"Topic3\", \"Topic3\", \"Topic3\", \"Topic3\", \"Topic3\", \"Topic3\", \"Topic3\", \"Topic3\", \"Topic3\", \"Topic3\", \"Topic3\", \"Topic3\", \"Topic3\", \"Topic3\", \"Topic3\", \"Topic3\", \"Topic3\", \"Topic3\", \"Topic3\", \"Topic3\", \"Topic3\", \"Topic3\", \"Topic3\", \"Topic3\", \"Topic3\", \"Topic3\", \"Topic3\", \"Topic3\", \"Topic3\", \"Topic3\", \"Topic3\", \"Topic3\", \"Topic3\", \"Topic3\", \"Topic3\", \"Topic3\", \"Topic3\", \"Topic3\", \"Topic3\", \"Topic3\", \"Topic3\", \"Topic3\", \"Topic3\", \"Topic3\", \"Topic3\", \"Topic3\", \"Topic3\", \"Topic3\", \"Topic3\", \"Topic3\", \"Topic3\", \"Topic3\", \"Topic4\", \"Topic4\", \"Topic4\", \"Topic4\", \"Topic4\", \"Topic4\", \"Topic4\", \"Topic4\", \"Topic4\", \"Topic4\", \"Topic4\", \"Topic4\", \"Topic4\", \"Topic4\", \"Topic4\", \"Topic4\", \"Topic4\", \"Topic4\", \"Topic4\", \"Topic4\", \"Topic4\", \"Topic4\", \"Topic4\", \"Topic4\", \"Topic4\", \"Topic4\", \"Topic4\", \"Topic4\", \"Topic4\", \"Topic4\", \"Topic4\", \"Topic4\", \"Topic4\", \"Topic4\", \"Topic4\", \"Topic4\", \"Topic4\", \"Topic4\", \"Topic4\", \"Topic4\", \"Topic4\", \"Topic4\", \"Topic4\", \"Topic4\", \"Topic4\", \"Topic4\", \"Topic4\", \"Topic4\", \"Topic4\", \"Topic4\", \"Topic4\", \"Topic4\", \"Topic4\", \"Topic4\", \"Topic4\", \"Topic4\", \"Topic4\", \"Topic4\", \"Topic4\", \"Topic4\", \"Topic4\", \"Topic4\", \"Topic5\", \"Topic5\", \"Topic5\", \"Topic5\", \"Topic5\", \"Topic5\", \"Topic5\", \"Topic5\", \"Topic5\", \"Topic5\", \"Topic5\", \"Topic5\", \"Topic5\", \"Topic5\", \"Topic5\", \"Topic5\", \"Topic5\", \"Topic5\", \"Topic5\", \"Topic5\", \"Topic5\", \"Topic5\", \"Topic5\", \"Topic5\", \"Topic5\", \"Topic5\", \"Topic5\", \"Topic5\", \"Topic5\", \"Topic5\", \"Topic5\", \"Topic5\", \"Topic5\", \"Topic5\", \"Topic5\", \"Topic5\", \"Topic5\", \"Topic5\", \"Topic5\", \"Topic5\", \"Topic5\", \"Topic5\", \"Topic5\", \"Topic5\", \"Topic5\", \"Topic5\", \"Topic5\", \"Topic5\", \"Topic5\", \"Topic5\", \"Topic5\", \"Topic5\", \"Topic5\", \"Topic5\", \"Topic5\", \"Topic5\", \"Topic5\", \"Topic5\", \"Topic6\", \"Topic6\", \"Topic6\", \"Topic6\", \"Topic6\", \"Topic6\", \"Topic6\", \"Topic6\", \"Topic6\", \"Topic6\", \"Topic6\", \"Topic6\", \"Topic6\", \"Topic6\", \"Topic6\", \"Topic6\", \"Topic6\", \"Topic6\", \"Topic6\", \"Topic6\", \"Topic6\", \"Topic6\", \"Topic6\", \"Topic6\", \"Topic6\", \"Topic6\", \"Topic6\", \"Topic6\", \"Topic6\", \"Topic6\", \"Topic6\", \"Topic6\", \"Topic6\", \"Topic6\", \"Topic6\", \"Topic6\", \"Topic6\", \"Topic6\", \"Topic6\", \"Topic6\", \"Topic6\", \"Topic6\", \"Topic6\", \"Topic6\", \"Topic6\", \"Topic6\", \"Topic6\", \"Topic6\", \"Topic6\", \"Topic6\", \"Topic6\", \"Topic6\", \"Topic6\", \"Topic6\", \"Topic6\", \"Topic6\", \"Topic7\", \"Topic7\", \"Topic7\", \"Topic7\", \"Topic7\", \"Topic7\", \"Topic7\", \"Topic7\", \"Topic7\", \"Topic7\", \"Topic7\", \"Topic7\", \"Topic7\", \"Topic7\", \"Topic7\", \"Topic7\", \"Topic7\", \"Topic7\", \"Topic7\", \"Topic7\", \"Topic7\", \"Topic7\", \"Topic7\", \"Topic7\", \"Topic7\", \"Topic7\", \"Topic7\", \"Topic7\", \"Topic7\", \"Topic7\", \"Topic7\", \"Topic7\", \"Topic7\", \"Topic7\", \"Topic7\", \"Topic7\", \"Topic7\", \"Topic7\", \"Topic7\", \"Topic7\", \"Topic7\", \"Topic7\", \"Topic7\", \"Topic7\", \"Topic7\", \"Topic7\", \"Topic7\", \"Topic7\", \"Topic7\", \"Topic7\", \"Topic7\", \"Topic7\", \"Topic7\", \"Topic7\", \"Topic7\", \"Topic7\", \"Topic7\", \"Topic7\", \"Topic8\", \"Topic8\", \"Topic8\", \"Topic8\", \"Topic8\", \"Topic8\", \"Topic8\", \"Topic8\", \"Topic8\", \"Topic8\", \"Topic8\", \"Topic8\", \"Topic8\", \"Topic8\", \"Topic8\", \"Topic8\", \"Topic8\", \"Topic8\", \"Topic8\", \"Topic8\", \"Topic8\", \"Topic8\", \"Topic8\", \"Topic8\", \"Topic8\", \"Topic8\", \"Topic8\", \"Topic8\", \"Topic8\", \"Topic8\", \"Topic8\", \"Topic8\", \"Topic8\", \"Topic8\", \"Topic8\", \"Topic8\", \"Topic8\", \"Topic8\", \"Topic8\", \"Topic8\", \"Topic8\", \"Topic8\", \"Topic8\", \"Topic8\", \"Topic8\", \"Topic8\", \"Topic8\", \"Topic8\", \"Topic8\", \"Topic8\", \"Topic8\", \"Topic8\", \"Topic8\", \"Topic8\", \"Topic8\", \"Topic8\", \"Topic8\", \"Topic8\", \"Topic8\", \"Topic9\", \"Topic9\", \"Topic9\", \"Topic9\", \"Topic9\", \"Topic9\", \"Topic9\", \"Topic9\", \"Topic9\", \"Topic9\", \"Topic9\", \"Topic9\", \"Topic9\", \"Topic9\", \"Topic9\", \"Topic9\", \"Topic9\", \"Topic9\", \"Topic9\", \"Topic9\", \"Topic9\", \"Topic9\", \"Topic9\", \"Topic9\", \"Topic9\", \"Topic9\", \"Topic9\", \"Topic9\", \"Topic9\", \"Topic9\", \"Topic9\", \"Topic9\", \"Topic9\", \"Topic9\", \"Topic9\", \"Topic9\", \"Topic9\", \"Topic9\", \"Topic9\", \"Topic9\", \"Topic9\", \"Topic9\", \"Topic9\", \"Topic9\", \"Topic9\", \"Topic9\", \"Topic9\", \"Topic9\", \"Topic9\", \"Topic9\", \"Topic9\", \"Topic9\", \"Topic9\", \"Topic9\", \"Topic9\", \"Topic9\", \"Topic10\", \"Topic10\", \"Topic10\", \"Topic10\", \"Topic10\", \"Topic10\", \"Topic10\", \"Topic10\", \"Topic10\", \"Topic10\", \"Topic10\", \"Topic10\", \"Topic10\", \"Topic10\", \"Topic10\", \"Topic10\", \"Topic10\", \"Topic10\", \"Topic10\", \"Topic10\", \"Topic10\", \"Topic10\", \"Topic10\", \"Topic10\", \"Topic10\", \"Topic10\", \"Topic10\", \"Topic10\", \"Topic10\", \"Topic10\", \"Topic10\", \"Topic10\", \"Topic10\", \"Topic10\", \"Topic10\", \"Topic10\", \"Topic10\", \"Topic10\", \"Topic10\", \"Topic10\", \"Topic10\", \"Topic10\", \"Topic10\", \"Topic10\", \"Topic10\", \"Topic10\", \"Topic10\", \"Topic10\", \"Topic10\", \"Topic10\", \"Topic10\", \"Topic10\", \"Topic10\", \"Topic10\", \"Topic10\", \"Topic10\", \"Topic10\", \"Topic10\", \"Topic10\", \"Topic11\", \"Topic11\", \"Topic11\", \"Topic11\", \"Topic11\", \"Topic11\", \"Topic11\", \"Topic11\", \"Topic11\", \"Topic11\", \"Topic11\", \"Topic11\", \"Topic11\", \"Topic11\", \"Topic11\", \"Topic11\", \"Topic11\", \"Topic11\", \"Topic11\", \"Topic11\", \"Topic11\", \"Topic11\", \"Topic11\", \"Topic11\", \"Topic11\", \"Topic11\", \"Topic11\", \"Topic11\", \"Topic11\", \"Topic11\", \"Topic11\", \"Topic11\", \"Topic11\", \"Topic11\", \"Topic11\", \"Topic11\", \"Topic11\", \"Topic11\", \"Topic11\", \"Topic11\", \"Topic11\", \"Topic11\", \"Topic11\", \"Topic11\", \"Topic11\", \"Topic11\", \"Topic12\", \"Topic12\", \"Topic12\", \"Topic12\", \"Topic12\", \"Topic12\", \"Topic12\", \"Topic12\", \"Topic12\", \"Topic12\", \"Topic12\", \"Topic12\", \"Topic12\", \"Topic12\", \"Topic12\", \"Topic12\", \"Topic12\", \"Topic12\", \"Topic12\", \"Topic12\", \"Topic12\", \"Topic12\", \"Topic12\", \"Topic12\", \"Topic12\", \"Topic12\", \"Topic12\", \"Topic12\", \"Topic12\", \"Topic12\", \"Topic12\", \"Topic12\", \"Topic12\", \"Topic12\", \"Topic12\", \"Topic12\", \"Topic12\", \"Topic12\", \"Topic12\", \"Topic12\", \"Topic12\", \"Topic12\", \"Topic12\", \"Topic12\", \"Topic12\", \"Topic12\", \"Topic12\", \"Topic12\", \"Topic12\", \"Topic12\", \"Topic12\", \"Topic12\", \"Topic12\", \"Topic13\", \"Topic13\", \"Topic13\", \"Topic13\", \"Topic13\", \"Topic13\", \"Topic13\", \"Topic13\", \"Topic13\", \"Topic13\", \"Topic13\", \"Topic13\", \"Topic13\", \"Topic13\", \"Topic13\", \"Topic13\", \"Topic13\", \"Topic13\", \"Topic13\", \"Topic13\", \"Topic13\", \"Topic13\", \"Topic13\", \"Topic13\", \"Topic13\", \"Topic13\", \"Topic13\", \"Topic13\", \"Topic13\", \"Topic13\", \"Topic13\", \"Topic13\", \"Topic13\", \"Topic13\", \"Topic13\", \"Topic13\", \"Topic13\", \"Topic13\", \"Topic13\", \"Topic13\", \"Topic13\", \"Topic13\", \"Topic13\", \"Topic13\", \"Topic13\", \"Topic13\", \"Topic13\", \"Topic13\", \"Topic13\", \"Topic13\", \"Topic13\", \"Topic13\", \"Topic13\", \"Topic13\", \"Topic13\", \"Topic13\", \"Topic13\", \"Topic13\", \"Topic13\", \"Topic13\", \"Topic13\", \"Topic13\", \"Topic13\", \"Topic13\", \"Topic13\", \"Topic13\", \"Topic13\", \"Topic13\", \"Topic13\", \"Topic13\", \"Topic13\", \"Topic13\", \"Topic13\", \"Topic13\", \"Topic13\", \"Topic13\", \"Topic13\", \"Topic13\", \"Topic13\", \"Topic13\", \"Topic13\", \"Topic13\", \"Topic13\", \"Topic13\", \"Topic13\", \"Topic13\", \"Topic14\", \"Topic14\", \"Topic14\", \"Topic14\", \"Topic14\", \"Topic14\", \"Topic14\", \"Topic14\", \"Topic14\", \"Topic14\", \"Topic14\", \"Topic14\", \"Topic14\", \"Topic14\", \"Topic14\", \"Topic14\", \"Topic14\", \"Topic14\", \"Topic14\", \"Topic14\", \"Topic14\", \"Topic14\", \"Topic14\", \"Topic14\", \"Topic14\", \"Topic14\", \"Topic14\", \"Topic14\", \"Topic14\", \"Topic14\", \"Topic14\", \"Topic14\", \"Topic14\", \"Topic14\", \"Topic14\", \"Topic14\", \"Topic14\", \"Topic14\", \"Topic14\", \"Topic14\", \"Topic14\", \"Topic14\", \"Topic14\", \"Topic14\", \"Topic14\", \"Topic14\", \"Topic14\", \"Topic14\", \"Topic14\", \"Topic14\", \"Topic14\", \"Topic14\", \"Topic14\", \"Topic14\", \"Topic14\", \"Topic14\", \"Topic14\", \"Topic14\", \"Topic14\", \"Topic14\", \"Topic14\", \"Topic14\", \"Topic14\", \"Topic14\", \"Topic14\", \"Topic14\", \"Topic14\", \"Topic14\", \"Topic14\", \"Topic14\", \"Topic14\", \"Topic14\", \"Topic15\", \"Topic15\", \"Topic15\", \"Topic15\", \"Topic15\", \"Topic15\", \"Topic15\", \"Topic15\", \"Topic15\", \"Topic15\", \"Topic15\", \"Topic15\", \"Topic15\", \"Topic15\", \"Topic15\", \"Topic15\", \"Topic15\", \"Topic15\", \"Topic15\", \"Topic15\", \"Topic15\", \"Topic15\", \"Topic15\", \"Topic15\", \"Topic15\", \"Topic15\", \"Topic15\", \"Topic15\", \"Topic15\", \"Topic15\", \"Topic15\", \"Topic15\", \"Topic15\", \"Topic15\", \"Topic15\", \"Topic15\", \"Topic15\", \"Topic15\", \"Topic15\", \"Topic15\", \"Topic15\", \"Topic15\", \"Topic15\", \"Topic15\", \"Topic15\", \"Topic15\", \"Topic15\", \"Topic15\", \"Topic15\", \"Topic15\", \"Topic15\", \"Topic15\", \"Topic15\", \"Topic15\", \"Topic15\", \"Topic15\", \"Topic15\", \"Topic15\", \"Topic15\", \"Topic15\", \"Topic15\", \"Topic15\", \"Topic15\", \"Topic15\", \"Topic15\", \"Topic15\", \"Topic15\", \"Topic15\", \"Topic15\", \"Topic15\", \"Topic15\", \"Topic15\", \"Topic15\", \"Topic15\", \"Topic15\", \"Topic15\", \"Topic15\", \"Topic15\", \"Topic15\", \"Topic15\", \"Topic15\", \"Topic15\", \"Topic15\", \"Topic15\", \"Topic15\", \"Topic15\", \"Topic15\", \"Topic15\", \"Topic15\", \"Topic15\", \"Topic15\", \"Topic15\", \"Topic15\", \"Topic15\", \"Topic15\", \"Topic16\", \"Topic16\", \"Topic16\", \"Topic16\", \"Topic16\", \"Topic16\", \"Topic16\", \"Topic16\", \"Topic16\", \"Topic16\", \"Topic16\", \"Topic16\", \"Topic16\", \"Topic16\", \"Topic16\", \"Topic16\", \"Topic16\", \"Topic16\", \"Topic16\", \"Topic16\", \"Topic16\", \"Topic16\", \"Topic16\", \"Topic16\", \"Topic16\", \"Topic16\", \"Topic16\", \"Topic16\", \"Topic16\", \"Topic16\", \"Topic16\", \"Topic16\", \"Topic16\", \"Topic16\", \"Topic16\", \"Topic16\", \"Topic16\", \"Topic16\", \"Topic16\", \"Topic16\", \"Topic16\", \"Topic16\", \"Topic16\", \"Topic16\", \"Topic16\", \"Topic16\", \"Topic16\", \"Topic16\", \"Topic16\", \"Topic16\", \"Topic16\", \"Topic16\", \"Topic16\", \"Topic16\", \"Topic16\", \"Topic16\", \"Topic16\", \"Topic16\", \"Topic16\", \"Topic16\", \"Topic16\", \"Topic16\", \"Topic16\", \"Topic16\", \"Topic16\", \"Topic16\", \"Topic16\", \"Topic16\", \"Topic16\", \"Topic16\", \"Topic16\", \"Topic16\", \"Topic16\", \"Topic16\", \"Topic16\", \"Topic16\", \"Topic16\", \"Topic16\", \"Topic16\", \"Topic16\", \"Topic16\", \"Topic16\", \"Topic17\", \"Topic17\", \"Topic17\", \"Topic17\", \"Topic17\", \"Topic17\", \"Topic17\", \"Topic17\", \"Topic17\", \"Topic17\", \"Topic17\", \"Topic17\", \"Topic17\", \"Topic17\", \"Topic17\", \"Topic17\", \"Topic17\", \"Topic17\", \"Topic17\", \"Topic17\", \"Topic17\", \"Topic17\", \"Topic17\", \"Topic17\", \"Topic17\", \"Topic17\", \"Topic17\", \"Topic17\", \"Topic17\", \"Topic17\", \"Topic17\", \"Topic17\", \"Topic17\", \"Topic17\", \"Topic17\", \"Topic17\", \"Topic17\", \"Topic17\", \"Topic17\", \"Topic17\", \"Topic17\", \"Topic17\", \"Topic17\", \"Topic17\", \"Topic17\", \"Topic17\", \"Topic17\", \"Topic17\", \"Topic17\", \"Topic17\", \"Topic17\", \"Topic17\", \"Topic17\", \"Topic17\", \"Topic17\", \"Topic17\", \"Topic17\", \"Topic17\", \"Topic17\", \"Topic17\", \"Topic17\", \"Topic17\", \"Topic17\", \"Topic17\", \"Topic17\", \"Topic17\", \"Topic17\", \"Topic17\", \"Topic17\", \"Topic17\", \"Topic17\", \"Topic17\", \"Topic17\", \"Topic17\", \"Topic17\", \"Topic17\", \"Topic17\", \"Topic17\", \"Topic17\", \"Topic17\", \"Topic17\", \"Topic17\", \"Topic18\", \"Topic18\", \"Topic18\", \"Topic18\", \"Topic18\", \"Topic18\", \"Topic18\", \"Topic18\", \"Topic18\", \"Topic18\", \"Topic18\", \"Topic18\", \"Topic18\", \"Topic18\", \"Topic18\", \"Topic18\", \"Topic18\", \"Topic18\", \"Topic18\", \"Topic18\", \"Topic18\", \"Topic18\", \"Topic18\", \"Topic18\", \"Topic18\", \"Topic18\", \"Topic18\", \"Topic18\", \"Topic18\", \"Topic18\", \"Topic18\", \"Topic18\", \"Topic18\", \"Topic18\", \"Topic18\", \"Topic18\", \"Topic18\", \"Topic18\", \"Topic18\", \"Topic18\", \"Topic18\", \"Topic18\", \"Topic18\", \"Topic18\", \"Topic18\", \"Topic18\", \"Topic18\", \"Topic18\", \"Topic18\", \"Topic18\", \"Topic18\", \"Topic18\", \"Topic18\", \"Topic18\", \"Topic18\", \"Topic18\", \"Topic18\", \"Topic18\", \"Topic18\", \"Topic18\", \"Topic18\", \"Topic18\", \"Topic18\", \"Topic18\", \"Topic18\", \"Topic18\", \"Topic18\", \"Topic18\", \"Topic18\", \"Topic18\", \"Topic18\", \"Topic18\", \"Topic18\", \"Topic18\", \"Topic18\", \"Topic18\", \"Topic18\", \"Topic18\", \"Topic18\", \"Topic18\", \"Topic18\", \"Topic18\", \"Topic18\", \"Topic18\", \"Topic18\", \"Topic18\", \"Topic18\", \"Topic19\", \"Topic19\", \"Topic19\", \"Topic19\", \"Topic19\", \"Topic19\", \"Topic19\", \"Topic19\", \"Topic19\", \"Topic19\", \"Topic19\", \"Topic19\", \"Topic19\", \"Topic19\", \"Topic19\", \"Topic19\", \"Topic19\", \"Topic19\", \"Topic19\", \"Topic19\", \"Topic19\", \"Topic19\", \"Topic19\", \"Topic19\", \"Topic19\", \"Topic19\", \"Topic19\", \"Topic19\", \"Topic19\", \"Topic19\", \"Topic19\", \"Topic19\", \"Topic19\", \"Topic19\", \"Topic19\", \"Topic19\", \"Topic19\", \"Topic19\", \"Topic19\", \"Topic19\", \"Topic19\", \"Topic19\", \"Topic19\", \"Topic19\", \"Topic19\", \"Topic19\", \"Topic19\", \"Topic19\", \"Topic19\", \"Topic19\", \"Topic19\", \"Topic19\", \"Topic19\", \"Topic19\", \"Topic19\", \"Topic19\", \"Topic19\", \"Topic19\", \"Topic19\", \"Topic19\", \"Topic19\", \"Topic19\", \"Topic19\", \"Topic19\", \"Topic19\", \"Topic19\", \"Topic19\", \"Topic19\", \"Topic19\", \"Topic19\", \"Topic19\", \"Topic20\", \"Topic20\", \"Topic20\", \"Topic20\", \"Topic20\", \"Topic20\", \"Topic20\", \"Topic20\", \"Topic20\", \"Topic20\", \"Topic20\", \"Topic20\", \"Topic20\", \"Topic20\", \"Topic20\", \"Topic20\", \"Topic20\", \"Topic20\", \"Topic20\", \"Topic20\", \"Topic20\", \"Topic20\", \"Topic20\", \"Topic20\", \"Topic20\", \"Topic20\", \"Topic20\", \"Topic20\", \"Topic20\", \"Topic20\", \"Topic20\", \"Topic20\", \"Topic20\", \"Topic20\", \"Topic20\", \"Topic20\", \"Topic20\", \"Topic20\", \"Topic20\", \"Topic20\", \"Topic20\", \"Topic20\", \"Topic20\", \"Topic20\", \"Topic20\", \"Topic20\", \"Topic20\", \"Topic20\", \"Topic20\", \"Topic20\", \"Topic20\", \"Topic20\", \"Topic20\", \"Topic20\", \"Topic20\", \"Topic20\", \"Topic20\", \"Topic20\", \"Topic20\", \"Topic20\", \"Topic20\", \"Topic20\", \"Topic20\", \"Topic20\", \"Topic20\", \"Topic20\", \"Topic20\", \"Topic20\", \"Topic20\", \"Topic20\", \"Topic20\", \"Topic20\"], \"logprob\": [30.0, 29.0, 28.0, 27.0, 26.0, 25.0, 24.0, 23.0, 22.0, 21.0, 20.0, 19.0, 18.0, 17.0, 16.0, 15.0, 14.0, 13.0, 12.0, 11.0, 10.0, 9.0, 8.0, 7.0, 6.0, 5.0, 4.0, 3.0, 2.0, 1.0, -4.8289, -5.6663, -5.6663, -5.6664, -5.6668, -5.6684, -4.3796, -6.0613, -6.0626, -6.0632, -6.0634, -6.0636, -6.0636, -6.0635, -6.0638, -6.0639, -6.0635, -6.0638, -6.0638, -6.0639, -6.0638, -6.064, -6.0639, -6.0641, -6.0641, -6.0642, -6.0642, -6.0641, -6.064, -6.0643, -4.9852, -4.7097, -5.1598, -5.3817, -5.3828, -4.3973, -5.3826, -4.7061, -5.3828, -5.3846, -5.4049, -4.5893, -4.9794, -4.9839, -4.3102, -4.1599, -5.6668, -5.6675, -3.6853, -5.6667, -4.5081, -4.5894, -4.5821, -4.9807, -4.7092, -4.8314, -4.3919, -4.5343, -4.8605, -5.1618, -4.3756, -4.7095, -5.1639, -5.0434, -5.1841, -5.2134, -5.3808, -4.4911, -5.1688, -5.1702, -5.1705, -5.1707, -5.1725, -4.7746, -5.8369, -5.8373, -5.8378, -5.8377, -5.8376, -5.8378, -5.8376, -5.8378, -5.8378, -5.8378, -5.8382, -5.8379, -5.838, -5.8381, -5.838, -5.8381, -5.8382, -5.8383, -5.8383, -5.8382, -5.8385, -5.8385, -5.8383, -5.8383, -4.4925, -3.3979, -4.7722, -3.2451, -4.2727, -4.4935, -3.8122, -4.0863, -5.1672, -5.1684, -5.1644, -5.1734, -5.1697, -5.1711, -5.1716, -4.2688, -4.087, -5.1726, -4.7726, -5.1705, -4.4857, -5.1719, -5.2171, -4.5257, -5.1671, -5.1643, -5.1647, -5.1648, -5.1651, -5.1697, -4.9867, -4.9898, -4.99, -4.9903, -4.9903, -4.9921, -4.9919, -4.9938, -5.0797, -5.6554, -5.6555, -5.6555, -5.6555, -5.6555, -5.6556, -5.6556, -5.6557, -5.6557, -5.6557, -5.6558, -5.6558, -5.6558, -5.6559, -5.6559, -5.656, -5.656, -5.656, -5.6561, -5.6562, -5.6562, -3.7543, -4.9904, -4.5932, -4.9903, -4.1091, -4.9908, -4.9878, -4.5933, -4.9896, -4.5186, -3.3013, -4.9905, -3.3067, -4.6032, -4.242, -3.9725, -4.5861, -4.9878, -4.4646, -4.5524, -4.4718, -4.4769, -4.4922, -4.8631, -4.8668, -4.8749, -4.8652, -4.888, -4.8804, -4.8903, -4.8732, -4.9168, -4.8725, -5.5387, -5.5387, -5.5387, -5.5387, -5.5387, -5.5387, -5.5387, -5.5387, -5.5387, -5.5444, -5.5445, -5.5443, -5.5443, -5.5442, -5.5445, -5.5445, -5.5445, -5.5444, -5.5445, -5.5447, -5.5444, -5.5446, -5.5445, -5.5446, -5.5446, -5.5444, -5.5442, -5.5447, -5.5446, -5.5443, -5.5445, -4.8723, -4.8696, -5.5444, -3.9713, -4.8762, -4.8723, -3.6342, -4.8736, -4.8758, -4.8683, -4.8759, -4.1889, -3.9668, -4.8735, -4.8756, -4.4748, -4.4707, -4.874, -4.8709, -4.8662, -4.8703, -4.8711, -4.8653, -4.8658, -5.5313, -5.5302, -5.5325, -5.5332, -5.5338, -5.5341, -4.6157, -4.6164, -5.2846, -5.2847, -5.2848, -5.2849, -5.2849, -5.2849, -5.2849, -5.285, -5.285, -5.2851, -5.2851, -5.2851, -5.2851, -5.2851, -5.2851, -5.2852, -5.2852, -5.2852, -5.2853, -5.2853, -5.2853, -5.2853, -5.2852, -5.2853, -5.2853, -5.2853, -5.2853, -5.2854, -3.7149, -3.5326, -3.5325, -4.6124, -3.9346, -4.6142, -4.6154, -4.2174, -4.6156, -4.6166, -4.2178, -4.6159, -4.2171, -4.6144, -4.2176, -4.6159, -4.6154, -4.6153, -4.6133, -4.6143, -4.6149, -4.6128, -4.6146, -4.6105, -5.2698, -5.2785, -5.28, -5.2806, -4.6193, -5.2871, -5.2873, -5.2878, -5.2878, -5.2877, -5.2882, -5.2879, -5.2883, -5.2887, -5.2891, -5.2894, -5.2889, -5.289, -5.2897, -5.2896, -5.2899, -5.2938, -5.2983, -5.3091, -5.3091, -5.3135, -5.3146, -5.3505, -5.3807, -4.2201, -5.4275, -4.6194, -5.2965, -4.2237, -4.2233, -3.3669, -4.6194, -4.6193, -3.7182, -2.9348, -4.6204, -4.6212, -4.6202, -4.6197, -4.6235, -4.0257, -3.4733, -4.2452, -3.7709, -4.0331, -4.6153, -3.9056, -4.6202, -4.62, -5.0569, -5.2768, -5.2784, -5.2791, -5.2798, -5.2816, -4.3905, -5.0439, -5.0439, -5.0439, -5.0439, -5.0448, -5.0448, -5.0448, -5.0448, -5.0451, -5.0451, -5.0452, -5.0453, -5.0453, -5.0454, -5.0454, -5.0454, -5.0455, -5.0457, -5.0458, -5.0458, -5.0459, -5.046, -5.0462, -5.0468, -4.4055, -5.0451, -5.0452, -3.6928, -5.0451, -3.9748, -4.3727, -3.4324, -3.1075, -3.6927, -4.3273, -4.3724, -3.9341, -4.3762, -4.3302, -4.3218, -4.3542, -4.9798, -4.9924, -5.0026, -5.0026, -4.9973, -5.0017, -4.9998, -5.0111, -5.0097, -5.0114, -5.0117, -4.9964, -5.0243, -5.034, -5.0281, -5.0284, -4.3579, -4.3575, -5.0255, -5.0263, -5.0259, -5.0266, -5.0266, -5.0266, -5.0267, -5.0267, -5.0266, -5.0267, -5.0267, -5.0268, -5.0267, -5.0262, -5.0269, -5.027, -5.027, -5.027, -5.0272, -5.0273, -5.0272, -5.0273, -5.0273, -5.0273, -5.0266, -5.0274, -5.0273, -5.0266, -5.0267, -3.9582, -4.3545, -4.3571, -3.9581, -4.356, -3.6736, -4.3557, -4.3562, -4.3551, -4.354, -4.353, -5.0189, -5.0195, -5.0168, -5.0186, -5.0192, -5.0196, -5.02, -5.0209, -5.0218, -5.0221, -5.0223, -5.0223, -5.0227, -5.0227, -5.0229, -5.0238, -5.0239, -5.0148, -5.015, -5.0148, -5.0146, -5.0151, -5.0148, -5.015, -5.0153, -5.015, -5.0147, -5.015, -5.0153, -5.0155, -5.0155, -5.0152, -5.0154, -5.0154, -5.0152, -5.0156, -5.0156, -5.0155, -5.0157, -5.0154, -5.0162, -5.0161, -4.3456, -4.3464, -3.6648, -5.0129, -5.015, -4.3457, -4.3464, -3.664, -4.3461, -4.3462, -4.346, -4.3458, -4.3431, -4.3459, -4.344, -4.3417, -4.3385, -5.0053, -5.0071, -5.0093, -5.0097, -5.01, -5.0101, -5.0108, -5.0109, -5.0115, -5.0117, -5.0119, -5.0123, -5.0124, -5.0126, -4.8536, -4.8536, -4.8536, -4.8536, -4.8536, -4.8536, -4.8536, -4.8536, -4.8536, -4.8536, -4.8536, -4.878, -4.8781, -4.8832, -4.8829, -4.8832, -4.889, -4.8913, -4.9051, -4.9107, -4.9204, -4.9425, -5.0329, -4.8536, -4.8522, -4.8668, -4.8773, -4.9087, -4.9497, -4.8533, -4.1884, -4.2207, -3.3563, -3.7994, -3.7837, -4.3257, -4.1816, -4.0524, -4.1926, -4.2353, -4.2442, -4.5475, -4.5722, -4.8505, -4.8536, -4.8533, -4.8466, -4.8467, -4.848, -4.8497, -4.8503, -4.8508, -4.8523, -4.8525, -4.8528, -4.8529, -4.853, -4.8531, -4.8532, -4.2439, -4.2439, -4.2439, -4.2439, -4.2439, -4.2439, -4.2439, -4.244, -4.244, -4.2336, -4.244, -4.2433, -4.2433, -4.2435, -4.2347, -4.2381, -4.2421, -4.243, -4.2431, -4.2361, -7.2883, -7.2883, -7.2883, -7.2883, -3.1645, -7.2883, -7.2883, -7.2883, -7.2883, -7.2883, -4.2212, -4.2295, -7.2168, -7.2195, -7.2269, -7.227, -7.2384, -7.1022, -7.1254, -7.0399, -7.0543, -7.1337, -7.0952, -7.0937, -7.0993, -7.0914, -4.1266, -4.1269, -4.127, -4.1271, -4.1265, -4.1264, -4.1261, -4.127, -3.4573, -4.1241, -4.126, -4.1262, -4.1235, -4.1245, -4.1233, -7.1671, -7.1671, -7.1671, -7.1671, -7.1671, -7.1671, -7.1671, -7.1671, -7.1671, -7.1671, -7.1671, -7.1671, -7.1671, -7.1671, -7.1671, -4.1169, -7.1471, -7.1499, -7.1505, -7.1515, -7.1517, -6.9812, -6.9594, -7.0183, -7.0261, -7.0633, -7.0716, -7.0594, -7.0649, -7.0768, -7.134, -7.0673, -7.0868, -7.0785, -7.0931, -7.0716, -7.0875, -7.0857, -6.8773, -6.8773, -6.8773, -6.8773, -6.8773, -6.8773, -6.8773, -6.8773, -6.8773, -6.8773, -6.8773, -6.8773, -6.8773, -6.8521, -6.8521, -6.8528, -6.85, -6.8572, -6.8567, -6.8546, -6.8514, -6.8594, -6.8604, -6.8633, -6.8245, -6.854, -6.8287, -6.8291, -6.8297, -6.8304, -6.8304, -6.8326, -6.8328, -6.8334, -6.8337, -6.836, -6.8363, -6.8364, -6.8373, -6.8389, -6.8395, -6.8395, -6.8138, -6.8179, -6.8194, -6.2163, -6.2615, -6.8202, -6.5297, -6.6249, -6.5401, -6.825, -6.8266, -6.5872, -6.6785, -6.7364, -6.7271, -6.8295, -6.7102, -6.7919, -6.7706, -6.7927, -6.6426, -6.7122, -6.6998, -6.7559, -6.719, -6.6864, -6.6493, -6.725, -6.73, -6.6813, -6.7954, -6.6698, -6.6986, -6.7269, -6.7183, -6.7628, -6.7659, -6.709, -6.7399, -6.7405, -6.7347, -6.7419, -6.7368, -6.7499, -6.8736, -6.8736, -6.8736, -6.8736, -6.8736, -6.8736, -6.8736, -6.8736, -6.8736, -6.8736, -6.8736, -6.8736, -6.8736, -6.8298, -6.835, -6.8375, -6.8395, -6.8378, -6.844, -6.844, -6.8439, -6.8438, -6.8502, -6.8463, -6.8437, -6.8736, -6.8736, -6.8736, -6.8736, -6.8736, -6.8316, -6.8303, -6.8348, -6.835, -6.8357, -6.8381, -6.5092, -6.5723, -6.5195, -6.838, -6.5832, -6.5502, -6.8057, -6.8415, -6.8354, -6.677, -6.7999, -6.6493, -6.6629, -6.7487, -6.6954, -6.6955, -6.7139, -6.7229, -6.7656, -6.7551, -6.7383, -6.737, -6.7354, -6.7705, -6.7587, -6.7709, -6.7596, -6.7692, -6.7995, -6.762, -6.7718, -6.7813, -6.791, -6.7738, -6.7884, -6.7874, -6.8638, -6.8638, -6.8638, -6.8638, -6.8592, -6.8599, -6.8602, -6.8603, -6.8607, -6.8609, -6.861, -6.861, -6.8616, -6.8233, -6.8249, -6.8638, -6.8638, -6.8638, -6.8638, -6.8638, -6.8638, -6.8638, -6.8638, -6.8638, -6.8638, -6.8638, -6.8638, -6.8638, -6.8638, -6.8638, -6.8302, -6.8323, -6.8324, -6.8329, -6.833, -6.8331, -6.8368, -6.8373, -6.8379, -6.8433, -6.8435, -6.8437, -6.8439, -6.822, -6.8236, -6.8241, -6.8241, -6.8245, -6.8247, -6.8253, -6.8256, -6.8259, -6.8261, -6.8267, -6.827, -6.8271, -6.8274, -6.8274, -6.8278, -6.828, -6.8288, -6.7501, -6.8289, -6.829, -6.829, -6.6501, -6.7926, -6.8291, -6.7501, -6.7693, -6.8012, -6.7902, -6.7841, -6.7921, -6.7951, -6.7968, -6.7928, -6.8031, -6.7987, -6.7952, -6.7978, -6.7857, -6.8017, -6.8105, -6.7997, -6.7962, -6.7959, -6.8008, -6.8015, -6.8054, -6.8135, -6.8135, -6.8155, -6.8178, -6.818, -6.867, -6.867, -6.867, -6.867, -6.867, -6.867, -6.867, -6.867, -6.867, -6.867, -6.867, -6.867, -6.867, -6.867, -6.867, -6.867, -6.867, -6.867, -6.867, -6.867, -6.867, -6.867, -6.867, -6.867, -6.867, -6.867, -6.867, -6.867, -6.867, -6.867, -6.8445, -6.8469, -6.847, -6.8476, -6.8477, -6.8477, -6.8483, -6.8485, -6.8485, -6.8486, -6.8488, -6.8489, -6.849, -6.849, -6.8492, -6.8492, -6.8492, -6.6106, -6.7484, -6.6982, -6.7399, -6.726, -6.7381, -6.7033, -6.7108, -6.7254, -6.7325, -6.7156, -6.8094, -6.7686, -6.7453, -6.7164, -6.7719, -6.7431, -6.7642, -6.7987, -6.7919, -6.8147, -6.7674, -6.8106, -6.785, -6.8292, -6.8201, -6.778, -6.7898, -6.7844, -6.7927, -6.8001, -6.7832, -6.8013, -6.8054, -6.8067, -6.8591, -6.8591, -6.8591, -6.8591, -6.8591, -6.8591, -6.8591, -6.8591, -6.8591, -6.8591, -6.8591, -6.8591, -6.8591, -6.8591, -6.8591, -6.8591, -6.8591, -6.8591, -6.8591, -6.8591, -6.8591, -6.8591, -6.8591, -6.8591, -6.8591, -6.8591, -6.8591, -6.8591, -6.8591, -6.8591, -6.8455, -6.847, -6.8479, -6.848, -6.8481, -6.8483, -6.8484, -6.8484, -6.8484, -6.849, -6.8493, -6.8493, -6.8494, -6.8498, -6.8498, -6.8498, -6.8504, -6.7379, -6.851, -6.851, -6.8511, -6.8513, -6.7968, -6.7975, -6.8011, -6.7959, -6.8181, -6.801, -6.8238, -6.8155, -6.8207, -6.8186, -6.8194, -6.8125, -6.8356, -6.8178, -6.8265, -6.8302, -6.8224, -6.8233, -6.8159, -6.8277, -6.8304, -6.8195, -6.8194, -6.8292, -6.8172, -6.8222, -6.8242, -6.8245, -6.8247, -6.8284, -6.8608, -6.8608, -6.8608, -6.8608, -6.8608, -6.8608, -6.8608, -6.8608, -6.8608, -6.8608, -6.8608, -6.8608, -6.8608, -6.8608, -6.8608, -6.8608, -6.8608, -6.8608, -6.8608, -6.8608, -6.8608, -6.8608, -6.8608, -6.8608, -6.8608, -6.8608, -6.8608, -6.8608, -6.8608, -6.8608, -6.8398, -6.8399, -6.8404, -6.8409, -6.8412, -6.8414, -6.8415, -6.8416, -6.8416, -6.8417, -6.8417, -6.8419, -6.842, -6.8423, -6.8424, -6.8427, -6.8427, -6.8428, -6.8431, -6.8431, -6.8431, -6.8434, -6.8434, -6.8435, -6.8436, -6.8438, -6.7473, -6.7817, -6.7709, -6.7993, -6.7972, -6.7954, -6.8006, -6.7967, -6.8087, -6.8037, -6.8077, -6.8096, -6.8187, -6.8149, -6.8172, -6.8212, -6.8242, -6.8177, -6.8287, -6.827, -6.805, -6.8136, -6.8202, -6.8218, -6.823, -6.8233, -6.8243, -6.8255, -6.8257, -6.8261, -6.8283, -6.8575, -6.8575, -6.8575, -6.8575, -6.8575, -6.8575, -6.8575, -6.8575, -6.8575, -6.8575, -6.8575, -6.8575, -6.8575, -6.8575, -6.8575, -6.8575, -6.8575, -6.8575, -6.8575, -6.8575, -6.8575, -6.8575, -6.8575, -6.8575, -6.8575, -6.8575, -6.8575, -6.8575, -6.8575, -6.8575, -6.852, -6.8522, -6.8523, -6.8523, -6.8524, -6.8524, -6.8525, -6.8525, -6.8525, -6.7856, -6.8195, -6.8175, -6.8209, -6.8159, -6.8174, -6.8163, -6.8176, -6.8256, -6.8238, -6.8305, -6.8338, -6.8211, -6.8458, -6.835, -6.8435, -6.8244, -6.8277, -6.8291, -6.8312, -6.8315, -6.8321, -6.8369, -6.8371, -6.8371, -6.8379, -6.8388, -6.8392, -6.8396, -6.84, -6.8409, -6.8414, -6.8567, -6.8567, -6.8567, -6.8567, -6.8567, -6.8567, -6.8567, -6.8567, -6.8567, -6.8567, -6.8567, -6.8567, -6.8567, -6.8567, -6.8567, -6.8567, -6.8567, -6.8567, -6.8567, -6.8567, -6.8567, -6.8567, -6.8567, -6.8567, -6.8567, -6.8567, -6.8567, -6.8567, -6.8567, -6.8567, -6.8055, -6.8216, -6.8152, -6.8297, -6.852, -6.8359, -6.8523, -6.8523, -6.8524, -6.8525, -6.8527, -6.8527, -6.8528, -6.8528, -6.8528, -6.8528, -6.8528, -6.8281, -6.8284, -6.8289, -6.8309, -6.8314, -6.8317, -6.832, -6.8328, -6.834, -6.8347, -6.8355, -6.8364, -6.8398, -6.8398, -6.8398, -6.8409, -6.8419, -6.8422, -6.8426, -6.8427, -6.8432, -6.8432, -6.8443, -6.8448, -6.845], \"loglift\": [30.0, 29.0, 28.0, 27.0, 26.0, 25.0, 24.0, 23.0, 22.0, 21.0, 20.0, 19.0, 18.0, 17.0, 16.0, 15.0, 14.0, 13.0, 12.0, 11.0, 10.0, 9.0, 8.0, 7.0, 6.0, 5.0, 4.0, 3.0, 2.0, 1.0, 0.9966, 0.9301, 0.93, 0.9297, 0.9295, 0.9282, 0.889, 0.8769, 0.876, 0.8759, 0.8759, 0.8759, 0.8757, 0.8757, 0.8756, 0.8756, 0.8756, 0.8756, 0.8755, 0.8755, 0.8754, 0.8754, 0.8753, 0.8753, 0.8752, 0.8752, 0.8751, 0.8751, 0.8751, 0.875, 0.8524, 0.8105, 0.8226, 0.8065, 0.8056, 0.6388, 0.7817, 0.6671, 0.772, 0.7701, 0.7599, 0.5637, 0.5936, 0.5654, 0.3597, 0.2621, 0.7378, 0.7375, 0.0183, 0.7363, 0.2985, 0.2749, 0.2633, 0.4301, 0.2615, 0.3116, 0.0063, -0.0334, 0.2179, 0.3881, -0.5545, -0.2532, 0.2671, -0.2036, -0.0709, -0.2148, 0.521, 1.9328, 1.8453, 1.8436, 1.8433, 1.8431, 1.8417, 1.7067, 1.6913, 1.6908, 1.6907, 1.6906, 1.6906, 1.6904, 1.6904, 1.6903, 1.6903, 1.6903, 1.6902, 1.6902, 1.6902, 1.6902, 1.6902, 1.6901, 1.69, 1.69, 1.69, 1.69, 1.6899, 1.6898, 1.6898, 1.6898, 1.3534, 1.0585, 1.292, 0.576, 0.9686, 1.0295, 0.6888, 0.7536, 1.2925, 1.2912, 1.2649, 1.2443, 1.2119, 1.2109, 1.2101, 0.5378, 0.3111, 1.1356, 0.7189, 1.0373, 0.1843, 0.869, 0.8741, -0.8221, 0.7357, -0.3189, -0.1661, -0.0864, -0.1944, 0.3795, 2.0646, 2.0629, 2.0628, 2.0627, 2.0627, 2.0602, 2.06, 2.058, 1.9633, 1.9039, 1.9038, 1.9038, 1.9038, 1.9038, 1.9038, 1.9038, 1.9038, 1.9038, 1.9038, 1.9037, 1.9037, 1.9037, 1.9037, 1.9037, 1.9037, 1.9037, 1.9037, 1.9036, 1.9036, 1.9036, 1.7255, 1.7722, 1.6895, 1.7469, 1.5099, 1.7293, 1.7153, 1.5179, 1.6582, 1.2746, 0.5198, 1.5117, 0.3969, 1.224, 0.7566, 0.5284, 0.9975, 1.3092, 0.7768, 0.5608, 0.3681, 0.3297, -0.0702, 0.8696, 0.7738, 0.5659, 0.4628, 0.4227, 0.198, 0.1458, -0.2033, 0.3641, 2.1875, 2.0273, 2.0273, 2.0273, 2.0273, 2.0273, 2.0273, 2.0273, 2.0273, 2.0273, 2.0234, 2.0234, 2.0234, 2.0234, 2.0234, 2.0233, 2.0233, 2.0233, 2.0233, 2.0233, 2.0233, 2.0233, 2.0233, 2.0232, 2.0232, 2.0232, 2.0232, 2.0232, 2.0232, 2.0232, 2.0232, 2.0232, 1.8961, 1.8753, 2.0232, 1.3096, 1.6192, 1.4036, 0.0694, 1.2816, 1.2531, 1.1889, 1.1811, 0.2331, -0.1457, 1.0297, 1.0262, 0.3738, 0.1993, 0.5368, 0.4397, 0.2768, 0.208, 0.1275, 0.1055, -0.4094, 1.4666, -1.0293, 1.1051, 1.1637, 1.4639, 1.4636, 2.4914, 2.4907, 2.3211, 2.321, 2.321, 2.3209, 2.3208, 2.3208, 2.3208, 2.3208, 2.3207, 2.3207, 2.3207, 2.3207, 2.3206, 2.3206, 2.3206, 2.3206, 2.3205, 2.3205, 2.3205, 2.3205, 2.3205, 2.3205, 2.3205, 2.3205, 2.3205, 2.3204, 2.3204, 2.3204, 1.8688, 0.8655, 0.2885, 1.5475, 0.7354, 1.5147, 1.455, 0.9255, 1.4296, 1.4273, 0.7529, 1.2869, 0.6472, 1.1941, 0.2044, 1.0031, 0.9305, 0.8762, 0.8177, 0.777, 0.5381, 0.2271, -0.1136, -0.1541, -1.5662, -0.1653, -0.0114, 0.0474, 2.4984, 2.3268, 2.3263, 2.3262, 2.3262, 2.3262, 2.3259, 2.3259, 2.3256, 2.3255, 2.3253, 2.3252, 2.3251, 2.325, 2.3249, 2.3248, 2.3239, 2.3222, 2.3181, 2.3081, 2.3081, 2.3042, 2.3031, 2.2706, 2.2433, 2.2276, 2.2005, 2.1293, 2.066, 1.9363, 1.8673, 1.4785, 1.8979, 1.883, 1.395, 0.7687, 1.8397, 1.8365, 1.8155, 1.7205, 1.6847, 0.9729, 0.3478, 1.1858, 0.6273, 0.8067, 1.4841, 0.5507, 0.6212, 0.4162, 0.3343, 0.8344, 0.4916, 0.778, -0.8578, 0.0464, 2.798, 2.63, 2.63, 2.63, 2.63, 2.6296, 2.6296, 2.6296, 2.6296, 2.6295, 2.6295, 2.6295, 2.6294, 2.6294, 2.6294, 2.6294, 2.6294, 2.6294, 2.6293, 2.6293, 2.6275, 2.6274, 2.6273, 2.6271, 2.6263, 2.3596, 2.1691, 2.1507, 2.1344, 2.1135, 1.7514, 1.8713, 1.4162, 0.5961, 1.1716, 1.764, 1.7803, 0.4879, 1.1968, 0.9805, 0.1792, 0.0439, 1.7779, 0.4874, 0.8021, 0.6164, 0.2836, 0.2397, 0.0363, 0.5388, 0.3815, 0.5116, 0.3991, -1.1753, 0.8217, 1.7105, 0.8803, -0.2218, 2.8269, 2.8264, 2.6432, 2.6428, 2.6427, 2.6426, 2.6425, 2.6425, 2.6425, 2.6425, 2.6424, 2.6424, 2.6424, 2.6424, 2.6424, 2.6423, 2.6423, 2.6422, 2.6421, 2.6421, 2.642, 2.642, 2.642, 2.6419, 2.6419, 2.6419, 2.6419, 2.6418, 2.6418, 2.6418, 2.6417, 1.8118, 1.6661, 1.6058, 0.8906, 1.4387, 0.03, 1.0551, 1.035, 0.9729, 0.7244, -0.5319, 2.0362, 2.036, -0.6186, 1.6103, -0.5972, 1.7221, -0.1746, 0.1322, 2.0333, 0.2465, 1.0898, 1.7443, 1.6997, 1.203, 0.4686, 0.8984, 0.6167, 2.6556, 2.6555, 2.6553, 2.6553, 2.6553, 2.6552, 2.6552, 2.6552, 2.6551, 2.655, 2.655, 2.6549, 2.6549, 2.6549, 2.6549, 2.6549, 2.6548, 2.6548, 2.6548, 2.6547, 2.6545, 2.6544, 2.6544, 2.6541, 2.6541, 2.4191, 2.4182, 2.3924, 2.1724, 2.1068, 2.0061, 1.7648, 1.1846, 1.6074, 1.4541, 1.3154, 1.2001, 1.0977, 0.9821, 0.4627, -0.5206, -0.6349, 0.9576, -0.5851, 0.6312, 0.1434, 0.0683, 0.2313, -0.1465, -0.0402, 0.1315, 0.9383, 1.1407, 1.4964, -0.0138, 1.1758, 2.8582, 2.8582, 2.8582, 2.8582, 2.8582, 2.8582, 2.8582, 2.8582, 2.8582, 2.8582, 2.8582, 2.8329, 2.8324, 2.8274, 2.8272, 2.8271, 2.8212, 2.8187, 2.8028, 2.7971, 2.7869, 2.7619, 2.663, 2.3607, 2.3181, 2.274, 2.242, 2.1668, 2.1234, 2.068, 1.8687, 1.512, 0.4648, 0.7015, 0.6383, 1.0655, 0.6827, 0.3458, 0.6561, 0.6101, 0.2122, 0.2924, 0.4264, 1.9343, 1.9773, 1.9296, 0.1242, 0.2963, 0.6979, 0.461, 1.4909, 0.4772, 1.4889, 1.597, 1.2593, 1.11, 1.2954, 1.1675, 1.4543, 3.8077, 3.8076, 3.8076, 3.8076, 3.8076, 3.8076, 3.8076, 3.8076, 3.8076, 3.1289, 3.1098, 3.0498, 3.0497, 2.6778, 2.3942, 1.7248, 1.5526, 1.376, 1.2367, 1.1552, 0.8699, 0.8696, 0.8695, 0.8695, 0.5391, 0.4234, 0.4234, 0.4234, 0.4234, 0.4234, 0.2352, -0.4084, 0.3979, 0.3951, 0.3875, 0.3873, 0.3756, -1.0116, -0.8172, -2.2001, -2.0556, -0.9738, -1.8538, -1.9805, -2.0631, -2.6932, 4.0316, 4.0311, 4.0308, 4.0306, 3.2424, 3.1628, 2.5217, 2.3207, 2.3128, 2.0311, 1.9852, 1.9732, 1.5379, 1.4254, 1.0297, 0.8845, 0.8845, 0.8845, 0.8845, 0.8845, 0.8844, 0.8844, 0.8844, 0.8844, 0.5446, 0.5446, 0.5446, 0.5446, 0.5446, 0.5446, -0.4133, 0.414, 0.411, 0.4106, 0.4098, 0.4092, -2.4802, -3.1383, -2.5963, -2.5698, -1.7527, -1.5918, -2.0232, -1.9865, -1.8354, -0.081, -2.2607, -1.8182, -2.2386, -1.5729, -2.6735, -2.1168, -2.4157, 1.2808, 1.2806, 1.2805, 1.2804, 1.1742, 1.1742, 1.1742, 1.1742, 1.1742, 1.1742, 1.1742, 1.1742, 1.1742, 0.8581, 0.8579, 0.8579, 0.8573, 0.8537, 0.8536, 0.8532, 0.853, 0.8512, 0.8476, 0.8469, 0.8459, 0.8418, 0.8417, 0.8414, 0.8407, 0.84, 0.8399, 0.8376, 0.8376, 0.837, 0.8365, 0.8342, 0.8339, 0.8338, 0.833, 0.8312, 0.8306, 0.8305, 0.7478, 0.7437, 0.742, -2.3953, -2.5579, 0.7411, -1.0499, -0.5137, -1.4269, 0.7363, 0.7346, -1.5886, -0.6961, -0.2534, -0.4301, 0.7316, -0.653, 0.2611, -0.0334, 0.2603, -1.7971, -0.8849, -1.0807, -0.2472, -0.9187, -1.445, -2.2273, -0.94, -0.9369, -1.8747, 0.2574, -2.1688, -1.8499, -1.2039, -1.4375, -0.411, -0.4414, -1.8692, -1.0785, -1.1676, -1.4067, -1.3506, -2.2804, -1.7138, 1.2845, 1.2843, 1.2842, 1.2841, 1.178, 1.178, 1.1779, 1.1779, 1.1779, 1.1779, 1.1779, 1.1779, 1.1779, 0.8775, 0.875, 0.8727, 0.8711, 0.8699, 0.8669, 0.8663, 0.8662, 0.8641, 0.8603, 0.8581, 0.8521, 0.8381, 0.8381, 0.8381, 0.8381, 0.8381, 0.7924, 0.7857, 0.7829, 0.7822, 0.7806, 0.7797, -1.6638, -1.7657, -2.816, 0.7792, -2.185, -2.7292, 0.3136, 0.7865, 0.6931, -1.5239, 0.2142, -2.1484, -2.2065, -0.6845, -1.7247, -2.2735, -1.8741, -1.8586, -0.9196, -1.2058, -1.6599, -1.7009, -2.0654, -0.9329, -1.3854, -1.0381, -1.4911, -1.249, -0.3394, -1.7634, -1.3408, -0.9558, -0.6363, -1.6308, -0.9937, -1.3962, 1.2943, 1.2941, 1.294, 1.2939, 1.1924, 1.1917, 1.1913, 1.1912, 1.1909, 1.1906, 1.1906, 1.1906, 1.19, 0.8518, 0.8501, 0.8479, 0.8479, 0.8479, 0.8479, 0.8479, 0.8479, 0.8479, 0.8479, 0.8479, 0.8479, 0.8479, 0.847, 0.8468, 0.8467, 0.8465, 0.8447, 0.8425, 0.8424, 0.8419, 0.8418, 0.8416, 0.8378, 0.8374, 0.8368, 0.8311, 0.831, 0.8307, 0.8305, 0.7461, 0.7445, 0.744, 0.7437, 0.7436, 0.7433, 0.7427, 0.7422, 0.7421, 0.7418, 0.7412, 0.7409, 0.7409, 0.7404, 0.7405, 0.7401, 0.7398, 0.7391, -0.693, 0.7391, 0.7388, 0.7388, -2.9465, -0.0348, 0.7387, -2.352, -1.4884, -0.3058, -0.8883, -1.353, -0.9874, -0.8919, -0.8883, -1.4822, -0.6741, -1.3879, -1.9465, -1.7194, -2.9647, -1.4285, -0.6554, -1.7636, -2.1263, -2.3739, -1.6876, -1.9948, -2.349, -2.3126, -1.1522, -1.9701, -0.3683, -0.574, 1.2912, 1.2909, 1.2908, 1.2907, 1.1846, 1.1846, 1.1846, 1.1846, 1.1846, 1.1846, 1.1846, 1.1846, 1.1846, 0.8447, 0.8447, 0.8447, 0.8447, 0.8447, 0.8447, 0.8447, 0.8447, 0.8447, 0.8447, 0.8447, 0.8439, 0.8437, 0.8436, 0.8434, 0.8432, 0.8432, 0.6212, 0.6189, 0.6188, 0.6183, 0.618, 0.6182, 0.6175, 0.6174, 0.6172, 0.6174, 0.6168, 0.6169, 0.6169, 0.6171, 0.6166, 0.6167, 0.6167, -2.907, -0.9229, -2.0282, -1.3667, -1.6899, -1.4696, -2.2813, -2.2098, -1.8611, -1.887, -2.3175, -0.2131, -1.2484, -1.9386, -2.8953, -1.3409, -2.2868, -1.6212, -0.644, -0.9542, -0.2184, -1.7967, -0.4056, -1.2358, 0.1102, -0.2238, -1.6249, -1.379, -1.706, -1.3012, -0.9954, -1.9433, -1.4733, -1.4948, -1.2568, 1.299, 1.2988, 1.2987, 1.2986, 1.1925, 1.1925, 1.1925, 1.1924, 1.1924, 1.1924, 1.1924, 1.1924, 1.1924, 0.8526, 0.8526, 0.8526, 0.8526, 0.8526, 0.8526, 0.8526, 0.8526, 0.8526, 0.8526, 0.8526, 0.8518, 0.8515, 0.8514, 0.8512, 0.851, 0.851, 0.8247, 0.8235, 0.8223, 0.8221, 0.822, 0.8221, 0.8221, 0.822, 0.822, 0.821, 0.8209, 0.8209, 0.8207, 0.8203, 0.8202, 0.8199, 0.8195, -3.0343, 0.8191, 0.8189, 0.8192, 0.8191, -1.9902, -1.9489, -1.7649, -2.3739, -1.1567, -2.98, -0.7666, -1.6624, -1.3005, -1.55, -1.4914, -2.3115, -0.0709, -1.847, -1.001, -0.6418, -1.4491, -1.3825, -2.146, -1.0274, -0.8804, -1.9552, -1.974, -1.0206, -2.419, -1.7438, -2.3678, -1.5437, -1.6818, -1.2825, 1.2974, 1.2972, 1.2971, 1.297, 1.1908, 1.1908, 1.1908, 1.1908, 1.1908, 1.1908, 1.1908, 1.1908, 1.1908, 0.851, 0.851, 0.851, 0.851, 0.851, 0.851, 0.851, 0.851, 0.851, 0.851, 0.851, 0.8501, 0.8499, 0.8498, 0.8496, 0.8494, 0.8494, 0.7281, 0.728, 0.7275, 0.7272, 0.7267, 0.7265, 0.7265, 0.7264, 0.7262, 0.7262, 0.7263, 0.7262, 0.7259, 0.7255, 0.7254, 0.7253, 0.7251, 0.725, 0.7249, 0.7246, 0.7247, 0.7245, 0.7241, 0.7241, 0.724, 0.7239, -3.0437, -1.5008, -2.3489, -1.3886, -1.9518, -2.2945, -1.994, -2.3985, -1.5401, -2.1338, -1.9591, -1.7735, -0.9155, -1.4417, -1.297, -0.9194, -0.66, -1.3867, -0.3333, -0.698, -2.9839, -2.3572, -1.9559, -1.7434, -1.5123, -1.2741, -1.6712, -1.4975, -1.6827, -1.8554, -1.3368, 1.3006, 1.3004, 1.3003, 1.3002, 1.1941, 1.1941, 1.1941, 1.1941, 1.1941, 1.1941, 1.194, 1.194, 1.194, 0.8542, 0.8542, 0.8542, 0.8542, 0.8542, 0.8542, 0.8542, 0.8542, 0.8542, 0.8542, 0.8542, 0.8534, 0.8531, 0.8531, 0.8528, 0.8526, 0.8526, 0.6136, 0.6134, 0.6136, 0.6135, 0.6133, 0.6134, 0.6134, 0.6131, 0.6133, -3.082, -1.5509, -1.7814, -1.4477, -2.1459, -2.0107, -2.4182, -2.3956, -1.6726, -1.9595, -1.3103, -1.0083, -2.3202, 0.0936, -0.9973, -0.2469, -2.368, -1.9823, -3.008, -1.8605, -1.7531, -1.6892, -1.2877, -1.111, -1.9973, -1.4271, -1.2889, -0.6845, -1.3988, -0.596, -1.0462, -1.5134, 1.3015, 1.3012, 1.3011, 1.301, 1.1949, 1.1949, 1.1949, 1.1949, 1.1949, 1.1949, 1.1949, 1.1949, 1.1949, 0.855, 0.855, 0.855, 0.855, 0.855, 0.855, 0.855, 0.855, 0.855, 0.855, 0.855, 0.8542, 0.854, 0.8539, 0.8537, 0.8535, 0.8535, -3.1019, -1.6685, -2.3932, -1.5612, 0.6136, -1.0104, 0.6133, 0.6133, 0.6135, 0.6134, 0.6132, 0.6128, 0.613, 0.613, 0.6131, 0.6129, 0.613, -2.1582, -3.0073, -2.328, -1.9854, -1.9671, -2.3753, -1.7958, -1.4596, -2.4359, -1.8639, -2.0289, -1.3162, -1.2906, -1.9999, -1.0022, -1.6979, -1.2919, -1.0475, -1.9939, -1.4319, -0.6884, -0.6548, -1.0396, -0.4402, -1.414]}, \"token.table\": {\"Topic\": [2, 1, 3, 1, 1, 4, 7, 1, 2, 4, 5, 9, 10, 1, 4, 1, 8, 9, 10, 4, 1, 2, 1, 2, 4, 5, 1, 5, 8, 9, 5, 9, 5, 3, 4, 5, 6, 9, 2, 1, 2, 3, 6, 8, 1, 6, 7, 9, 10, 1, 3, 4, 5, 6, 8, 9, 10, 9, 4, 6, 4, 4, 8, 1, 8, 1, 2, 5, 8, 8, 1, 2, 6, 3, 1, 6, 3, 7, 10, 5, 6, 10, 5, 2, 1, 4, 6, 8, 9, 9, 4, 6, 7, 10, 4, 1, 3, 1, 6, 8, 8, 1, 8, 4, 1, 2, 6, 1, 3, 1, 2, 1, 2, 3, 4, 5, 5, 7, 3, 4, 3, 6, 4, 8, 4, 1, 1, 3, 4, 8, 1, 6, 4, 5, 9, 5, 1, 2, 4, 5, 8, 1, 9, 6, 7, 1, 3, 5, 9, 7, 4, 8, 2, 4, 1, 5, 6, 10, 5, 4, 1, 1, 4, 2, 10, 5, 1, 5, 5, 1, 4, 6, 7, 1, 4, 8, 1, 3, 4, 5, 6, 7, 8, 6, 1, 4, 1, 6, 4, 4, 3, 1, 2, 1, 5, 1, 4, 1, 10, 3, 3, 4, 4, 1, 3, 10, 1, 3, 7, 1, 10, 1, 1, 2, 3, 4, 5, 7, 4, 5, 6, 4, 5, 7, 1, 8, 2, 8, 4, 9, 2, 3, 5, 7, 9, 2, 4, 5, 9, 10, 4, 10, 4, 9, 7, 4, 2, 1, 7, 8, 10, 5, 10, 9, 7, 2, 3, 6, 10, 10, 3, 6, 1, 5, 1, 6, 8, 1, 8, 1, 1, 1, 1, 2, 4, 5, 6, 9, 10, 8, 9, 4, 1, 1, 2, 3, 4, 5, 6, 7, 8, 10, 1, 2, 4, 5, 9, 3, 1, 2, 3, 4, 5, 9, 10, 4, 6, 6, 5, 2, 6, 1, 3, 2, 3, 5, 7, 9, 3, 10, 5, 1, 2, 3, 4, 5, 6, 9, 10, 1, 6, 7, 9, 2, 5, 10, 4, 7, 10, 1, 2, 3, 4, 7, 9, 8, 1, 2, 4, 7, 1, 2, 3, 4, 5, 7, 8, 10, 2, 1, 2, 3, 7, 1, 3, 4, 9, 10, 1, 2, 6, 7, 1, 2, 3, 4, 5, 6, 8, 10, 3, 1, 3, 3, 8, 9, 1, 1, 1, 2, 4, 10, 4, 4, 9, 10, 2, 6, 8, 1, 7, 10, 1, 6, 7, 8, 10, 4, 10, 1, 7, 9, 5, 2, 3, 5, 1, 7, 2, 3, 5, 1, 1, 1, 3, 2, 4, 7, 8, 10, 1, 4, 6, 8, 12, 1, 2, 3, 6, 9, 3, 1, 2, 4, 5, 7, 8, 9, 10, 4, 1, 2, 3, 5, 8, 2, 10, 6, 3, 5, 6, 8, 3, 9, 3, 4, 6, 9, 2, 1, 1, 2, 3, 5, 1, 6, 9, 10, 3, 4, 6, 9, 1, 2, 1, 1, 2, 3, 4, 5, 8, 9, 1, 1, 3, 4, 7, 1, 1, 3, 4, 5, 7, 1, 3, 7, 8, 3, 7, 4, 1, 2, 9, 1, 2, 3, 4, 5, 7, 10, 1, 2, 5, 3, 1, 2, 4, 5, 9, 7, 1, 1, 8, 4, 4, 3, 1, 2, 3, 4, 5, 6, 7, 8, 9, 10, 3, 3, 4, 1, 10, 2, 1, 1, 5, 8, 4, 9, 6, 6, 1, 9, 1, 1, 2, 3, 4, 5, 6, 7, 8, 9, 11, 1, 2, 3, 4, 5, 8, 9, 1, 1, 2, 9, 2, 9, 1, 3, 5, 9, 1, 2, 4, 7, 8, 7, 1, 9, 8, 2, 8, 4, 6, 10, 1, 4, 5, 3, 1, 3, 4, 6, 5, 4, 9, 2, 3, 1, 7, 3, 4, 4, 7, 8, 1, 9, 3, 7, 9, 4, 3, 5, 5, 10, 8, 8, 1, 2, 9, 5, 3, 1, 8, 1, 4, 5, 6, 7, 2, 4, 7, 2, 6, 1, 4, 8, 1, 7, 9, 8, 9, 1, 9, 2, 1, 7, 4, 1, 3, 6, 8, 10, 4, 4, 7, 4, 1, 10, 1, 2, 7, 9, 2, 1, 2, 6, 7, 8, 3, 8, 5, 3, 9, 6, 2, 4, 8, 1, 3, 6, 2, 1, 2, 3, 5, 6, 10, 2, 1, 2, 4, 1, 2, 5, 10, 1, 8, 4, 1, 6, 8, 9, 10, 1, 4, 5, 7, 1, 1, 2, 3, 4, 7, 9, 1, 2, 3, 8, 10, 4, 10, 6, 7, 1, 4, 10, 3, 4, 5, 6, 8, 1, 9, 1, 2, 7, 2, 5, 4, 4, 3, 4, 1, 4, 8, 3, 10, 1, 7, 3, 1, 2, 1, 2, 1, 3, 7, 9, 5, 1, 1, 2, 3, 5, 8, 9, 2, 9, 1, 2, 3, 4, 6, 9, 10, 3, 6, 3, 10, 1, 2, 7, 1, 2, 10, 1, 7, 8, 6, 2, 4, 7, 4, 1, 2, 3, 4, 6, 7, 9, 6, 4, 2, 1, 7, 8, 9, 1, 2, 3, 10, 3, 8, 1, 2, 4, 1, 2, 4, 4, 3, 1, 3, 5, 6, 7, 8, 9, 3, 6, 9, 5, 9, 4, 2, 7, 1, 2, 3, 5, 6, 7, 9, 10, 8, 8, 9, 3, 6, 5, 7, 1, 8, 5, 1, 1, 1, 2, 1, 4, 4, 4, 8, 6, 5, 1, 2, 10, 4, 1, 6, 1, 3, 5, 3, 6, 7, 4, 4, 1, 2, 5, 2, 3, 7, 10, 1, 4, 1, 2, 3, 6, 7, 8, 9, 8, 6, 5, 1, 2, 5, 1, 2, 4, 6, 8, 10, 10, 3, 3, 7, 8, 9, 7, 1, 2, 3, 5, 6, 7, 8, 10, 1, 4, 4, 1, 1, 2, 3, 4, 5, 6, 7, 8, 9, 10, 1, 1, 6, 7, 7, 2, 10, 10, 1, 2, 3, 6, 7, 1, 3, 8, 9, 1, 4, 5, 10, 1, 2, 5, 8, 10, 1, 4, 8, 2, 6, 7], \"Freq\": [0.7749738051948786, 0.8599537532016238, 0.7993916078218164, 0.8600530646149062, 0.6095252248200357, 0.30476261241001784, 0.15238130620500892, 0.8600422627171105, 0.23643848485244617, 0.23643848485244617, 0.23643848485244617, 0.23643848485244617, 0.23643848485244617, 0.7281087254898433, 0.8062408135393915, 0.45722308535061207, 0.22861154267530603, 0.22861154267530603, 0.22861154267530603, 0.8062839159043924, 0.8574220915514941, 0.14290368192524902, 0.45778342120383164, 0.15259447373461055, 0.3051889474692211, 0.15259447373461055, 0.6320212876543041, 0.2106737625514347, 0.2106737625514347, 0.8930408178068512, 0.8373754701669572, 0.8927177318746717, 0.8373849540922259, 0.23253562045575257, 0.23253562045575257, 0.23253562045575257, 0.23253562045575257, 0.23253562045575257, 0.7748441604721135, 0.25525446744751884, 0.5105089348950377, 0.25525446744751884, 0.8449034790145344, 0.8922665328157687, 0.38995299189536603, 0.19497649594768302, 0.19497649594768302, 0.19497649594768302, 0.19497649594768302, 0.3433770948945565, 0.17168854744727824, 0.08584427372363912, 0.08584427372363912, 0.08584427372363912, 0.08584427372363912, 0.08584427372363912, 0.08584427372363912, 0.8927826584912126, 0.806233544899429, 0.8443253271304447, 0.8058955113856974, 0.8063628755313824, 0.8915538654024971, 0.48281922322749465, 0.48281922322749465, 0.4138555534299489, 0.4138555534299489, 0.20692777671497445, 0.8921260686913374, 0.5491852944598523, 0.25821267938710585, 0.5164253587742117, 0.25821267938710585, 0.963578450089646, 0.9882406884289877, 0.8442561846065048, 0.7997733262954952, 0.8970873110525799, 0.9241906738969823, 0.8373510436280608, 0.8444353645550818, 0.9274765696202489, 0.8373788321597461, 0.7748421702271893, 0.47967666005579396, 0.15989222001859799, 0.15989222001859799, 0.15989222001859799, 0.15989222001859799, 0.8931196856821566, 0.8063182423116886, 0.8462668397885554, 0.5661065009554213, 0.5661065009554213, 0.8059675552173764, 0.7279417050455173, 0.7996785114088139, 0.35292379196494206, 0.35292379196494206, 0.35292379196494206, 0.8921336060009526, 0.7280779218098848, 0.8921898984115804, 0.8046832728184914, 0.2662884589464135, 0.2662884589464135, 0.532576917892827, 0.7280211007592337, 0.7993261447799827, 0.7280324689638129, 0.7749677134326358, 0.4890107104773008, 0.17782207653720028, 0.08891103826860014, 0.1333665574029002, 0.1333665574029002, 1.0171765482618813, 0.8969299400983894, 0.800635713799389, 0.8046833388763442, 0.26303164400611667, 0.5260632880122333, 0.8061118862210446, 0.8921421784735625, 0.8061534218847076, 0.7277902456240037, 0.8600779486841317, 0.9619655159513395, 0.8046828104138245, 0.892196559620321, 0.5197581711563738, 0.5197581711563738, 0.806261166857675, 0.8373358627045508, 0.89316249974562, 0.8373451246417368, 0.40435330307662776, 0.3032649773074708, 0.10108832576915694, 0.20217665153831388, 0.10108832576915694, 0.8116035785701609, 0.2029008946425402, 1.02792800603295, 0.8972250876250034, 0.8600845605490199, 0.7026450168196188, 0.3513225084098094, 0.8932828243994815, 0.8957138571266923, 0.8060529660746153, 0.8915693912485264, 0.926945974546699, 0.806069462310252, 0.7279612841604047, 0.8373908399684359, 0.8441816923692632, 0.930993804724875, 0.8373902836061834, 0.8059758690388946, 0.7280764825567311, 0.860269381282019, 0.8064398467003197, 0.5148378876637014, 0.5148378876637014, 0.8373637860361197, 0.8598658734223614, 0.8373518864839807, 0.8373625194831638, 0.45586538469860893, 0.45586538469860893, 0.8445896166757828, 0.897244943506839, 0.7924279510212003, 0.19810698775530008, 0.8922083696539881, 0.3462572438173479, 0.20775434629040876, 0.06925144876346959, 0.06925144876346959, 0.27700579505387835, 0.06925144876346959, 0.06925144876346959, 0.8470747251987034, 0.7279781547698103, 0.8063048374647681, 0.7278571459175703, 0.6565836659689106, 0.8046828764716015, 0.8046830746449977, 0.7995768227407728, 0.7278827630967057, 0.774815045648045, 0.7280756492535063, 0.8374010113929826, 0.4558474083830629, 0.4558474083830629, 0.49277279971017207, 0.49277279971017207, 0.8007155683479676, 0.7994882856100817, 0.8062655454222435, 0.8062460802602348, 0.8600188466730235, 0.5260600560501231, 0.5260600560501231, 0.7280003598985036, 0.7996691726886335, 0.5558040388201161, 0.4223673385283686, 0.4223673385283686, 0.8601294711704844, 0.4148397411061419, 0.1382799137020473, 0.1382799137020473, 0.1382799137020473, 0.1382799137020473, 0.1382799137020473, 0.19724467572474913, 0.39448935144949826, 0.39448935144949826, 0.8061757025711948, 0.8373946947547638, 0.8971161022022406, 0.4830262228957525, 0.4830262228957525, 0.7748458383470517, 0.8921323106700633, 0.8062896173349838, 0.8929374499272846, 0.11484065041736805, 0.4593626016694722, 0.2296813008347361, 0.11484065041736805, 0.11484065041736805, 0.2364552628773823, 0.2364552628773823, 0.2364552628773823, 0.2364552628773823, 0.2364552628773823, 0.8063403759282255, 0.9309932735920688, 0.5161141159288808, 0.5161141159288808, 0.8969339345648533, 0.8046828764716015, 0.7748257121569847, 0.5641175331015187, 0.1880391777005062, 0.1880391777005062, 0.1880391777005062, 0.5417417116561258, 0.5417417116561258, 0.8931373386312691, 0.8974550532915342, 0.33955242993014345, 0.6791048598602869, 0.8442482414040909, 0.9297105586344471, 0.9309932735920688, 0.5555168102794378, 0.5555168102794378, 0.7279285572262069, 0.6508338469149874, 0.3152447108791038, 0.3152447108791038, 0.3152447108791038, 0.8597962343914114, 0.8920940787500303, 0.7280826469777303, 0.7280957572088582, 0.9155243613583738, 0.49940719288066343, 0.07134388469723764, 0.14268776939447528, 0.14268776939447528, 0.07134388469723764, 0.07134388469723764, 0.07134388469723764, 0.8922487245905895, 0.8931774511593309, 0.806294172928115, 0.8600490131801133, 0.33875253156334567, 0.16937626578167284, 0.03387525315633457, 0.03387525315633457, 0.16937626578167284, 0.13550101262533829, 0.03387525315633457, 0.03387525315633457, 0.06775050631266914, 0.4164170043897103, 0.13880566812990344, 0.13880566812990344, 0.2776113362598069, 0.13880566812990344, 0.7997817913424251, 0.32022237844737556, 0.10674079281579185, 0.10674079281579185, 0.10674079281579185, 0.2134815856315837, 0.10674079281579185, 0.10674079281579185, 0.7080467054737231, 0.35402335273686153, 0.846040830333605, 1.017202674671319, 0.3554008508927379, 0.7108017017854757, 0.7927890774484561, 0.19819726936211401, 0.11085326238928833, 0.332559787167865, 0.4434130495571533, 0.11085326238928833, 0.11085326238928833, 0.7995843318985117, 0.9309936276805388, 0.8374067322745291, 0.4804333947268597, 0.12010834868171492, 0.06005417434085746, 0.12010834868171492, 0.12010834868171492, 0.06005417434085746, 0.06005417434085746, 0.06005417434085746, 0.17798645641090663, 0.17798645641090663, 0.17798645641090663, 0.5339593692327198, 0.3684581134078235, 0.3684581134078235, 0.3684581134078235, 0.8063151735772643, 0.8972208046318719, 0.9293816748058893, 0.45869325315934545, 0.20386366807082018, 0.15289775105311515, 0.050965917017705045, 0.050965917017705045, 0.050965917017705045, 0.8922949081218391, 0.46016176540851617, 0.3067745102723441, 0.15338725513617205, 0.15338725513617205, 0.33745991871664943, 0.08436497967916236, 0.16872995935832472, 0.16872995935832472, 0.08436497967916236, 0.08436497967916236, 0.08436497967916236, 0.08436497967916236, 0.774776062806929, 0.19982784142541668, 0.09991392071270834, 0.5994835242762501, 0.09991392071270834, 0.5506547125751038, 0.13766367814377595, 0.13766367814377595, 0.13766367814377595, 0.930993804724875, 0.2656779215076267, 0.2656779215076267, 0.5313558430152534, 0.5517246365178353, 0.2872537503460143, 0.3590671879325179, 0.03590671879325179, 0.07181343758650358, 0.07181343758650358, 0.10772015637975536, 0.03590671879325179, 0.03590671879325179, 0.7993877423036263, 0.727953567504905, 0.9624738105210204, 0.7207842465708106, 0.3603921232854053, 0.8933578955351241, 0.7278715946522366, 0.8600958653062392, 0.6425966563756608, 0.2141988854585536, 0.1070994427292768, 0.1070994427292768, 0.8061061641433455, 0.38581401646146785, 0.38581401646146785, 0.38581401646146785, 0.6125119604668463, 0.8528055850323376, 0.8921915466363682, 0.3677427138570894, 0.3677427138570894, 0.3677427138570894, 0.3431897448841703, 0.17159487244208516, 0.17159487244208516, 0.17159487244208516, 0.17159487244208516, 0.8061285159808622, 0.9295244435739165, 0.6436478130698886, 0.2145492710232962, 0.8931539805354589, 0.8373694288344348, 0.5323427420117145, 0.26617137100585725, 0.26617137100585725, 0.8591448880902289, 0.8959335822521033, 0.5324166300907016, 0.2662083150453508, 0.2662083150453508, 0.7279705426424309, 0.8600993623749935, 0.8601359360577286, 0.7994666292763452, 0.17796323592034496, 0.35592647184068993, 0.17796323592034496, 0.17796323592034496, 0.17796323592034496, 0.40069624992107516, 0.13356541664035837, 0.13356541664035837, 0.26713083328071674, 0.13356541664035837, 0.5423342029225912, 0.1355835507306478, 0.1355835507306478, 0.1355835507306478, 0.1355835507306478, 0.7997269897181769, 0.21261619059206302, 0.10630809529603151, 0.10630809529603151, 0.053154047648015755, 0.21261619059206302, 0.10630809529603151, 0.15946214294404726, 0.053154047648015755, 0.8060873544773135, 0.46653373524969927, 0.1555112450832331, 0.1555112450832331, 0.1555112450832331, 0.1555112450832331, 0.8160162200083046, 0.2720054066694349, 0.8448473989740216, 0.28198625012219813, 0.28198625012219813, 0.5639725002443963, 0.8921350118825612, 0.7996636253702625, 0.893364784485634, 0.37131806003873463, 0.18565903001936732, 0.37131806003873463, 0.18565903001936732, 0.7748862228521416, 0.728139888270405, 0.36070945086423456, 0.18035472543211728, 0.18035472543211728, 0.36070945086423456, 0.23896801634393117, 0.23896801634393117, 0.23896801634393117, 0.23896801634393117, 0.6690137220398722, 0.2230045740132907, 0.2230045740132907, 0.8930162264309722, 0.7848599718728317, 0.19621499296820794, 0.7280826662986533, 0.38437938421348383, 0.09609484605337096, 0.19218969210674192, 0.09609484605337096, 0.09609484605337096, 0.09609484605337096, 0.09609484605337096, 0.8599714791885815, 0.22148279435413323, 0.22148279435413323, 0.44296558870826647, 0.22148279435413323, 0.8599878070303976, 0.7185169287666358, 0.08981461609582947, 0.08981461609582947, 0.08981461609582947, 0.08981461609582947, 0.511319753004846, 0.1278299382512115, 0.255659876502423, 0.1278299382512115, 0.9539782927462429, 0.8963664132953376, 0.970409352822249, 0.7849043791177616, 0.1962260947794404, 0.8932438511813249, 0.337881904810422, 0.2627970370747727, 0.18771216933912335, 0.03754243386782467, 0.07508486773564935, 0.03754243386782467, 0.07508486773564935, 0.5276077157172113, 0.17586923857240375, 0.3517384771448075, 0.8011750499909769, 0.47924424157700696, 0.11981106039425174, 0.11981106039425174, 0.11981106039425174, 0.11981106039425174, 0.8963658642838678, 0.8599080680206393, 0.7280076641888037, 0.8922433602311575, 0.8062134361629657, 0.8061675795213806, 0.7993987489594955, 0.209245489799067, 0.22826780705352764, 0.17120085529014573, 0.07608926901784255, 0.09511158627230318, 0.09511158627230318, 0.019022317254460637, 0.019022317254460637, 0.019022317254460637, 0.05706695176338191, 0.9635592439968411, 0.690713615453086, 0.345356807726543, 0.49157904774552086, 0.49157904774552086, 0.7750493972831177, 0.9157662683859709, 0.8088889286262977, 0.08088889286262976, 0.08088889286262976, 0.7249591386101945, 0.3624795693050972, 0.8474976321705483, 0.8441290641124176, 0.3610715984129364, 0.3610715984129364, 0.7280301989748865, 0.3551868592033684, 0.050740979886195484, 0.15222293965858646, 0.10148195977239097, 0.01691365996206516, 0.1353092796965213, 0.0845682998103258, 0.050740979886195484, 0.01691365996206516, 0.01691365996206516, 0.4012800405903257, 0.13376001353010855, 0.13376001353010855, 0.13376001353010855, 0.06688000676505428, 0.06688000676505428, 0.06688000676505428, 0.9152737183059075, 0.525371277716253, 0.350247518477502, 0.175123759238751, 0.7748950760431255, 0.8929616068515915, 0.27246098191918666, 0.27246098191918666, 0.27246098191918666, 0.27246098191918666, 0.55951741803431, 0.09325290300571833, 0.18650580601143665, 0.09325290300571833, 0.09325290300571833, 0.8958514723146753, 0.7279366650281318, 0.8934066310494739, 0.8922840629176079, 0.9265542216168717, 0.891668482353817, 0.806170762573324, 0.8446585022238473, 0.9309934152274245, 0.3374547929939415, 0.3374547929939415, 0.3374547929939415, 0.8008242110987542, 0.4100440605597428, 0.4100440605597428, 0.13668135351991426, 0.13668135351991426, 0.837380272050718, 0.8062399766863757, 0.8931225003836369, 0.7747074972569714, 0.7995680335059703, 0.755771664342347, 0.25192388811411565, 0.8009552615015945, 0.8064465698189506, 0.806242088799137, 0.8969224125228307, 0.8915603784959967, 0.8118001278905724, 0.2029500319726431, 0.9634473078895553, 0.8972282929656153, 0.893261854686398, 0.806454501072141, 0.6425394629674244, 0.3212697314837122, 0.8373990354918737, 0.9309935568628235, 0.892213352029788, 0.8922825812686032, 0.49239384578494294, 0.49239384578494294, 0.8929551216800835, 0.8373927039371063, 0.7994843129067153, 0.7546236080837505, 0.2515412026945835, 0.47579504951066404, 0.0951590099021328, 0.1903180198042656, 0.1903180198042656, 0.0951590099021328, 0.7749551779768084, 0.8063829602292883, 0.8963664132953376, 0.7748911509283468, 0.8443904972790944, 0.5339997175291222, 0.35599981168608147, 0.17799990584304073, 0.36128075557948763, 0.36128075557948763, 0.8932891056354362, 0.892216885669952, 0.8929791426704365, 0.9155289630510246, 0.8930520594353335, 0.77499150842912, 0.7560297199014258, 0.25200990663380857, 0.806290766620147, 0.832272339633269, 0.10403404245415862, 0.10403404245415862, 0.8921243849890942, 0.929524285502282, 0.8063012335537142, 0.8062470852401717, 0.8972433631046132, 0.8062386106475068, 0.728051550225557, 0.9309935568628235, 0.4814073783669841, 0.16046912612232803, 0.16046912612232803, 0.16046912612232803, 0.6124922846543078, 0.5358690766325228, 0.2143476306530091, 0.10717381532650455, 0.10717381532650455, 0.10717381532650455, 0.7995057866487568, 0.5496656314381643, 0.8374122564761534, 0.7995339744154604, 0.8930329022120316, 0.8442290777916522, 0.27586850963587795, 0.5517370192717559, 0.27586850963587795, 0.3680854222098997, 0.18404271110494985, 0.3680854222098997, 0.7748981861029461, 0.2634428601667325, 0.2634428601667325, 0.15806571610003953, 0.10537714406669302, 0.15806571610003953, 0.05268857203334651, 0.9268512789159123, 0.4925724754838123, 0.4925724754838123, 0.8062243061719088, 0.4575686539703016, 0.3050457693135344, 0.3050457693135344, 0.9299937589617762, 0.7282507845916245, 0.8921952709596563, 0.8063092214472326, 0.32394214920781156, 0.16197107460390578, 0.16197107460390578, 0.16197107460390578, 0.16197107460390578, 0.6580349643345293, 0.1096724940557549, 0.1096724940557549, 0.1096724940557549, 0.8594048379940565, 0.32757122235808694, 0.08189280558952174, 0.16378561117904347, 0.32757122235808694, 0.08189280558952174, 0.08189280558952174, 0.38600760728110584, 0.12866920242703528, 0.25733840485407056, 0.12866920242703528, 0.12866920242703528, 0.8060646458336707, 0.9309936276805388, 0.5354459890271505, 0.5354459890271505, 0.5269863176445544, 0.2634931588222772, 0.2634931588222772, 0.8009579909271145, 0.23620794014284802, 0.23620794014284802, 0.47241588028569603, 0.23620794014284802, 0.3611181061343175, 0.3611181061343175, 0.3683195298276395, 0.3683195298276395, 0.18415976491381975, 0.7750018291632554, 0.8373060218391577, 0.804683140702818, 0.8062736082695262, 0.8008889207655143, 0.8062359568464761, 0.610162937652245, 0.8061966588416247, 0.8917298868528825, 0.8012027360890436, 0.9273387155232292, 0.8600744294309326, 0.8971047038111797, 0.8010929881596808, 0.728076612658085, 0.7749384629026529, 0.8258330618575265, 0.1651666123715053, 0.22622436801775433, 0.45244873603550867, 0.22622436801775433, 0.22622436801775433, 0.8373551805662464, 0.7280638425535649, 0.5765359620387, 0.0720669952548375, 0.0720669952548375, 0.144133990509675, 0.0720669952548375, 0.0720669952548375, 0.9265127283461498, 0.8928163781400352, 0.308764429692631, 0.1235057718770524, 0.2470115437541048, 0.1235057718770524, 0.1852586578155786, 0.0617528859385262, 0.0617528859385262, 0.9629284421200744, 0.8503816958514953, 0.9625240599957554, 0.9163487160894386, 0.7280249206208601, 0.7748440510031691, 0.89636624436866, 0.4924855716837305, 0.4924855716837305, 0.9268470010062356, 0.36182293228829104, 0.36182293228829104, 0.36182293228829104, 0.8443317208087177, 0.35864060384474533, 0.35864060384474533, 0.35864060384474533, 0.8046835370499682, 0.20864681084077222, 0.31297021626115834, 0.10432340542038611, 0.10432340542038611, 0.10432340542038611, 0.10432340542038611, 0.10432340542038611, 0.8470236863891345, 0.8063292405694408, 0.7749924905356479, 0.39164315925725585, 0.19582157962862792, 0.19582157962862792, 0.19582157962862792, 0.7278451400253961, 0.7751744574079665, 0.800774729058138, 0.9309934152274245, 0.8008147870426622, 0.8921048490627798, 0.7278756151338053, 0.774846029106123, 0.8046833388763442, 0.39261315265267277, 0.19630657632633638, 0.39261315265267277, 0.8059835796806638, 0.7996495464786677, 0.35202103936693896, 0.23468069291129265, 0.11734034645564632, 0.11734034645564632, 0.11734034645564632, 0.11734034645564632, 0.11734034645564632, 0.5636061659382537, 0.1878687219794179, 0.1878687219794179, 0.8373690886242355, 0.8933351051574616, 0.806316142917288, 0.7748721973273506, 0.8969167145029198, 0.43193415758461484, 0.053991769698076855, 0.053991769698076855, 0.10798353939615371, 0.053991769698076855, 0.16197530909423058, 0.053991769698076855, 0.053991769698076855, 0.8922118261137166, 0.5499566286395762, 0.5499566286395762, 0.7994279515515601, 0.8439663701214483, 0.8373883641908916, 0.8973057172835041, 0.4828336077623561, 0.4828336077623561, 0.8373278322006994, 0.8600007725820165, 0.7278205973114354, 0.7280688033100399, 0.7749282785406947, 0.45598223188158504, 0.45598223188158504, 0.8062395628472745, 0.8060817713304977, 0.8916270441161291, 0.8562647076418219, 0.8373790646672676, 0.35850817339045093, 0.5377622600856764, 0.17925408669522547, 0.8062601955447027, 0.8600667552553143, 0.8444653600819272, 0.8600736344532725, 0.6607900759890555, 0.837376547995775, 0.7996141683335308, 0.8443638374394963, 0.8958920352176021, 0.8061249358329625, 0.80634066043739, 0.9154817167966083, 0.9265512831493751, 0.8373542383209305, 0.4322890570730584, 0.14409635235768614, 0.14409635235768614, 0.14409635235768614, 0.7281256061168961, 0.8062392902528431, 0.15743985406323943, 0.31487970812647886, 0.23615978109485913, 0.15743985406323943, 0.07871992703161972, 0.07871992703161972, 0.07871992703161972, 0.8922376794834984, 0.8474309530162257, 0.8373770783999052, 0.5269023962351248, 0.17563413207837494, 0.3512682641567499, 0.47683835554414533, 0.10596407900981007, 0.052982039504905036, 0.2649101975245252, 0.052982039504905036, 0.052982039504905036, 0.9302078385295238, 0.963263574629189, 0.2828471868980023, 0.42427078034700344, 0.14142359344900116, 0.14142359344900116, 0.8959074639905341, 0.18289901402018213, 0.18289901402018213, 0.09144950701009107, 0.18289901402018213, 0.09144950701009107, 0.09144950701009107, 0.09144950701009107, 0.09144950701009107, 0.636030181588148, 0.318015090794074, 0.8063979972133376, 0.7280536971017196, 0.45100720289360974, 0.034692861761046905, 0.1040785852831407, 0.1040785852831407, 0.06938572352209381, 0.034692861761046905, 0.06938572352209381, 0.034692861761046905, 0.034692861761046905, 0.06938572352209381, 0.7279893052576099, 0.35391448802867254, 0.35391448802867254, 0.35391448802867254, 0.8975004430450414, 0.7705206244271982, 0.9309936630894008, 0.9299158881515857, 0.6411447848655443, 0.06411447848655442, 0.12822895697310885, 0.12822895697310885, 0.06411447848655442, 0.27955319082835045, 0.27955319082835045, 0.27955319082835045, 0.27955319082835045, 0.1912337349627878, 0.3824674699255756, 0.3824674699255756, 0.1912337349627878, 0.410696874584583, 0.136898958194861, 0.136898958194861, 0.136898958194861, 0.136898958194861, 0.34618608457625055, 0.34618608457625055, 0.34618608457625055, 0.4575449008948737, 0.4575449008948737, 0.22877245044743685], \"Term\": [\"accompany\", \"accomplish\", \"acquaintance\", \"acting\", \"action\", \"action\", \"action\", \"actor\", \"actually\", \"actually\", \"actually\", \"actually\", \"actually\", \"adequate\", \"adorable\", \"adult\", \"adult\", \"adult\", \"adult\", \"advantage\", \"adventure\", \"adventure\", \"age\", \"age\", \"age\", \"age\", \"ago\", \"ago\", \"ago\", \"aim\", \"airplane\", \"alive\", \"almost\", \"also\", \"also\", \"also\", \"also\", \"also\", \"alternative\", \"always\", \"always\", \"always\", \"amount\", \"anachronism\", \"animate\", \"animate\", \"animate\", \"animate\", \"animate\", \"animation\", \"animation\", \"animation\", \"animation\", \"animation\", \"animation\", \"animation\", \"animation\", \"annoying\", \"apparently\", \"appeal\", \"area\", \"arm\", \"aside\", \"attempt\", \"attempt\", \"audience\", \"audience\", \"audience\", \"audio\", \"average\", \"back\", \"back\", \"back\", \"bad\", \"balance\", \"balda\", \"barely\", \"base\", \"basement\", \"bash\", \"basis\", \"beginning\", \"believe\", \"betray\", \"bit\", \"bit\", \"bit\", \"bit\", \"bit\", \"bored\", \"borrow\", \"bottom\", \"box\", \"box\", \"brian\", \"bright\", \"brilliant\", \"bring\", \"bring\", \"bring\", \"build\", \"bust\", \"cameo\", \"carefree\", \"carrell\", \"carrell\", \"carrell\", \"carton\", \"casual\", \"cgi\", \"champ\", \"character\", \"character\", \"character\", \"character\", \"character\", \"charming\", \"cheek\", \"cheer\", \"chemistry\", \"child\", \"child\", \"chinatown\", \"chinese\", \"city\", \"claim\", \"classic\", \"clearly\", \"click\", \"coalition\", \"coffin\", \"coffin\", \"color\", \"colorful\", \"colourful\", \"combination\", \"come\", \"come\", \"come\", \"come\", \"come\", \"comedy\", \"comedy\", \"compare\", \"concern\", \"connect\", \"consider\", \"consider\", \"consistently\", \"contrived\", \"corp\", \"couple\", \"course\", \"crablike\", \"craft\", \"creative\", \"creativity\", \"crisp\", \"critic\", \"critter\", \"crucial\", \"cultural\", \"culture\", \"danny\", \"danny\", \"darn\", \"decade\", \"decent\", \"decently\", \"deep\", \"deep\", \"delightful\", \"deserve\", \"design\", \"design\", \"desperately\", \"despicable\", \"despicable\", \"despicable\", \"despicable\", \"despicable\", \"despicable\", \"despicable\", \"determine\", \"development\", \"dialog\", \"dig\", \"direct\", \"disappoint\", \"disappointing\", \"disappointment\", \"dislike\", \"dismiss\", \"dive\", \"divide\", \"do\", \"do\", \"dolph\", \"dolph\", \"dose\", \"draw\", \"dropoff\", \"dutifully\", \"dynamic\", \"early\", \"early\", \"easter\", \"element\", \"elite\", \"emotional\", \"emotional\", \"energy\", \"enjoy\", \"enjoy\", \"enjoy\", \"enjoy\", \"enjoy\", \"enjoy\", \"enough\", \"enough\", \"enough\", \"enter\", \"entertain\", \"entertainment\", \"entry\", \"entry\", \"envelope\", \"er\", \"especially\", \"eve\", \"even\", \"even\", \"even\", \"even\", \"even\", \"ever\", \"ever\", \"ever\", \"ever\", \"ever\", \"evildoer\", \"exaggeration\", \"example\", \"example\", \"excellent\", \"excited\", \"excuse\", \"expect\", \"expect\", \"expect\", \"expect\", \"experience\", \"experience\", \"fact\", \"fad\", \"fail\", \"fail\", \"fair\", \"fairly\", \"fake\", \"family\", \"family\", \"famous\", \"fantastic\", \"far\", \"far\", \"far\", \"fast\", \"fault\", \"favorite\", \"fear\", \"feature\", \"feel\", \"feel\", \"feel\", \"feel\", \"feel\", \"feel\", \"feel\", \"fellow\", \"female\", \"figure\", \"fill\", \"film\", \"film\", \"film\", \"film\", \"film\", \"film\", \"film\", \"film\", \"film\", \"find\", \"find\", \"find\", \"find\", \"find\", \"finish\", \"first\", \"first\", \"first\", \"first\", \"first\", \"first\", \"first\", \"flat\", \"flat\", \"flow\", \"focus\", \"follow\", \"follow\", \"form\", \"form\", \"franchise\", \"franchise\", \"franchise\", \"franchise\", \"franchise\", \"frankly\", \"freaking\", \"fresh\", \"fun\", \"fun\", \"fun\", \"fun\", \"fun\", \"fun\", \"fun\", \"fun\", \"funny\", \"funny\", \"funny\", \"funny\", \"future\", \"future\", \"future\", \"gag\", \"galore\", \"general\", \"get\", \"get\", \"get\", \"get\", \"get\", \"get\", \"gibberish\", \"give\", \"give\", \"give\", \"give\", \"go\", \"go\", \"go\", \"go\", \"go\", \"go\", \"go\", \"go\", \"goggle\", \"good\", \"good\", \"good\", \"good\", \"great\", \"great\", \"great\", \"great\", \"gross\", \"group\", \"group\", \"group\", \"grow\", \"gru\", \"gru\", \"gru\", \"gru\", \"gru\", \"gru\", \"gru\", \"gru\", \"gruwhat\", \"guffaw\", \"happen\", \"hate\", \"hate\", \"head\", \"hear\", \"heartwarming\", \"help\", \"help\", \"help\", \"help\", \"hero\", \"high\", \"high\", \"high\", \"highly\", \"hodgepodge\", \"hold\", \"hope\", \"hope\", \"hope\", \"however\", \"however\", \"however\", \"however\", \"however\", \"huge\", \"humble\", \"humor\", \"humor\", \"humour\", \"idea\", \"illumination\", \"illumination\", \"illumination\", \"imax\", \"impressive\", \"include\", \"include\", \"include\", \"inclusion\", \"incorporate\", \"installment\", \"inventive\", \"join\", \"join\", \"join\", \"join\", \"join\", \"joke\", \"joke\", \"joke\", \"joke\", \"joke\", \"keep\", \"keep\", \"keep\", \"keep\", \"keep\", \"key\", \"kid\", \"kid\", \"kid\", \"kid\", \"kid\", \"kid\", \"kid\", \"kid\", \"killing\", \"know\", \"know\", \"know\", \"know\", \"know\", \"knuckle\", \"knuckle\", \"kyle\", \"lack\", \"lack\", \"lack\", \"language\", \"largely\", \"lastly\", \"laugh\", \"laugh\", \"laugh\", \"laugh\", \"laundry\", \"leap\", \"least\", \"least\", \"least\", \"least\", \"let\", \"let\", \"let\", \"let\", \"like\", \"like\", \"like\", \"limited\", \"line\", \"line\", \"linear\", \"little\", \"little\", \"little\", \"little\", \"little\", \"little\", \"little\", \"load\", \"look\", \"look\", \"look\", \"look\", \"lose\", \"lot\", \"lot\", \"lot\", \"lot\", \"lot\", \"love\", \"love\", \"love\", \"love\", \"loveable\", \"lovely\", \"low\", \"main\", \"main\", \"maintain\", \"make\", \"make\", \"make\", \"make\", \"make\", \"make\", \"make\", \"manage\", \"manage\", \"manage\", \"manager\", \"many\", \"many\", \"many\", \"many\", \"many\", \"matinee\", \"matter\", \"meanwhile\", \"mediocre\", \"megavillain\", \"mercy\", \"mesmerise\", \"minion\", \"minion\", \"minion\", \"minion\", \"minion\", \"minion\", \"minion\", \"minion\", \"minion\", \"minion\", \"minute\", \"miss\", \"miss\", \"mission\", \"mission\", \"mitt\", \"mix\", \"moment\", \"moment\", \"moment\", \"mostly\", \"mostly\", \"mother\", \"motive\", \"move\", \"move\", \"movement\", \"movie\", \"movie\", \"movie\", \"movie\", \"movie\", \"movie\", \"movie\", \"movie\", \"movie\", \"movie\", \"much\", \"much\", \"much\", \"much\", \"much\", \"much\", \"much\", \"music\", \"need\", \"need\", \"need\", \"needed\", \"negative\", \"never\", \"never\", \"never\", \"never\", \"new\", \"new\", \"new\", \"new\", \"new\", \"next\", \"nice\", \"nitpicky\", \"noise\", \"nostalgic\", \"notch\", \"number\", \"offer\", \"office\", \"one\", \"one\", \"one\", \"opposite\", \"original\", \"original\", \"original\", \"original\", \"otherwise\", \"oust\", \"outing\", \"output\", \"outta\", \"overall\", \"overall\", \"overly\", \"packing\", \"pal\", \"pan\", \"parent\", \"part\", \"part\", \"particularly\", \"past\", \"payout\", \"pedigree\", \"people\", \"people\", \"personal\", \"picture\", \"pille\", \"placate\", \"play\", \"play\", \"plead\", \"pleasant\", \"please\", \"plenty\", \"plenty\", \"plot\", \"plot\", \"plot\", \"plot\", \"plot\", \"plotwise\", \"pop\", \"popcorn\", \"potential\", \"predecessor\", \"pretty\", \"pretty\", \"pretty\", \"previous\", \"previous\", \"prime\", \"processing\", \"proper\", \"pull\", \"puppy\", \"push\", \"put\", \"put\", \"quickly\", \"quite\", \"quite\", \"quite\", \"ramble\", \"rank\", \"rapid\", \"rare\", \"rarely\", \"rate\", \"real\", \"realer\", \"really\", \"really\", \"really\", \"really\", \"recommend\", \"reference\", \"reference\", \"reference\", \"reference\", \"reference\", \"relationship\", \"remember\", \"remind\", \"repetition\", \"repetitive\", \"requirement\", \"return\", \"return\", \"return\", \"review\", \"review\", \"review\", \"ride\", \"rise\", \"rise\", \"rise\", \"rise\", \"rise\", \"rise\", \"rock\", \"role\", \"role\", \"round\", \"run\", \"run\", \"run\", \"sadly\", \"sass\", \"save\", \"savor\", \"say\", \"say\", \"say\", \"say\", \"say\", \"scene\", \"scene\", \"scene\", \"scene\", \"screen\", \"see\", \"see\", \"see\", \"see\", \"see\", \"see\", \"seem\", \"seem\", \"seem\", \"seem\", \"seem\", \"selection\", \"senior\", \"sense\", \"sense\", \"sequel\", \"sequel\", \"sequel\", \"sequence\", \"set\", \"set\", \"set\", \"set\", \"short\", \"short\", \"show\", \"show\", \"show\", \"shrek\", \"silly\", \"simple\", \"simpson\", \"single\", \"sixth\", \"slapstick\", \"slip\", \"sly\", \"small\", \"solid\", \"sound\", \"speak\", \"spotlight\", \"stack\", \"standout\", \"star\", \"star\", \"start\", \"start\", \"start\", \"start\", \"steam\", \"stellar\", \"still\", \"still\", \"still\", \"still\", \"still\", \"still\", \"stone\", \"stop\", \"story\", \"story\", \"story\", \"story\", \"story\", \"story\", \"story\", \"strength\", \"string\", \"strong\", \"stronghold\", \"structure\", \"studio\", \"stuff\", \"subtle\", \"subtle\", \"succeed\", \"super\", \"super\", \"super\", \"superbad\", \"supervillain\", \"supervillain\", \"supervillain\", \"suppose\", \"sure\", \"sure\", \"sure\", \"sure\", \"sure\", \"sure\", \"sure\", \"svengeance\", \"table\", \"tail\", \"take\", \"take\", \"take\", \"take\", \"target\", \"team\", \"tedious\", \"teen\", \"telling\", \"template\", \"term\", \"texture\", \"thankfully\", \"theater\", \"theater\", \"theater\", \"theme\", \"thin\", \"thing\", \"thing\", \"thing\", \"thing\", \"thing\", \"thing\", \"thing\", \"think\", \"think\", \"think\", \"third\", \"though\", \"thought\", \"threadbare\", \"tick\", \"time\", \"time\", \"time\", \"time\", \"time\", \"time\", \"time\", \"time\", \"tiny\", \"tired\", \"tired\", \"tissue\", \"title\", \"tolerable\", \"tongue\", \"top\", \"top\", \"total\", \"toy\", \"track\", \"trade\", \"trading\", \"trailer\", \"trailer\", \"trepidation\", \"trick\", \"troll\", \"troublemaker\", \"trump\", \"try\", \"try\", \"try\", \"twice\", \"twist\", \"typical\", \"ultimate\", \"understand\", \"uneven\", \"uninventive\", \"unoriginal\", \"utter\", \"vacancy\", \"variably\", \"various\", \"vector\", \"vibe\", \"vicious\", \"vicious\", \"vicious\", \"vicious\", \"video\", \"viewer\", \"villain\", \"villain\", \"villain\", \"villain\", \"villain\", \"villain\", \"villain\", \"villainy\", \"villian\", \"vision\", \"visual\", \"visual\", \"visual\", \"voice\", \"voice\", \"voice\", \"voice\", \"voice\", \"voice\", \"wacky\", \"wait\", \"want\", \"want\", \"want\", \"want\", \"waste\", \"watch\", \"watch\", \"watch\", \"watch\", \"watch\", \"watch\", \"watch\", \"watch\", \"way\", \"way\", \"wealth\", \"welcome\", \"well\", \"well\", \"well\", \"well\", \"well\", \"well\", \"well\", \"well\", \"well\", \"well\", \"whacky\", \"whole\", \"whole\", \"whole\", \"wholesome\", \"wild\", \"winner\", \"wonderful\", \"work\", \"work\", \"work\", \"work\", \"work\", \"world\", \"world\", \"world\", \"world\", \"worth\", \"worth\", \"worth\", \"worth\", \"year\", \"year\", \"year\", \"year\", \"year\", \"yellow\", \"yellow\", \"yellow\", \"young\", \"young\", \"young\"]}, \"R\": 30, \"lambda.step\": 0.01, \"plot.opts\": {\"xlab\": \"PC1\", \"ylab\": \"PC2\"}, \"topic.order\": [4, 3, 19, 8, 15, 5, 11, 6, 10, 13, 2, 16, 17, 1, 14, 18, 7, 20, 12, 9]};\n",
              "\n",
              "function LDAvis_load_lib(url, callback){\n",
              "  var s = document.createElement('script');\n",
              "  s.src = url;\n",
              "  s.async = true;\n",
              "  s.onreadystatechange = s.onload = callback;\n",
              "  s.onerror = function(){console.warn(\"failed to load library \" + url);};\n",
              "  document.getElementsByTagName(\"head\")[0].appendChild(s);\n",
              "}\n",
              "\n",
              "if(typeof(LDAvis) !== \"undefined\"){\n",
              "   // already loaded: just create the visualization\n",
              "   !function(LDAvis){\n",
              "       new LDAvis(\"#\" + \"ldavis_el1171397352269739847457152899\", ldavis_el1171397352269739847457152899_data);\n",
              "   }(LDAvis);\n",
              "}else if(typeof define === \"function\" && define.amd){\n",
              "   // require.js is available: use it to load d3/LDAvis\n",
              "   require.config({paths: {d3: \"https://d3js.org/d3.v5\"}});\n",
              "   require([\"d3\"], function(d3){\n",
              "      window.d3 = d3;\n",
              "      LDAvis_load_lib(\"https://cdn.jsdelivr.net/gh/bmabey/pyLDAvis@3.4.0/pyLDAvis/js/ldavis.v3.0.0.js\", function(){\n",
              "        new LDAvis(\"#\" + \"ldavis_el1171397352269739847457152899\", ldavis_el1171397352269739847457152899_data);\n",
              "      });\n",
              "    });\n",
              "}else{\n",
              "    // require.js not available: dynamically load d3 & LDAvis\n",
              "    LDAvis_load_lib(\"https://d3js.org/d3.v5.js\", function(){\n",
              "         LDAvis_load_lib(\"https://cdn.jsdelivr.net/gh/bmabey/pyLDAvis@3.4.0/pyLDAvis/js/ldavis.v3.0.0.js\", function(){\n",
              "                 new LDAvis(\"#\" + \"ldavis_el1171397352269739847457152899\", ldavis_el1171397352269739847457152899_data);\n",
              "            })\n",
              "         });\n",
              "}\n",
              "</script>"
            ]
          },
          "metadata": {},
          "execution_count": 245
        }
      ]
    },
    {
      "cell_type": "code",
      "source": [
        "optimal_model = model_list[3] # getting the topics=8 model, which is in 3rd index of our model and getting the 8 topics.\n",
        "model_topics = optimal_model.show_topics(formatted=False)\n",
        "pprint(optimal_model.print_topics(num_words=10))"
      ],
      "metadata": {
        "colab": {
          "base_uri": "https://localhost:8080/"
        },
        "id": "b9jdPrM4OB4y",
        "outputId": "5ab55ac8-57f1-4214-84d3-efbe45a043e4"
      },
      "execution_count": 246,
      "outputs": [
        {
          "output_type": "stream",
          "name": "stdout",
          "text": [
            "[(0,\n",
            "  '0.029*\"minion\" + 0.022*\"movie\" + 0.022*\"good\" + 0.015*\"make\" + 0.015*\"even\" '\n",
            "  '+ 0.011*\"get\" + 0.011*\"despicable\" + 0.011*\"villain\" + 0.011*\"think\" + '\n",
            "  '0.008*\"rise\"'),\n",
            " (1,\n",
            "  '0.030*\"gru\" + 0.027*\"minion\" + 0.022*\"make\" + 0.019*\"movie\" + 0.017*\"rise\" '\n",
            "  '+ 0.014*\"villain\" + 0.011*\"character\" + 0.011*\"wild\" + 0.008*\"watch\" + '\n",
            "  '0.008*\"film\"'),\n",
            " (2,\n",
            "  '0.026*\"minion\" + 0.026*\"voice\" + 0.020*\"film\" + 0.018*\"movie\" + 0.012*\"gru\" '\n",
            "  '+ 0.012*\"joke\" + 0.012*\"get\" + 0.009*\"still\" + 0.009*\"kid\" + '\n",
            "  '0.009*\"vicious\"'),\n",
            " (3,\n",
            "  '0.024*\"movie\" + 0.014*\"well\" + 0.012*\"minion\" + 0.012*\"character\" + '\n",
            "  '0.011*\"film\" + 0.011*\"moment\" + 0.011*\"work\" + 0.010*\"make\" + 0.010*\"get\" + '\n",
            "  '0.009*\"time\"'),\n",
            " (4,\n",
            "  '0.029*\"minion\" + 0.024*\"film\" + 0.024*\"movie\" + 0.015*\"despicable\" + '\n",
            "  '0.012*\"well\" + 0.012*\"fun\" + 0.012*\"franchise\" + 0.012*\"enough\" + '\n",
            "  '0.012*\"rise\" + 0.012*\"gru\"'),\n",
            " (5,\n",
            "  '0.022*\"movie\" + 0.012*\"minion\" + 0.011*\"character\" + 0.011*\"story\" + '\n",
            "  '0.011*\"animation\" + 0.011*\"original\" + 0.011*\"clearly\" + 0.006*\"well\" + '\n",
            "  '0.006*\"make\" + 0.006*\"rise\"'),\n",
            " (6,\n",
            "  '0.034*\"movie\" + 0.017*\"kid\" + 0.017*\"want\" + 0.011*\"minion\" + 0.011*\"watch\" '\n",
            "  '+ 0.011*\"take\" + 0.011*\"however\" + 0.007*\"see\" + 0.007*\"film\" + '\n",
            "  '0.007*\"gru\"'),\n",
            " (7,\n",
            "  '0.017*\"minion\" + 0.017*\"well\" + 0.015*\"movie\" + 0.015*\"kid\" + 0.011*\"time\" '\n",
            "  '+ 0.011*\"see\" + 0.011*\"funny\" + 0.009*\"feel\" + 0.009*\"story\" + 0.009*\"get\"')]\n"
          ]
        }
      ]
    },
    {
      "cell_type": "markdown",
      "metadata": {
        "id": "e4exX_ZSXbZI"
      },
      "source": [
        "## (2) (10 points) Generate K topics by using LSA, the number of topics K should be decided by the coherence score, then summarize what are the topics. You may refer the code here:\n",
        "\n",
        "https://www.datacamp.com/community/tutorials/discovering-hidden-topics-python"
      ]
    },
    {
      "cell_type": "code",
      "source": [
        "\n",
        "from gensim.models import LsiModel\n",
        "\n",
        "lsamodel = LsiModel(review_corpus, num_topics=10, id2word = review_id2word)  \n",
        "print(lsamodel.print_topics(num_topics=10, num_words=10))"
      ],
      "metadata": {
        "colab": {
          "base_uri": "https://localhost:8080/"
        },
        "id": "sGVxMoF7MKAI",
        "outputId": "5fa8eb1a-b6bb-47c9-cbba-5e7bebd931cd"
      },
      "execution_count": 260,
      "outputs": [
        {
          "output_type": "stream",
          "name": "stdout",
          "text": [
            "[(0, '-0.367*\"movie\" + -0.259*\"minion\" + -0.222*\"well\" + -0.212*\"film\" + -0.200*\"make\" + -0.193*\"character\" + -0.180*\"gru\" + -0.177*\"work\" + -0.169*\"get\" + -0.152*\"voice\"'), (1, '0.443*\"minion\" + 0.260*\"gru\" + 0.197*\"villain\" + 0.173*\"rise\" + 0.170*\"make\" + -0.164*\"moment\" + 0.157*\"good\" + -0.128*\"quite\" + -0.126*\"balance\" + 0.120*\"sure\"'), (2, '-0.396*\"movie\" + 0.294*\"gru\" + -0.265*\"despicable\" + 0.222*\"make\" + -0.177*\"good\" + 0.157*\"character\" + -0.154*\"story\" + 0.145*\"wild\" + -0.131*\"think\" + 0.125*\"come\"'), (3, '-0.340*\"movie\" + 0.309*\"franchise\" + 0.236*\"film\" + 0.163*\"time\" + 0.160*\"minion\" + -0.131*\"villain\" + 0.131*\"fun\" + 0.127*\"least\" + -0.122*\"gru\" + 0.120*\"manage\"'), (4, '-0.268*\"film\" + -0.260*\"voice\" + 0.199*\"kid\" + 0.190*\"see\" + 0.179*\"good\" + 0.145*\"make\" + 0.140*\"get\" + -0.138*\"enough\" + -0.134*\"child\" + 0.129*\"even\"'), (5, '0.195*\"good\" + -0.193*\"kid\" + -0.160*\"action\" + -0.152*\"worth\" + 0.145*\"even\" + -0.141*\"join\" + -0.128*\"see\" + -0.126*\"new\" + -0.125*\"return\" + -0.121*\"voice\"'), (6, '-0.365*\"voice\" + -0.279*\"get\" + 0.207*\"character\" + -0.160*\"minion\" + 0.142*\"movie\" + 0.142*\"scene\" + -0.141*\"vicious\" + 0.137*\"star\" + -0.134*\"try\" + 0.134*\"feel\"'), (7, '0.316*\"kid\" + 0.302*\"funny\" + -0.207*\"good\" + 0.140*\"really\" + 0.139*\"short\" + 0.139*\"move\" + 0.138*\"let\" + 0.133*\"animation\" + -0.131*\"action\" + -0.127*\"star\"'), (8, '0.369*\"star\" + 0.292*\"scene\" + 0.235*\"visual\" + 0.181*\"action\" + 0.149*\"get\" + 0.145*\"imax\" + 0.100*\"keep\" + 0.094*\"sure\" + 0.093*\"story\" + -0.092*\"enough\"'), (9, '-0.373*\"voice\" + -0.178*\"seem\" + 0.166*\"get\" + -0.165*\"kid\" + -0.141*\"year\" + -0.124*\"star\" + -0.124*\"make\" + -0.123*\"watch\" + -0.114*\"scene\" + 0.113*\"enough\"')]\n"
          ]
        }
      ]
    },
    {
      "cell_type": "code",
      "source": [
        "def compute_lsa_coherence_values(dictionary, corpus, texts, limit, start=2, step=3):\n",
        "    coherence_values = []\n",
        "    model_list = []\n",
        "    for num_topics in range(start, limit, step):\n",
        "        lsamodel = LsiModel(corpus, num_topics=num_topics, id2word = dictionary)  \n",
        "        model_list.append(lsamodel)\n",
        "        coherencemodel = CoherenceModel(model=lsamodel, texts=texts, dictionary=dictionary, coherence='c_v')\n",
        "        coherence_values.append(coherencemodel.get_coherence())\n",
        "\n",
        "    return model_list, coherence_values\n",
        "\n",
        "start, limit, step=2, 20, 2\n",
        "model_lsa, coherence_values = compute_lsa_coherence_values(dictionary=review_id2word, corpus=review_corpus, texts=review_data_lemmatized, start=start, limit=limit, step=step)\n",
        "coherence_values_all = []\n",
        "for m, cv in zip(range(start, limit, step), coherence_values):\n",
        "    coherence_values_all.append(round(cv,4))\n",
        "    print(\"Topic no =\", m, \" it's Coherence Value is\", round(cv, 4))"
      ],
      "metadata": {
        "colab": {
          "base_uri": "https://localhost:8080/"
        },
        "id": "XlugobB2OZSU",
        "outputId": "cc720280-9b1f-4bbc-9b8d-6ef35876b2e0"
      },
      "execution_count": 261,
      "outputs": [
        {
          "output_type": "stream",
          "name": "stdout",
          "text": [
            "Topic no = 2  it's Coherence Value is 0.2348\n",
            "Topic no = 4  it's Coherence Value is 0.3414\n",
            "Topic no = 6  it's Coherence Value is 0.4042\n",
            "Topic no = 8  it's Coherence Value is 0.3797\n",
            "Topic no = 10  it's Coherence Value is 0.3745\n",
            "Topic no = 12  it's Coherence Value is 0.3532\n",
            "Topic no = 14  it's Coherence Value is 0.3648\n",
            "Topic no = 16  it's Coherence Value is 0.3757\n",
            "Topic no = 18  it's Coherence Value is 0.4003\n"
          ]
        }
      ]
    },
    {
      "cell_type": "code",
      "source": [
        "coherencemodel = CoherenceModel(model=lsamodel, texts=review_data_lemmatized, dictionary=review_id2word, coherence='c_v')\n",
        "print(coherencemodel.get_coherence())"
      ],
      "metadata": {
        "colab": {
          "base_uri": "https://localhost:8080/"
        },
        "id": "PdoimM7AVmMv",
        "outputId": "14561bea-63cb-4f7a-da01-d34314cae61d"
      },
      "execution_count": 262,
      "outputs": [
        {
          "output_type": "stream",
          "name": "stdout",
          "text": [
            "0.34720320533206633\n"
          ]
        }
      ]
    },
    {
      "cell_type": "code",
      "source": [
        "coherence_values_all\n"
      ],
      "metadata": {
        "colab": {
          "base_uri": "https://localhost:8080/"
        },
        "id": "tWLKA44yPk91",
        "outputId": "2dd23d6b-3782-4047-f4c8-f32d2d7ef86d"
      },
      "execution_count": 263,
      "outputs": [
        {
          "output_type": "execute_result",
          "data": {
            "text/plain": [
              "[0.2348, 0.3414, 0.4042, 0.3797, 0.3745, 0.3532, 0.3648, 0.3757, 0.4003]"
            ]
          },
          "metadata": {},
          "execution_count": 263
        }
      ]
    },
    {
      "cell_type": "code",
      "source": [
        "sum(coherence_values_all)/len(coherence_values_all)\n"
      ],
      "metadata": {
        "colab": {
          "base_uri": "https://localhost:8080/"
        },
        "id": "elqqhNjWPnJb",
        "outputId": "f09f6af8-9ecb-467c-ee4f-e09abee80f65"
      },
      "execution_count": 264,
      "outputs": [
        {
          "output_type": "execute_result",
          "data": {
            "text/plain": [
              "0.3587333333333334"
            ]
          },
          "metadata": {},
          "execution_count": 264
        }
      ]
    },
    {
      "cell_type": "markdown",
      "metadata": {
        "id": "oy8zgT_gXbZI"
      },
      "source": [
        "## (3) (10 points) Generate K topics by using  lda2vec, the number of topics K should be decided by the coherence score, then summarize what are the topics. You may refer the code here:\n",
        "\n",
        "https://nbviewer.org/github/cemoody/lda2vec/blob/master/examples/twenty_newsgroups/lda2vec/lda2vec.ipynb"
      ]
    },
    {
      "cell_type": "code",
      "execution_count": 265,
      "metadata": {
        "colab": {
          "base_uri": "https://localhost:8080/"
        },
        "id": "LbIvWkAqXbZI",
        "outputId": "bca08d4d-ab35-4808-8b21-2e055899276f"
      },
      "outputs": [
        {
          "output_type": "stream",
          "name": "stderr",
          "text": [
            "[nltk_data] Downloading collection 'all'\n",
            "[nltk_data]    | \n",
            "[nltk_data]    | Downloading package abc to /root/nltk_data...\n",
            "[nltk_data]    |   Package abc is already up-to-date!\n",
            "[nltk_data]    | Downloading package alpino to /root/nltk_data...\n",
            "[nltk_data]    |   Package alpino is already up-to-date!\n",
            "[nltk_data]    | Downloading package averaged_perceptron_tagger to\n",
            "[nltk_data]    |     /root/nltk_data...\n",
            "[nltk_data]    |   Package averaged_perceptron_tagger is already up-\n",
            "[nltk_data]    |       to-date!\n",
            "[nltk_data]    | Downloading package averaged_perceptron_tagger_ru to\n",
            "[nltk_data]    |     /root/nltk_data...\n",
            "[nltk_data]    |   Package averaged_perceptron_tagger_ru is already\n",
            "[nltk_data]    |       up-to-date!\n",
            "[nltk_data]    | Downloading package basque_grammars to\n",
            "[nltk_data]    |     /root/nltk_data...\n",
            "[nltk_data]    |   Package basque_grammars is already up-to-date!\n",
            "[nltk_data]    | Downloading package bcp47 to /root/nltk_data...\n",
            "[nltk_data]    |   Package bcp47 is already up-to-date!\n",
            "[nltk_data]    | Downloading package biocreative_ppi to\n",
            "[nltk_data]    |     /root/nltk_data...\n",
            "[nltk_data]    |   Package biocreative_ppi is already up-to-date!\n",
            "[nltk_data]    | Downloading package bllip_wsj_no_aux to\n",
            "[nltk_data]    |     /root/nltk_data...\n",
            "[nltk_data]    |   Package bllip_wsj_no_aux is already up-to-date!\n",
            "[nltk_data]    | Downloading package book_grammars to\n",
            "[nltk_data]    |     /root/nltk_data...\n",
            "[nltk_data]    |   Package book_grammars is already up-to-date!\n",
            "[nltk_data]    | Downloading package brown to /root/nltk_data...\n",
            "[nltk_data]    |   Package brown is already up-to-date!\n",
            "[nltk_data]    | Downloading package brown_tei to /root/nltk_data...\n",
            "[nltk_data]    |   Package brown_tei is already up-to-date!\n",
            "[nltk_data]    | Downloading package cess_cat to /root/nltk_data...\n",
            "[nltk_data]    |   Package cess_cat is already up-to-date!\n",
            "[nltk_data]    | Downloading package cess_esp to /root/nltk_data...\n",
            "[nltk_data]    |   Package cess_esp is already up-to-date!\n",
            "[nltk_data]    | Downloading package chat80 to /root/nltk_data...\n",
            "[nltk_data]    |   Package chat80 is already up-to-date!\n",
            "[nltk_data]    | Downloading package city_database to\n",
            "[nltk_data]    |     /root/nltk_data...\n",
            "[nltk_data]    |   Package city_database is already up-to-date!\n",
            "[nltk_data]    | Downloading package cmudict to /root/nltk_data...\n",
            "[nltk_data]    |   Package cmudict is already up-to-date!\n",
            "[nltk_data]    | Downloading package comparative_sentences to\n",
            "[nltk_data]    |     /root/nltk_data...\n",
            "[nltk_data]    |   Package comparative_sentences is already up-to-\n",
            "[nltk_data]    |       date!\n",
            "[nltk_data]    | Downloading package comtrans to /root/nltk_data...\n",
            "[nltk_data]    |   Package comtrans is already up-to-date!\n",
            "[nltk_data]    | Downloading package conll2000 to /root/nltk_data...\n",
            "[nltk_data]    |   Package conll2000 is already up-to-date!\n",
            "[nltk_data]    | Downloading package conll2002 to /root/nltk_data...\n",
            "[nltk_data]    |   Package conll2002 is already up-to-date!\n",
            "[nltk_data]    | Downloading package conll2007 to /root/nltk_data...\n",
            "[nltk_data]    |   Package conll2007 is already up-to-date!\n",
            "[nltk_data]    | Downloading package crubadan to /root/nltk_data...\n",
            "[nltk_data]    |   Package crubadan is already up-to-date!\n",
            "[nltk_data]    | Downloading package dependency_treebank to\n",
            "[nltk_data]    |     /root/nltk_data...\n",
            "[nltk_data]    |   Package dependency_treebank is already up-to-date!\n",
            "[nltk_data]    | Downloading package dolch to /root/nltk_data...\n",
            "[nltk_data]    |   Package dolch is already up-to-date!\n",
            "[nltk_data]    | Downloading package europarl_raw to\n",
            "[nltk_data]    |     /root/nltk_data...\n",
            "[nltk_data]    |   Package europarl_raw is already up-to-date!\n",
            "[nltk_data]    | Downloading package extended_omw to\n",
            "[nltk_data]    |     /root/nltk_data...\n",
            "[nltk_data]    |   Package extended_omw is already up-to-date!\n",
            "[nltk_data]    | Downloading package floresta to /root/nltk_data...\n",
            "[nltk_data]    |   Package floresta is already up-to-date!\n",
            "[nltk_data]    | Downloading package framenet_v15 to\n",
            "[nltk_data]    |     /root/nltk_data...\n",
            "[nltk_data]    |   Package framenet_v15 is already up-to-date!\n",
            "[nltk_data]    | Downloading package framenet_v17 to\n",
            "[nltk_data]    |     /root/nltk_data...\n",
            "[nltk_data]    |   Package framenet_v17 is already up-to-date!\n",
            "[nltk_data]    | Downloading package gazetteers to /root/nltk_data...\n",
            "[nltk_data]    |   Package gazetteers is already up-to-date!\n",
            "[nltk_data]    | Downloading package genesis to /root/nltk_data...\n",
            "[nltk_data]    |   Package genesis is already up-to-date!\n",
            "[nltk_data]    | Downloading package gutenberg to /root/nltk_data...\n",
            "[nltk_data]    |   Package gutenberg is already up-to-date!\n",
            "[nltk_data]    | Downloading package ieer to /root/nltk_data...\n",
            "[nltk_data]    |   Package ieer is already up-to-date!\n",
            "[nltk_data]    | Downloading package inaugural to /root/nltk_data...\n",
            "[nltk_data]    |   Package inaugural is already up-to-date!\n",
            "[nltk_data]    | Downloading package indian to /root/nltk_data...\n",
            "[nltk_data]    |   Package indian is already up-to-date!\n",
            "[nltk_data]    | Downloading package jeita to /root/nltk_data...\n",
            "[nltk_data]    |   Package jeita is already up-to-date!\n",
            "[nltk_data]    | Downloading package kimmo to /root/nltk_data...\n",
            "[nltk_data]    |   Package kimmo is already up-to-date!\n",
            "[nltk_data]    | Downloading package knbc to /root/nltk_data...\n",
            "[nltk_data]    |   Package knbc is already up-to-date!\n",
            "[nltk_data]    | Downloading package large_grammars to\n",
            "[nltk_data]    |     /root/nltk_data...\n",
            "[nltk_data]    |   Package large_grammars is already up-to-date!\n",
            "[nltk_data]    | Downloading package lin_thesaurus to\n",
            "[nltk_data]    |     /root/nltk_data...\n",
            "[nltk_data]    |   Package lin_thesaurus is already up-to-date!\n",
            "[nltk_data]    | Downloading package mac_morpho to /root/nltk_data...\n",
            "[nltk_data]    |   Package mac_morpho is already up-to-date!\n",
            "[nltk_data]    | Downloading package machado to /root/nltk_data...\n",
            "[nltk_data]    |   Package machado is already up-to-date!\n",
            "[nltk_data]    | Downloading package masc_tagged to /root/nltk_data...\n",
            "[nltk_data]    |   Package masc_tagged is already up-to-date!\n",
            "[nltk_data]    | Downloading package maxent_ne_chunker to\n",
            "[nltk_data]    |     /root/nltk_data...\n",
            "[nltk_data]    |   Package maxent_ne_chunker is already up-to-date!\n",
            "[nltk_data]    | Downloading package maxent_treebank_pos_tagger to\n",
            "[nltk_data]    |     /root/nltk_data...\n",
            "[nltk_data]    |   Package maxent_treebank_pos_tagger is already up-\n",
            "[nltk_data]    |       to-date!\n",
            "[nltk_data]    | Downloading package moses_sample to\n",
            "[nltk_data]    |     /root/nltk_data...\n",
            "[nltk_data]    |   Package moses_sample is already up-to-date!\n",
            "[nltk_data]    | Downloading package movie_reviews to\n",
            "[nltk_data]    |     /root/nltk_data...\n",
            "[nltk_data]    |   Package movie_reviews is already up-to-date!\n",
            "[nltk_data]    | Downloading package mte_teip5 to /root/nltk_data...\n",
            "[nltk_data]    |   Package mte_teip5 is already up-to-date!\n",
            "[nltk_data]    | Downloading package mwa_ppdb to /root/nltk_data...\n",
            "[nltk_data]    |   Package mwa_ppdb is already up-to-date!\n",
            "[nltk_data]    | Downloading package names to /root/nltk_data...\n",
            "[nltk_data]    |   Package names is already up-to-date!\n",
            "[nltk_data]    | Downloading package nombank.1.0 to /root/nltk_data...\n",
            "[nltk_data]    |   Package nombank.1.0 is already up-to-date!\n",
            "[nltk_data]    | Downloading package nonbreaking_prefixes to\n",
            "[nltk_data]    |     /root/nltk_data...\n",
            "[nltk_data]    |   Package nonbreaking_prefixes is already up-to-date!\n",
            "[nltk_data]    | Downloading package nps_chat to /root/nltk_data...\n",
            "[nltk_data]    |   Package nps_chat is already up-to-date!\n",
            "[nltk_data]    | Downloading package omw to /root/nltk_data...\n",
            "[nltk_data]    |   Package omw is already up-to-date!\n",
            "[nltk_data]    | Downloading package omw-1.4 to /root/nltk_data...\n",
            "[nltk_data]    |   Package omw-1.4 is already up-to-date!\n",
            "[nltk_data]    | Downloading package opinion_lexicon to\n",
            "[nltk_data]    |     /root/nltk_data...\n",
            "[nltk_data]    |   Package opinion_lexicon is already up-to-date!\n",
            "[nltk_data]    | Downloading package panlex_swadesh to\n",
            "[nltk_data]    |     /root/nltk_data...\n",
            "[nltk_data]    |   Package panlex_swadesh is already up-to-date!\n",
            "[nltk_data]    | Downloading package paradigms to /root/nltk_data...\n",
            "[nltk_data]    |   Package paradigms is already up-to-date!\n",
            "[nltk_data]    | Downloading package pe08 to /root/nltk_data...\n",
            "[nltk_data]    |   Package pe08 is already up-to-date!\n",
            "[nltk_data]    | Downloading package perluniprops to\n",
            "[nltk_data]    |     /root/nltk_data...\n",
            "[nltk_data]    |   Package perluniprops is already up-to-date!\n",
            "[nltk_data]    | Downloading package pil to /root/nltk_data...\n",
            "[nltk_data]    |   Package pil is already up-to-date!\n",
            "[nltk_data]    | Downloading package pl196x to /root/nltk_data...\n",
            "[nltk_data]    |   Package pl196x is already up-to-date!\n",
            "[nltk_data]    | Downloading package porter_test to /root/nltk_data...\n",
            "[nltk_data]    |   Package porter_test is already up-to-date!\n",
            "[nltk_data]    | Downloading package ppattach to /root/nltk_data...\n",
            "[nltk_data]    |   Package ppattach is already up-to-date!\n",
            "[nltk_data]    | Downloading package problem_reports to\n",
            "[nltk_data]    |     /root/nltk_data...\n",
            "[nltk_data]    |   Package problem_reports is already up-to-date!\n",
            "[nltk_data]    | Downloading package product_reviews_1 to\n",
            "[nltk_data]    |     /root/nltk_data...\n",
            "[nltk_data]    |   Package product_reviews_1 is already up-to-date!\n",
            "[nltk_data]    | Downloading package product_reviews_2 to\n",
            "[nltk_data]    |     /root/nltk_data...\n",
            "[nltk_data]    |   Package product_reviews_2 is already up-to-date!\n",
            "[nltk_data]    | Downloading package propbank to /root/nltk_data...\n",
            "[nltk_data]    |   Package propbank is already up-to-date!\n",
            "[nltk_data]    | Downloading package pros_cons to /root/nltk_data...\n",
            "[nltk_data]    |   Package pros_cons is already up-to-date!\n",
            "[nltk_data]    | Downloading package ptb to /root/nltk_data...\n",
            "[nltk_data]    |   Package ptb is already up-to-date!\n",
            "[nltk_data]    | Downloading package punkt to /root/nltk_data...\n",
            "[nltk_data]    |   Package punkt is already up-to-date!\n",
            "[nltk_data]    | Downloading package qc to /root/nltk_data...\n",
            "[nltk_data]    |   Package qc is already up-to-date!\n",
            "[nltk_data]    | Downloading package reuters to /root/nltk_data...\n",
            "[nltk_data]    |   Package reuters is already up-to-date!\n",
            "[nltk_data]    | Downloading package rslp to /root/nltk_data...\n",
            "[nltk_data]    |   Package rslp is already up-to-date!\n",
            "[nltk_data]    | Downloading package rte to /root/nltk_data...\n",
            "[nltk_data]    |   Package rte is already up-to-date!\n",
            "[nltk_data]    | Downloading package sample_grammars to\n",
            "[nltk_data]    |     /root/nltk_data...\n",
            "[nltk_data]    |   Package sample_grammars is already up-to-date!\n",
            "[nltk_data]    | Downloading package semcor to /root/nltk_data...\n",
            "[nltk_data]    |   Package semcor is already up-to-date!\n",
            "[nltk_data]    | Downloading package senseval to /root/nltk_data...\n",
            "[nltk_data]    |   Package senseval is already up-to-date!\n",
            "[nltk_data]    | Downloading package sentence_polarity to\n",
            "[nltk_data]    |     /root/nltk_data...\n",
            "[nltk_data]    |   Package sentence_polarity is already up-to-date!\n",
            "[nltk_data]    | Downloading package sentiwordnet to\n",
            "[nltk_data]    |     /root/nltk_data...\n",
            "[nltk_data]    |   Package sentiwordnet is already up-to-date!\n",
            "[nltk_data]    | Downloading package shakespeare to /root/nltk_data...\n",
            "[nltk_data]    |   Package shakespeare is already up-to-date!\n",
            "[nltk_data]    | Downloading package sinica_treebank to\n",
            "[nltk_data]    |     /root/nltk_data...\n",
            "[nltk_data]    |   Package sinica_treebank is already up-to-date!\n",
            "[nltk_data]    | Downloading package smultron to /root/nltk_data...\n",
            "[nltk_data]    |   Package smultron is already up-to-date!\n",
            "[nltk_data]    | Downloading package snowball_data to\n",
            "[nltk_data]    |     /root/nltk_data...\n",
            "[nltk_data]    |   Package snowball_data is already up-to-date!\n",
            "[nltk_data]    | Downloading package spanish_grammars to\n",
            "[nltk_data]    |     /root/nltk_data...\n",
            "[nltk_data]    |   Package spanish_grammars is already up-to-date!\n",
            "[nltk_data]    | Downloading package state_union to /root/nltk_data...\n",
            "[nltk_data]    |   Package state_union is already up-to-date!\n",
            "[nltk_data]    | Downloading package stopwords to /root/nltk_data...\n",
            "[nltk_data]    |   Package stopwords is already up-to-date!\n",
            "[nltk_data]    | Downloading package subjectivity to\n",
            "[nltk_data]    |     /root/nltk_data...\n",
            "[nltk_data]    |   Package subjectivity is already up-to-date!\n",
            "[nltk_data]    | Downloading package swadesh to /root/nltk_data...\n",
            "[nltk_data]    |   Package swadesh is already up-to-date!\n",
            "[nltk_data]    | Downloading package switchboard to /root/nltk_data...\n",
            "[nltk_data]    |   Package switchboard is already up-to-date!\n",
            "[nltk_data]    | Downloading package tagsets to /root/nltk_data...\n",
            "[nltk_data]    |   Package tagsets is already up-to-date!\n",
            "[nltk_data]    | Downloading package timit to /root/nltk_data...\n",
            "[nltk_data]    |   Package timit is already up-to-date!\n",
            "[nltk_data]    | Downloading package toolbox to /root/nltk_data...\n",
            "[nltk_data]    |   Package toolbox is already up-to-date!\n",
            "[nltk_data]    | Downloading package treebank to /root/nltk_data...\n",
            "[nltk_data]    |   Package treebank is already up-to-date!\n",
            "[nltk_data]    | Downloading package twitter_samples to\n",
            "[nltk_data]    |     /root/nltk_data...\n",
            "[nltk_data]    |   Package twitter_samples is already up-to-date!\n",
            "[nltk_data]    | Downloading package udhr to /root/nltk_data...\n",
            "[nltk_data]    |   Package udhr is already up-to-date!\n",
            "[nltk_data]    | Downloading package udhr2 to /root/nltk_data...\n",
            "[nltk_data]    |   Package udhr2 is already up-to-date!\n",
            "[nltk_data]    | Downloading package unicode_samples to\n",
            "[nltk_data]    |     /root/nltk_data...\n",
            "[nltk_data]    |   Package unicode_samples is already up-to-date!\n",
            "[nltk_data]    | Downloading package universal_tagset to\n",
            "[nltk_data]    |     /root/nltk_data...\n",
            "[nltk_data]    |   Package universal_tagset is already up-to-date!\n",
            "[nltk_data]    | Downloading package universal_treebanks_v20 to\n",
            "[nltk_data]    |     /root/nltk_data...\n",
            "[nltk_data]    |   Package universal_treebanks_v20 is already up-to-\n",
            "[nltk_data]    |       date!\n",
            "[nltk_data]    | Downloading package vader_lexicon to\n",
            "[nltk_data]    |     /root/nltk_data...\n",
            "[nltk_data]    |   Package vader_lexicon is already up-to-date!\n",
            "[nltk_data]    | Downloading package verbnet to /root/nltk_data...\n",
            "[nltk_data]    |   Package verbnet is already up-to-date!\n",
            "[nltk_data]    | Downloading package verbnet3 to /root/nltk_data...\n",
            "[nltk_data]    |   Package verbnet3 is already up-to-date!\n",
            "[nltk_data]    | Downloading package webtext to /root/nltk_data...\n",
            "[nltk_data]    |   Package webtext is already up-to-date!\n",
            "[nltk_data]    | Downloading package wmt15_eval to /root/nltk_data...\n",
            "[nltk_data]    |   Package wmt15_eval is already up-to-date!\n",
            "[nltk_data]    | Downloading package word2vec_sample to\n",
            "[nltk_data]    |     /root/nltk_data...\n",
            "[nltk_data]    |   Package word2vec_sample is already up-to-date!\n",
            "[nltk_data]    | Downloading package wordnet to /root/nltk_data...\n",
            "[nltk_data]    |   Package wordnet is already up-to-date!\n",
            "[nltk_data]    | Downloading package wordnet2021 to /root/nltk_data...\n",
            "[nltk_data]    |   Package wordnet2021 is already up-to-date!\n",
            "[nltk_data]    | Downloading package wordnet2022 to /root/nltk_data...\n",
            "[nltk_data]    |   Package wordnet2022 is already up-to-date!\n",
            "[nltk_data]    | Downloading package wordnet31 to /root/nltk_data...\n",
            "[nltk_data]    |   Package wordnet31 is already up-to-date!\n",
            "[nltk_data]    | Downloading package wordnet_ic to /root/nltk_data...\n",
            "[nltk_data]    |   Package wordnet_ic is already up-to-date!\n",
            "[nltk_data]    | Downloading package words to /root/nltk_data...\n",
            "[nltk_data]    |   Package words is already up-to-date!\n",
            "[nltk_data]    | Downloading package ycoe to /root/nltk_data...\n",
            "[nltk_data]    |   Package ycoe is already up-to-date!\n",
            "[nltk_data]    | \n",
            "[nltk_data]  Done downloading collection all\n"
          ]
        },
        {
          "output_type": "stream",
          "name": "stdout",
          "text": [
            "Looking in indexes: https://pypi.org/simple, https://us-python.pkg.dev/colab-wheels/public/simple/\n",
            "Requirement already satisfied: preprocess in /usr/local/lib/python3.9/dist-packages (2.0.0)\n",
            "Requirement already satisfied: future in /usr/local/lib/python3.9/dist-packages (from preprocess) (0.18.3)\n"
          ]
        }
      ],
      "source": [
        "# Write your code here\n",
        "\n",
        "nltk.download('all')\n",
        "!pip install preprocess\n",
        "import matplotlib.pyplot as plt\n",
        "import numpy as np\n",
        "%matplotlib inline\n",
        "import pyLDAvis\n",
        "pyLDAvis.enable_notebook()\n",
        "\n"
      ]
    },
    {
      "cell_type": "code",
      "source": [
        "top_valu = 10\n",
        "top_topwords = {}\n",
        "for j, topic_to_word in enumerate(df.reviews.tolist()):\n",
        "    top = np.argsort(topic_to_word)[::-1][:top_valu]\n",
        "    msg = 'Topic %i '  % j\n",
        "    top_words = [df.reviews.tolist()[i].strip()[:35] for i in top]\n",
        "    msg += 'has stop words '.join(top_words)\n",
        "    print (msg)\n",
        "    top_topwords[j] = top_words"
      ],
      "metadata": {
        "colab": {
          "base_uri": "https://localhost:8080/"
        },
        "id": "LaT324xkQIE9",
        "outputId": "4f05e322-39b8-4d31-fc44-35ca1ed2d4b7"
      },
      "execution_count": 266,
      "outputs": [
        {
          "output_type": "stream",
          "name": "stdout",
          "text": [
            "Topic 0 For reference, here are my ratings \n",
            "Topic 1 For reference, here are my ratings \n",
            "Topic 2 For reference, here are my ratings \n",
            "Topic 3 For reference, here are my ratings \n",
            "Topic 4 For reference, here are my ratings \n",
            "Topic 5 For reference, here are my ratings \n",
            "Topic 6 For reference, here are my ratings \n",
            "Topic 7 For reference, here are my ratings \n",
            "Topic 8 For reference, here are my ratings \n",
            "Topic 9 For reference, here are my ratings \n",
            "Topic 10 For reference, here are my ratings \n",
            "Topic 11 For reference, here are my ratings \n",
            "Topic 12 For reference, here are my ratings \n",
            "Topic 13 For reference, here are my ratings \n",
            "Topic 14 For reference, here are my ratings \n",
            "Topic 15 For reference, here are my ratings \n",
            "Topic 16 For reference, here are my ratings \n",
            "Topic 17 For reference, here are my ratings \n",
            "Topic 18 For reference, here are my ratings \n",
            "Topic 19 For reference, here are my ratings \n",
            "Topic 20 For reference, here are my ratings \n",
            "Topic 21 For reference, here are my ratings \n",
            "Topic 22 For reference, here are my ratings \n"
          ]
        }
      ]
    },
    {
      "cell_type": "code",
      "source": [
        "plt.bar(np.arange(20), df.reviews.tolist()[1])\n"
      ],
      "metadata": {
        "colab": {
          "base_uri": "https://localhost:8080/",
          "height": 113
        },
        "id": "SDUU8pRHQRIn",
        "outputId": "59c53613-7e9b-4594-b087-b657708e682d"
      },
      "execution_count": 267,
      "outputs": [
        {
          "output_type": "execute_result",
          "data": {
            "text/plain": [
              "<BarContainer object of 20 artists>"
            ]
          },
          "metadata": {},
          "execution_count": 267
        },
        {
          "output_type": "display_data",
          "data": {
            "text/plain": [
              "<Figure size 640x480 with 1 Axes>"
            ],
            "image/png": "[encoded data removed]"
          },
          "metadata": {}
        }
      ]
    },
    {
      "cell_type": "markdown",
      "metadata": {
        "id": "3jP_zQQ6XbZI"
      },
      "source": [
        "## (4) (10 points) Generate K topics by using BERTopic, the number of topics K should be decided by the coherence score, then summarize what are the topics. You may refer the code here: \n",
        "\n",
        "https://colab.research.google.com/drive/1FieRA9fLdkQEGDIMYl0I3MCjSUKVF8C-?usp=sharing"
      ]
    },
    {
      "cell_type": "code",
      "execution_count": 268,
      "metadata": {
        "colab": {
          "base_uri": "https://localhost:8080/"
        },
        "id": "hws1-9goXbZI",
        "outputId": "3afbc818-ff43-465c-e258-aa7481e06547"
      },
      "outputs": [
        {
          "output_type": "stream",
          "name": "stdout",
          "text": [
            "Looking in indexes: https://pypi.org/simple, https://us-python.pkg.dev/colab-wheels/public/simple/\n",
            "Requirement already satisfied: bertopic in /usr/local/lib/python3.9/dist-packages (0.14.1)\n",
            "Requirement already satisfied: plotly>=4.7.0 in /usr/local/lib/python3.9/dist-packages (from bertopic) (5.13.1)\n",
            "Requirement already satisfied: pandas>=1.1.5 in /usr/local/lib/python3.9/dist-packages (from bertopic) (1.4.4)\n",
            "Requirement already satisfied: numpy>=1.20.0 in /usr/local/lib/python3.9/dist-packages (from bertopic) (1.22.4)\n",
            "Requirement already satisfied: scikit-learn>=0.22.2.post1 in /usr/local/lib/python3.9/dist-packages (from bertopic) (1.2.2)\n",
            "Requirement already satisfied: tqdm>=4.41.1 in /usr/local/lib/python3.9/dist-packages (from bertopic) (4.65.0)\n",
            "Requirement already satisfied: hdbscan>=0.8.29 in /usr/local/lib/python3.9/dist-packages (from bertopic) (0.8.29)\n",
            "Requirement already satisfied: umap-learn>=0.5.0 in /usr/local/lib/python3.9/dist-packages (from bertopic) (0.5.3)\n",
            "Requirement already satisfied: sentence-transformers>=0.4.1 in /usr/local/lib/python3.9/dist-packages (from bertopic) (2.2.2)\n",
            "Requirement already satisfied: scipy>=1.0 in /usr/local/lib/python3.9/dist-packages (from hdbscan>=0.8.29->bertopic) (1.10.1)\n",
            "Requirement already satisfied: cython>=0.27 in /usr/local/lib/python3.9/dist-packages (from hdbscan>=0.8.29->bertopic) (0.29.33)\n",
            "Requirement already satisfied: joblib>=1.0 in /usr/local/lib/python3.9/dist-packages (from hdbscan>=0.8.29->bertopic) (1.2.0)\n",
            "Requirement already satisfied: pytz>=2020.1 in /usr/local/lib/python3.9/dist-packages (from pandas>=1.1.5->bertopic) (2022.7.1)\n",
            "Requirement already satisfied: python-dateutil>=2.8.1 in /usr/local/lib/python3.9/dist-packages (from pandas>=1.1.5->bertopic) (2.8.2)\n",
            "Requirement already satisfied: tenacity>=6.2.0 in /usr/local/lib/python3.9/dist-packages (from plotly>=4.7.0->bertopic) (8.2.2)\n",
            "Requirement already satisfied: threadpoolctl>=2.0.0 in /usr/local/lib/python3.9/dist-packages (from scikit-learn>=0.22.2.post1->bertopic) (3.1.0)\n",
            "Requirement already satisfied: torch>=1.6.0 in /usr/local/lib/python3.9/dist-packages (from sentence-transformers>=0.4.1->bertopic) (1.13.1+cu116)\n",
            "Requirement already satisfied: huggingface-hub>=0.4.0 in /usr/local/lib/python3.9/dist-packages (from sentence-transformers>=0.4.1->bertopic) (0.13.3)\n",
            "Requirement already satisfied: sentencepiece in /usr/local/lib/python3.9/dist-packages (from sentence-transformers>=0.4.1->bertopic) (0.1.97)\n",
            "Requirement already satisfied: nltk in /usr/local/lib/python3.9/dist-packages (from sentence-transformers>=0.4.1->bertopic) (3.8.1)\n",
            "Requirement already satisfied: transformers<5.0.0,>=4.6.0 in /usr/local/lib/python3.9/dist-packages (from sentence-transformers>=0.4.1->bertopic) (4.27.4)\n",
            "Requirement already satisfied: torchvision in /usr/local/lib/python3.9/dist-packages (from sentence-transformers>=0.4.1->bertopic) (0.14.1+cu116)\n",
            "Requirement already satisfied: numba>=0.49 in /usr/local/lib/python3.9/dist-packages (from umap-learn>=0.5.0->bertopic) (0.56.4)\n",
            "Requirement already satisfied: pynndescent>=0.5 in /usr/local/lib/python3.9/dist-packages (from umap-learn>=0.5.0->bertopic) (0.5.8)\n",
            "Requirement already satisfied: packaging>=20.9 in /usr/local/lib/python3.9/dist-packages (from huggingface-hub>=0.4.0->sentence-transformers>=0.4.1->bertopic) (23.0)\n",
            "Requirement already satisfied: pyyaml>=5.1 in /usr/local/lib/python3.9/dist-packages (from huggingface-hub>=0.4.0->sentence-transformers>=0.4.1->bertopic) (6.0)\n",
            "Requirement already satisfied: filelock in /usr/local/lib/python3.9/dist-packages (from huggingface-hub>=0.4.0->sentence-transformers>=0.4.1->bertopic) (3.10.7)\n",
            "Requirement already satisfied: typing-extensions>=3.7.4.3 in /usr/local/lib/python3.9/dist-packages (from huggingface-hub>=0.4.0->sentence-transformers>=0.4.1->bertopic) (4.5.0)\n",
            "Requirement already satisfied: requests in /usr/local/lib/python3.9/dist-packages (from huggingface-hub>=0.4.0->sentence-transformers>=0.4.1->bertopic) (2.27.1)\n",
            "Requirement already satisfied: llvmlite<0.40,>=0.39.0dev0 in /usr/local/lib/python3.9/dist-packages (from numba>=0.49->umap-learn>=0.5.0->bertopic) (0.39.1)\n",
            "Requirement already satisfied: setuptools in /usr/local/lib/python3.9/dist-packages (from numba>=0.49->umap-learn>=0.5.0->bertopic) (67.6.1)\n",
            "Requirement already satisfied: six>=1.5 in /usr/local/lib/python3.9/dist-packages (from python-dateutil>=2.8.1->pandas>=1.1.5->bertopic) (1.16.0)\n",
            "Requirement already satisfied: tokenizers!=0.11.3,<0.14,>=0.11.1 in /usr/local/lib/python3.9/dist-packages (from transformers<5.0.0,>=4.6.0->sentence-transformers>=0.4.1->bertopic) (0.13.2)\n",
            "Requirement already satisfied: regex!=2019.12.17 in /usr/local/lib/python3.9/dist-packages (from transformers<5.0.0,>=4.6.0->sentence-transformers>=0.4.1->bertopic) (2022.10.31)\n",
            "Requirement already satisfied: click in /usr/local/lib/python3.9/dist-packages (from nltk->sentence-transformers>=0.4.1->bertopic) (8.1.3)\n",
            "Requirement already satisfied: pillow!=8.3.*,>=5.3.0 in /usr/local/lib/python3.9/dist-packages (from torchvision->sentence-transformers>=0.4.1->bertopic) (8.4.0)\n",
            "Requirement already satisfied: charset-normalizer~=2.0.0 in /usr/local/lib/python3.9/dist-packages (from requests->huggingface-hub>=0.4.0->sentence-transformers>=0.4.1->bertopic) (2.0.12)\n",
            "Requirement already satisfied: idna<4,>=2.5 in /usr/local/lib/python3.9/dist-packages (from requests->huggingface-hub>=0.4.0->sentence-transformers>=0.4.1->bertopic) (3.4)\n",
            "Requirement already satisfied: urllib3<1.27,>=1.21.1 in /usr/local/lib/python3.9/dist-packages (from requests->huggingface-hub>=0.4.0->sentence-transformers>=0.4.1->bertopic) (1.26.15)\n",
            "Requirement already satisfied: certifi>=2017.4.17 in /usr/local/lib/python3.9/dist-packages (from requests->huggingface-hub>=0.4.0->sentence-transformers>=0.4.1->bertopic) (2022.12.7)\n"
          ]
        }
      ],
      "source": [
        "!pip install bertopic"
      ]
    },
    {
      "cell_type": "code",
      "source": [
        "from bertopic import BERTopic\n",
        "\n",
        "topic_model = BERTopic(language=\"english\", calculate_probabilities=True, verbose=True)\n",
        "topics, probs = topic_model.fit_transform(df.reviews.tolist())\n",
        "freq = topic_model.get_topic_info(); freq.head(5)"
      ],
      "metadata": {
        "colab": {
          "base_uri": "https://localhost:8080/",
          "height": 165,
          "referenced_widgets": [
            "2716858f39104ba681b988b43fa5b42f",
            "a3b5d055ba3d4b6db7924477c3d1df96",
            "b698331e18f94cf29d943e4642dcdfea",
            "9042ce1d124d4a36aab3f0cbe4324ab4",
            "41e5936decc24a44a5efd15b6caf3894",
            "a7b1d2ae76a7477292963180e6da7fb5",
            "d068cd61a2924fbdb58f150e6a386ac1",
            "804dd50f812e468e8b03205f9785536e",
            "810e23dfd2c9430cb4580af41695863f",
            "36d4cddb49404396a082d1484a85f45c",
            "6111041a12b744c9898d32f30b0b78ff"
          ]
        },
        "id": "hkSrBvuqROyI",
        "outputId": "9a1e206a-25cf-4de5-ba24-50e14cab575e"
      },
      "execution_count": 269,
      "outputs": [
        {
          "output_type": "display_data",
          "data": {
            "text/plain": [
              "Batches:   0%|          | 0/1 [00:00<?, ?it/s]"
            ],
            "application/vnd.jupyter.widget-view+json": {
              "version_major": 2,
              "version_minor": 0,
              "model_id": "2716858f39104ba681b988b43fa5b42f"
            }
          },
          "metadata": {}
        },
        {
          "output_type": "stream",
          "name": "stderr",
          "text": [
            "2023-04-03 04:57:24,903 - BERTopic - Transformed documents to Embeddings\n",
            "2023-04-03 04:57:29,368 - BERTopic - Reduced dimensionality\n",
            "2023-04-03 04:57:29,385 - BERTopic - Clustered reduced embeddings\n"
          ]
        },
        {
          "output_type": "execute_result",
          "data": {
            "text/plain": [
              "   Topic  Count              Name\n",
              "0     -1     23  -1_the_and_to_of"
            ],
            "text/html": [
              "\n",
              "  <div id=\"df-62cbba23-a9c9-48b2-91d5-0bdc3d0ceb87\">\n",
              "    <div class=\"colab-df-container\">\n",
              "      <div>\n",
              "<style scoped>\n",
              "    .dataframe tbody tr th:only-of-type {\n",
              "        vertical-align: middle;\n",
              "    }\n",
              "\n",
              "    .dataframe tbody tr th {\n",
              "        vertical-align: top;\n",
              "    }\n",
              "\n",
              "    .dataframe thead th {\n",
              "        text-align: right;\n",
              "    }\n",
              "</style>\n",
              "<table border=\"1\" class=\"dataframe\">\n",
              "  <thead>\n",
              "    <tr style=\"text-align: right;\">\n",
              "      <th></th>\n",
              "      <th>Topic</th>\n",
              "      <th>Count</th>\n",
              "      <th>Name</th>\n",
              "    </tr>\n",
              "  </thead>\n",
              "  <tbody>\n",
              "    <tr>\n",
              "      <th>0</th>\n",
              "      <td>-1</td>\n",
              "      <td>23</td>\n",
              "      <td>-1_the_and_to_of</td>\n",
              "    </tr>\n",
              "  </tbody>\n",
              "</table>\n",
              "</div>\n",
              "      <button class=\"colab-df-convert\" onclick=\"convertToInteractive('df-62cbba23-a9c9-48b2-91d5-0bdc3d0ceb87')\"\n",
              "              title=\"Convert this dataframe to an interactive table.\"\n",
              "              style=\"display:none;\">\n",
              "        \n",
              "  <svg xmlns=\"http://www.w3.org/2000/svg\" height=\"24px\"viewBox=\"0 0 24 24\"\n",
              "       width=\"24px\">\n",
              "    <path d=\"M0 0h24v24H0V0z\" fill=\"none\"/>\n",
              "    <path d=\"M18.56 5.44l.94 2.06.94-2.06 2.06-.94-2.06-.94-.94-2.06-.94 2.06-2.06.94zm-11 1L8.5 8.5l.94-2.06 2.06-.94-2.06-.94L8.5 2.5l-.94 2.06-2.06.94zm10 10l.94 2.06.94-2.06 2.06-.94-2.06-.94-.94-2.06-.94 2.06-2.06.94z\"/><path d=\"M17.41 7.96l-1.37-1.37c-.4-.4-.92-.59-1.43-.59-.52 0-1.04.2-1.43.59L10.3 9.45l-7.72 7.72c-.78.78-.78 2.05 0 2.83L4 21.41c.39.39.9.59 1.41.59.51 0 1.02-.2 1.41-.59l7.78-7.78 2.81-2.81c.8-.78.8-2.07 0-2.86zM5.41 20L4 18.59l7.72-7.72 1.47 1.35L5.41 20z\"/>\n",
              "  </svg>\n",
              "      </button>\n",
              "      \n",
              "  <style>\n",
              "    .colab-df-container {\n",
              "      display:flex;\n",
              "      flex-wrap:wrap;\n",
              "      gap: 12px;\n",
              "    }\n",
              "\n",
              "    .colab-df-convert {\n",
              "      background-color: #E8F0FE;\n",
              "      border: none;\n",
              "      border-radius: 50%;\n",
              "      cursor: pointer;\n",
              "      display: none;\n",
              "      fill: #1967D2;\n",
              "      height: 32px;\n",
              "      padding: 0 0 0 0;\n",
              "      width: 32px;\n",
              "    }\n",
              "\n",
              "    .colab-df-convert:hover {\n",
              "      background-color: #E2EBFA;\n",
              "      box-shadow: 0px 1px 2px rgba(60, 64, 67, 0.3), 0px 1px 3px 1px rgba(60, 64, 67, 0.15);\n",
              "      fill: #174EA6;\n",
              "    }\n",
              "\n",
              "    [theme=dark] .colab-df-convert {\n",
              "      background-color: #3B4455;\n",
              "      fill: #D2E3FC;\n",
              "    }\n",
              "\n",
              "    [theme=dark] .colab-df-convert:hover {\n",
              "      background-color: #434B5C;\n",
              "      box-shadow: 0px 1px 3px 1px rgba(0, 0, 0, 0.15);\n",
              "      filter: drop-shadow(0px 1px 2px rgba(0, 0, 0, 0.3));\n",
              "      fill: #FFFFFF;\n",
              "    }\n",
              "  </style>\n",
              "\n",
              "      <script>\n",
              "        const buttonEl =\n",
              "          document.querySelector('#df-62cbba23-a9c9-48b2-91d5-0bdc3d0ceb87 button.colab-df-convert');\n",
              "        buttonEl.style.display =\n",
              "          google.colab.kernel.accessAllowed ? 'block' : 'none';\n",
              "\n",
              "        async function convertToInteractive(key) {\n",
              "          const element = document.querySelector('#df-62cbba23-a9c9-48b2-91d5-0bdc3d0ceb87');\n",
              "          const dataTable =\n",
              "            await google.colab.kernel.invokeFunction('convertToInteractive',\n",
              "                                                     [key], {});\n",
              "          if (!dataTable) return;\n",
              "\n",
              "          const docLinkHtml = 'Like what you see? Visit the ' +\n",
              "            '<a target=\"_blank\" href=https://colab.research.google.com/notebooks/data_table.ipynb>data table notebook</a>'\n",
              "            + ' to learn more about interactive tables.';\n",
              "          element.innerHTML = '';\n",
              "          dataTable['output_type'] = 'display_data';\n",
              "          await google.colab.output.renderOutput(dataTable, element);\n",
              "          const docLink = document.createElement('div');\n",
              "          docLink.innerHTML = docLinkHtml;\n",
              "          element.appendChild(docLink);\n",
              "        }\n",
              "      </script>\n",
              "    </div>\n",
              "  </div>\n",
              "  "
            ]
          },
          "metadata": {},
          "execution_count": 269
        }
      ]
    },
    {
      "cell_type": "code",
      "source": [
        "topic_model.get_topic(-1)\n"
      ],
      "metadata": {
        "colab": {
          "base_uri": "https://localhost:8080/"
        },
        "id": "dF15uUHzRs0L",
        "outputId": "0d614d0d-660a-4fad-f121-3aff860b4b81"
      },
      "execution_count": 270,
      "outputs": [
        {
          "output_type": "execute_result",
          "data": {
            "text/plain": [
              "[('the', 0.18359783858097226),\n",
              " ('and', 0.11387331181276966),\n",
              " ('to', 0.1075217289581238),\n",
              " ('of', 0.09943128486715969),\n",
              " ('is', 0.07295108758871546),\n",
              " ('this', 0.06752748773674284),\n",
              " ('in', 0.059366218179120765),\n",
              " ('that', 0.05676792773139494),\n",
              " ('it', 0.05143241368487473),\n",
              " ('for', 0.04937980310961914)]"
            ]
          },
          "metadata": {},
          "execution_count": 270
        }
      ]
    },
    {
      "cell_type": "code",
      "source": [
        "topic_model.visualize_term_rank()\n"
      ],
      "metadata": {
        "colab": {
          "base_uri": "https://localhost:8080/",
          "height": 517
        },
        "id": "_aUcc0KsRw0d",
        "outputId": "716d7e90-cca9-48c2-a184-d7eb11c202df"
      },
      "execution_count": 271,
      "outputs": [
        {
          "output_type": "display_data",
          "data": {
            "text/html": [
              "<html>\n",
              "<head><meta charset=\"utf-8\" /></head>\n",
              "<body>\n",
              "    <div>            <script src=\"https://cdnjs.cloudflare.com/ajax/libs/mathjax/2.7.5/MathJax.js?config=TeX-AMS-MML_SVG\"></script><script type=\"text/javascript\">if (window.MathJax && window.MathJax.Hub && window.MathJax.Hub.Config) {window.MathJax.Hub.Config({SVG: {font: \"STIX-Web\"}});}</script>                <script type=\"text/javascript\">window.PlotlyConfig = {MathJaxConfig: 'local'};</script>\n",
              "        <script src=\"https://cdn.plot.ly/plotly-2.18.2.min.js\"></script>                <div id=\"bf9d8a29-5842-4d5c-92ec-1faf4a8e8430\" class=\"plotly-graph-div\" style=\"height:500px; width:800px;\"></div>            <script type=\"text/javascript\">                                    window.PLOTLYENV=window.PLOTLYENV || {};                                    if (document.getElementById(\"bf9d8a29-5842-4d5c-92ec-1faf4a8e8430\")) {                    Plotly.newPlot(                        \"bf9d8a29-5842-4d5c-92ec-1faf4a8e8430\",                        [{\"hovertext\":\"<b>Topic -1</b>:the_and_to_of_is_this_in_that_it_f\",\"line\":{\"color\":\"black\",\"width\":1.5},\"mode\":\"lines+lines\",\"name\":\"\",\"opacity\":0.1,\"x\":[1,2,3,4,5,6,7,8,9,10],\"y\":[0.18359783858097226,0.11387331181276966,0.1075217289581238,0.09943128486715969,0.07295108758871546,0.06752748773674284,0.059366218179120765,0.05676792773139494,0.05143241368487473,0.04937980310961914],\"type\":\"scatter\"}],                        {\"template\":{\"data\":{\"barpolar\":[{\"marker\":{\"line\":{\"color\":\"white\",\"width\":0.5},\"pattern\":{\"fillmode\":\"overlay\",\"size\":10,\"solidity\":0.2}},\"type\":\"barpolar\"}],\"bar\":[{\"error_x\":{\"color\":\"#2a3f5f\"},\"error_y\":{\"color\":\"#2a3f5f\"},\"marker\":{\"line\":{\"color\":\"white\",\"width\":0.5},\"pattern\":{\"fillmode\":\"overlay\",\"size\":10,\"solidity\":0.2}},\"type\":\"bar\"}],\"carpet\":[{\"aaxis\":{\"endlinecolor\":\"#2a3f5f\",\"gridcolor\":\"#C8D4E3\",\"linecolor\":\"#C8D4E3\",\"minorgridcolor\":\"#C8D4E3\",\"startlinecolor\":\"#2a3f5f\"},\"baxis\":{\"endlinecolor\":\"#2a3f5f\",\"gridcolor\":\"#C8D4E3\",\"linecolor\":\"#C8D4E3\",\"minorgridcolor\":\"#C8D4E3\",\"startlinecolor\":\"#2a3f5f\"},\"type\":\"carpet\"}],\"choropleth\":[{\"colorbar\":{\"outlinewidth\":0,\"ticks\":\"\"},\"type\":\"choropleth\"}],\"contourcarpet\":[{\"colorbar\":{\"outlinewidth\":0,\"ticks\":\"\"},\"type\":\"contourcarpet\"}],\"contour\":[{\"colorbar\":{\"outlinewidth\":0,\"ticks\":\"\"},\"colorscale\":[[0.0,\"#0d0887\"],[0.1111111111111111,\"#46039f\"],[0.2222222222222222,\"#7201a8\"],[0.3333333333333333,\"#9c179e\"],[0.4444444444444444,\"#bd3786\"],[0.5555555555555556,\"#d8576b\"],[0.6666666666666666,\"#ed7953\"],[0.7777777777777778,\"#fb9f3a\"],[0.8888888888888888,\"#fdca26\"],[1.0,\"#f0f921\"]],\"type\":\"contour\"}],\"heatmapgl\":[{\"colorbar\":{\"outlinewidth\":0,\"ticks\":\"\"},\"colorscale\":[[0.0,\"#0d0887\"],[0.1111111111111111,\"#46039f\"],[0.2222222222222222,\"#7201a8\"],[0.3333333333333333,\"#9c179e\"],[0.4444444444444444,\"#bd3786\"],[0.5555555555555556,\"#d8576b\"],[0.6666666666666666,\"#ed7953\"],[0.7777777777777778,\"#fb9f3a\"],[0.8888888888888888,\"#fdca26\"],[1.0,\"#f0f921\"]],\"type\":\"heatmapgl\"}],\"heatmap\":[{\"colorbar\":{\"outlinewidth\":0,\"ticks\":\"\"},\"colorscale\":[[0.0,\"#0d0887\"],[0.1111111111111111,\"#46039f\"],[0.2222222222222222,\"#7201a8\"],[0.3333333333333333,\"#9c179e\"],[0.4444444444444444,\"#bd3786\"],[0.5555555555555556,\"#d8576b\"],[0.6666666666666666,\"#ed7953\"],[0.7777777777777778,\"#fb9f3a\"],[0.8888888888888888,\"#fdca26\"],[1.0,\"#f0f921\"]],\"type\":\"heatmap\"}],\"histogram2dcontour\":[{\"colorbar\":{\"outlinewidth\":0,\"ticks\":\"\"},\"colorscale\":[[0.0,\"#0d0887\"],[0.1111111111111111,\"#46039f\"],[0.2222222222222222,\"#7201a8\"],[0.3333333333333333,\"#9c179e\"],[0.4444444444444444,\"#bd3786\"],[0.5555555555555556,\"#d8576b\"],[0.6666666666666666,\"#ed7953\"],[0.7777777777777778,\"#fb9f3a\"],[0.8888888888888888,\"#fdca26\"],[1.0,\"#f0f921\"]],\"type\":\"histogram2dcontour\"}],\"histogram2d\":[{\"colorbar\":{\"outlinewidth\":0,\"ticks\":\"\"},\"colorscale\":[[0.0,\"#0d0887\"],[0.1111111111111111,\"#46039f\"],[0.2222222222222222,\"#7201a8\"],[0.3333333333333333,\"#9c179e\"],[0.4444444444444444,\"#bd3786\"],[0.5555555555555556,\"#d8576b\"],[0.6666666666666666,\"#ed7953\"],[0.7777777777777778,\"#fb9f3a\"],[0.8888888888888888,\"#fdca26\"],[1.0,\"#f0f921\"]],\"type\":\"histogram2d\"}],\"histogram\":[{\"marker\":{\"pattern\":{\"fillmode\":\"overlay\",\"size\":10,\"solidity\":0.2}},\"type\":\"histogram\"}],\"mesh3d\":[{\"colorbar\":{\"outlinewidth\":0,\"ticks\":\"\"},\"type\":\"mesh3d\"}],\"parcoords\":[{\"line\":{\"colorbar\":{\"outlinewidth\":0,\"ticks\":\"\"}},\"type\":\"parcoords\"}],\"pie\":[{\"automargin\":true,\"type\":\"pie\"}],\"scatter3d\":[{\"line\":{\"colorbar\":{\"outlinewidth\":0,\"ticks\":\"\"}},\"marker\":{\"colorbar\":{\"outlinewidth\":0,\"ticks\":\"\"}},\"type\":\"scatter3d\"}],\"scattercarpet\":[{\"marker\":{\"colorbar\":{\"outlinewidth\":0,\"ticks\":\"\"}},\"type\":\"scattercarpet\"}],\"scattergeo\":[{\"marker\":{\"colorbar\":{\"outlinewidth\":0,\"ticks\":\"\"}},\"type\":\"scattergeo\"}],\"scattergl\":[{\"marker\":{\"colorbar\":{\"outlinewidth\":0,\"ticks\":\"\"}},\"type\":\"scattergl\"}],\"scattermapbox\":[{\"marker\":{\"colorbar\":{\"outlinewidth\":0,\"ticks\":\"\"}},\"type\":\"scattermapbox\"}],\"scatterpolargl\":[{\"marker\":{\"colorbar\":{\"outlinewidth\":0,\"ticks\":\"\"}},\"type\":\"scatterpolargl\"}],\"scatterpolar\":[{\"marker\":{\"colorbar\":{\"outlinewidth\":0,\"ticks\":\"\"}},\"type\":\"scatterpolar\"}],\"scatter\":[{\"fillpattern\":{\"fillmode\":\"overlay\",\"size\":10,\"solidity\":0.2},\"type\":\"scatter\"}],\"scatterternary\":[{\"marker\":{\"colorbar\":{\"outlinewidth\":0,\"ticks\":\"\"}},\"type\":\"scatterternary\"}],\"surface\":[{\"colorbar\":{\"outlinewidth\":0,\"ticks\":\"\"},\"colorscale\":[[0.0,\"#0d0887\"],[0.1111111111111111,\"#46039f\"],[0.2222222222222222,\"#7201a8\"],[0.3333333333333333,\"#9c179e\"],[0.4444444444444444,\"#bd3786\"],[0.5555555555555556,\"#d8576b\"],[0.6666666666666666,\"#ed7953\"],[0.7777777777777778,\"#fb9f3a\"],[0.8888888888888888,\"#fdca26\"],[1.0,\"#f0f921\"]],\"type\":\"surface\"}],\"table\":[{\"cells\":{\"fill\":{\"color\":\"#EBF0F8\"},\"line\":{\"color\":\"white\"}},\"header\":{\"fill\":{\"color\":\"#C8D4E3\"},\"line\":{\"color\":\"white\"}},\"type\":\"table\"}]},\"layout\":{\"annotationdefaults\":{\"arrowcolor\":\"#2a3f5f\",\"arrowhead\":0,\"arrowwidth\":1},\"autotypenumbers\":\"strict\",\"coloraxis\":{\"colorbar\":{\"outlinewidth\":0,\"ticks\":\"\"}},\"colorscale\":{\"diverging\":[[0,\"#8e0152\"],[0.1,\"#c51b7d\"],[0.2,\"#de77ae\"],[0.3,\"#f1b6da\"],[0.4,\"#fde0ef\"],[0.5,\"#f7f7f7\"],[0.6,\"#e6f5d0\"],[0.7,\"#b8e186\"],[0.8,\"#7fbc41\"],[0.9,\"#4d9221\"],[1,\"#276419\"]],\"sequential\":[[0.0,\"#0d0887\"],[0.1111111111111111,\"#46039f\"],[0.2222222222222222,\"#7201a8\"],[0.3333333333333333,\"#9c179e\"],[0.4444444444444444,\"#bd3786\"],[0.5555555555555556,\"#d8576b\"],[0.6666666666666666,\"#ed7953\"],[0.7777777777777778,\"#fb9f3a\"],[0.8888888888888888,\"#fdca26\"],[1.0,\"#f0f921\"]],\"sequentialminus\":[[0.0,\"#0d0887\"],[0.1111111111111111,\"#46039f\"],[0.2222222222222222,\"#7201a8\"],[0.3333333333333333,\"#9c179e\"],[0.4444444444444444,\"#bd3786\"],[0.5555555555555556,\"#d8576b\"],[0.6666666666666666,\"#ed7953\"],[0.7777777777777778,\"#fb9f3a\"],[0.8888888888888888,\"#fdca26\"],[1.0,\"#f0f921\"]]},\"colorway\":[\"#636efa\",\"#EF553B\",\"#00cc96\",\"#ab63fa\",\"#FFA15A\",\"#19d3f3\",\"#FF6692\",\"#B6E880\",\"#FF97FF\",\"#FECB52\"],\"font\":{\"color\":\"#2a3f5f\"},\"geo\":{\"bgcolor\":\"white\",\"lakecolor\":\"white\",\"landcolor\":\"white\",\"showlakes\":true,\"showland\":true,\"subunitcolor\":\"#C8D4E3\"},\"hoverlabel\":{\"align\":\"left\"},\"hovermode\":\"closest\",\"mapbox\":{\"style\":\"light\"},\"paper_bgcolor\":\"white\",\"plot_bgcolor\":\"white\",\"polar\":{\"angularaxis\":{\"gridcolor\":\"#EBF0F8\",\"linecolor\":\"#EBF0F8\",\"ticks\":\"\"},\"bgcolor\":\"white\",\"radialaxis\":{\"gridcolor\":\"#EBF0F8\",\"linecolor\":\"#EBF0F8\",\"ticks\":\"\"}},\"scene\":{\"xaxis\":{\"backgroundcolor\":\"white\",\"gridcolor\":\"#DFE8F3\",\"gridwidth\":2,\"linecolor\":\"#EBF0F8\",\"showbackground\":true,\"ticks\":\"\",\"zerolinecolor\":\"#EBF0F8\"},\"yaxis\":{\"backgroundcolor\":\"white\",\"gridcolor\":\"#DFE8F3\",\"gridwidth\":2,\"linecolor\":\"#EBF0F8\",\"showbackground\":true,\"ticks\":\"\",\"zerolinecolor\":\"#EBF0F8\"},\"zaxis\":{\"backgroundcolor\":\"white\",\"gridcolor\":\"#DFE8F3\",\"gridwidth\":2,\"linecolor\":\"#EBF0F8\",\"showbackground\":true,\"ticks\":\"\",\"zerolinecolor\":\"#EBF0F8\"}},\"shapedefaults\":{\"line\":{\"color\":\"#2a3f5f\"}},\"ternary\":{\"aaxis\":{\"gridcolor\":\"#DFE8F3\",\"linecolor\":\"#A2B1C6\",\"ticks\":\"\"},\"baxis\":{\"gridcolor\":\"#DFE8F3\",\"linecolor\":\"#A2B1C6\",\"ticks\":\"\"},\"bgcolor\":\"white\",\"caxis\":{\"gridcolor\":\"#DFE8F3\",\"linecolor\":\"#A2B1C6\",\"ticks\":\"\"}},\"title\":{\"x\":0.05},\"xaxis\":{\"automargin\":true,\"gridcolor\":\"#EBF0F8\",\"linecolor\":\"#EBF0F8\",\"ticks\":\"\",\"title\":{\"standoff\":15},\"zerolinecolor\":\"#EBF0F8\",\"zerolinewidth\":2},\"yaxis\":{\"automargin\":true,\"gridcolor\":\"#EBF0F8\",\"linecolor\":\"#EBF0F8\",\"ticks\":\"\",\"title\":{\"standoff\":15},\"zerolinecolor\":\"#EBF0F8\",\"zerolinewidth\":2}}},\"xaxis\":{\"range\":[0,10],\"tick0\":1,\"dtick\":2,\"title\":{\"text\":\"Term Rank\"}},\"title\":{\"font\":{\"size\":22,\"color\":\"Black\"},\"text\":\"<b>Term score decline per Topic</b>\",\"y\":0.9,\"x\":0.5,\"xanchor\":\"center\",\"yanchor\":\"top\"},\"hoverlabel\":{\"font\":{\"size\":16,\"family\":\"Rockwell\"},\"bgcolor\":\"white\"},\"showlegend\":false,\"width\":800,\"height\":500,\"yaxis\":{\"title\":{\"text\":\"c-TF-IDF score\"}}},                        {\"responsive\": true}                    ).then(function(){\n",
              "                            \n",
              "var gd = document.getElementById('bf9d8a29-5842-4d5c-92ec-1faf4a8e8430');\n",
              "var x = new MutationObserver(function (mutations, observer) {{\n",
              "        var display = window.getComputedStyle(gd).display;\n",
              "        if (!display || display === 'none') {{\n",
              "            console.log([gd, 'removed!']);\n",
              "            Plotly.purge(gd);\n",
              "            observer.disconnect();\n",
              "        }}\n",
              "}});\n",
              "\n",
              "// Listen for the removal of the full notebook cells\n",
              "var notebookContainer = gd.closest('#notebook-container');\n",
              "if (notebookContainer) {{\n",
              "    x.observe(notebookContainer, {childList: true});\n",
              "}}\n",
              "\n",
              "// Listen for the clearing of the current output cell\n",
              "var outputEl = gd.closest('.output');\n",
              "if (outputEl) {{\n",
              "    x.observe(outputEl, {childList: true});\n",
              "}}\n",
              "\n",
              "                        })                };                            </script>        </div>\n",
              "</body>\n",
              "</html>"
            ]
          },
          "metadata": {}
        }
      ]
    },
    {
      "cell_type": "code",
      "source": [
        "topic_model.update_topics(df.reviews.tolist(), n_gram_range=(1, 2))\n",
        "topic_model.visualize_term_rank()"
      ],
      "metadata": {
        "colab": {
          "base_uri": "https://localhost:8080/",
          "height": 517
        },
        "id": "KTGlA1ITR2Sn",
        "outputId": "e1a85370-aad6-4adf-e24f-5799da68eac3"
      },
      "execution_count": 272,
      "outputs": [
        {
          "output_type": "display_data",
          "data": {
            "text/html": [
              "<html>\n",
              "<head><meta charset=\"utf-8\" /></head>\n",
              "<body>\n",
              "    <div>            <script src=\"https://cdnjs.cloudflare.com/ajax/libs/mathjax/2.7.5/MathJax.js?config=TeX-AMS-MML_SVG\"></script><script type=\"text/javascript\">if (window.MathJax && window.MathJax.Hub && window.MathJax.Hub.Config) {window.MathJax.Hub.Config({SVG: {font: \"STIX-Web\"}});}</script>                <script type=\"text/javascript\">window.PlotlyConfig = {MathJaxConfig: 'local'};</script>\n",
              "        <script src=\"https://cdn.plot.ly/plotly-2.18.2.min.js\"></script>                <div id=\"b501ac79-f424-4e70-9262-4768826431f1\" class=\"plotly-graph-div\" style=\"height:500px; width:800px;\"></div>            <script type=\"text/javascript\">                                    window.PLOTLYENV=window.PLOTLYENV || {};                                    if (document.getElementById(\"b501ac79-f424-4e70-9262-4768826431f1\")) {                    Plotly.newPlot(                        \"b501ac79-f424-4e70-9262-4768826431f1\",                        [{\"hovertext\":\"<b>Topic -1</b>:the_and_to_of_is_this_in_that_it_f\",\"line\":{\"color\":\"black\",\"width\":1.5},\"mode\":\"lines+lines\",\"name\":\"\",\"opacity\":0.1,\"x\":[1,2,3,4,5,6,7,8,9,10],\"y\":[0.1136404230575649,0.06814378328657439,0.06412953680477972,0.05904824768924358,0.04267233442231723,0.03936790541989949,0.03442862115079693,0.03286464805032487,0.029666344681036762,0.028440777516908704],\"type\":\"scatter\"}],                        {\"template\":{\"data\":{\"barpolar\":[{\"marker\":{\"line\":{\"color\":\"white\",\"width\":0.5},\"pattern\":{\"fillmode\":\"overlay\",\"size\":10,\"solidity\":0.2}},\"type\":\"barpolar\"}],\"bar\":[{\"error_x\":{\"color\":\"#2a3f5f\"},\"error_y\":{\"color\":\"#2a3f5f\"},\"marker\":{\"line\":{\"color\":\"white\",\"width\":0.5},\"pattern\":{\"fillmode\":\"overlay\",\"size\":10,\"solidity\":0.2}},\"type\":\"bar\"}],\"carpet\":[{\"aaxis\":{\"endlinecolor\":\"#2a3f5f\",\"gridcolor\":\"#C8D4E3\",\"linecolor\":\"#C8D4E3\",\"minorgridcolor\":\"#C8D4E3\",\"startlinecolor\":\"#2a3f5f\"},\"baxis\":{\"endlinecolor\":\"#2a3f5f\",\"gridcolor\":\"#C8D4E3\",\"linecolor\":\"#C8D4E3\",\"minorgridcolor\":\"#C8D4E3\",\"startlinecolor\":\"#2a3f5f\"},\"type\":\"carpet\"}],\"choropleth\":[{\"colorbar\":{\"outlinewidth\":0,\"ticks\":\"\"},\"type\":\"choropleth\"}],\"contourcarpet\":[{\"colorbar\":{\"outlinewidth\":0,\"ticks\":\"\"},\"type\":\"contourcarpet\"}],\"contour\":[{\"colorbar\":{\"outlinewidth\":0,\"ticks\":\"\"},\"colorscale\":[[0.0,\"#0d0887\"],[0.1111111111111111,\"#46039f\"],[0.2222222222222222,\"#7201a8\"],[0.3333333333333333,\"#9c179e\"],[0.4444444444444444,\"#bd3786\"],[0.5555555555555556,\"#d8576b\"],[0.6666666666666666,\"#ed7953\"],[0.7777777777777778,\"#fb9f3a\"],[0.8888888888888888,\"#fdca26\"],[1.0,\"#f0f921\"]],\"type\":\"contour\"}],\"heatmapgl\":[{\"colorbar\":{\"outlinewidth\":0,\"ticks\":\"\"},\"colorscale\":[[0.0,\"#0d0887\"],[0.1111111111111111,\"#46039f\"],[0.2222222222222222,\"#7201a8\"],[0.3333333333333333,\"#9c179e\"],[0.4444444444444444,\"#bd3786\"],[0.5555555555555556,\"#d8576b\"],[0.6666666666666666,\"#ed7953\"],[0.7777777777777778,\"#fb9f3a\"],[0.8888888888888888,\"#fdca26\"],[1.0,\"#f0f921\"]],\"type\":\"heatmapgl\"}],\"heatmap\":[{\"colorbar\":{\"outlinewidth\":0,\"ticks\":\"\"},\"colorscale\":[[0.0,\"#0d0887\"],[0.1111111111111111,\"#46039f\"],[0.2222222222222222,\"#7201a8\"],[0.3333333333333333,\"#9c179e\"],[0.4444444444444444,\"#bd3786\"],[0.5555555555555556,\"#d8576b\"],[0.6666666666666666,\"#ed7953\"],[0.7777777777777778,\"#fb9f3a\"],[0.8888888888888888,\"#fdca26\"],[1.0,\"#f0f921\"]],\"type\":\"heatmap\"}],\"histogram2dcontour\":[{\"colorbar\":{\"outlinewidth\":0,\"ticks\":\"\"},\"colorscale\":[[0.0,\"#0d0887\"],[0.1111111111111111,\"#46039f\"],[0.2222222222222222,\"#7201a8\"],[0.3333333333333333,\"#9c179e\"],[0.4444444444444444,\"#bd3786\"],[0.5555555555555556,\"#d8576b\"],[0.6666666666666666,\"#ed7953\"],[0.7777777777777778,\"#fb9f3a\"],[0.8888888888888888,\"#fdca26\"],[1.0,\"#f0f921\"]],\"type\":\"histogram2dcontour\"}],\"histogram2d\":[{\"colorbar\":{\"outlinewidth\":0,\"ticks\":\"\"},\"colorscale\":[[0.0,\"#0d0887\"],[0.1111111111111111,\"#46039f\"],[0.2222222222222222,\"#7201a8\"],[0.3333333333333333,\"#9c179e\"],[0.4444444444444444,\"#bd3786\"],[0.5555555555555556,\"#d8576b\"],[0.6666666666666666,\"#ed7953\"],[0.7777777777777778,\"#fb9f3a\"],[0.8888888888888888,\"#fdca26\"],[1.0,\"#f0f921\"]],\"type\":\"histogram2d\"}],\"histogram\":[{\"marker\":{\"pattern\":{\"fillmode\":\"overlay\",\"size\":10,\"solidity\":0.2}},\"type\":\"histogram\"}],\"mesh3d\":[{\"colorbar\":{\"outlinewidth\":0,\"ticks\":\"\"},\"type\":\"mesh3d\"}],\"parcoords\":[{\"line\":{\"colorbar\":{\"outlinewidth\":0,\"ticks\":\"\"}},\"type\":\"parcoords\"}],\"pie\":[{\"automargin\":true,\"type\":\"pie\"}],\"scatter3d\":[{\"line\":{\"colorbar\":{\"outlinewidth\":0,\"ticks\":\"\"}},\"marker\":{\"colorbar\":{\"outlinewidth\":0,\"ticks\":\"\"}},\"type\":\"scatter3d\"}],\"scattercarpet\":[{\"marker\":{\"colorbar\":{\"outlinewidth\":0,\"ticks\":\"\"}},\"type\":\"scattercarpet\"}],\"scattergeo\":[{\"marker\":{\"colorbar\":{\"outlinewidth\":0,\"ticks\":\"\"}},\"type\":\"scattergeo\"}],\"scattergl\":[{\"marker\":{\"colorbar\":{\"outlinewidth\":0,\"ticks\":\"\"}},\"type\":\"scattergl\"}],\"scattermapbox\":[{\"marker\":{\"colorbar\":{\"outlinewidth\":0,\"ticks\":\"\"}},\"type\":\"scattermapbox\"}],\"scatterpolargl\":[{\"marker\":{\"colorbar\":{\"outlinewidth\":0,\"ticks\":\"\"}},\"type\":\"scatterpolargl\"}],\"scatterpolar\":[{\"marker\":{\"colorbar\":{\"outlinewidth\":0,\"ticks\":\"\"}},\"type\":\"scatterpolar\"}],\"scatter\":[{\"fillpattern\":{\"fillmode\":\"overlay\",\"size\":10,\"solidity\":0.2},\"type\":\"scatter\"}],\"scatterternary\":[{\"marker\":{\"colorbar\":{\"outlinewidth\":0,\"ticks\":\"\"}},\"type\":\"scatterternary\"}],\"surface\":[{\"colorbar\":{\"outlinewidth\":0,\"ticks\":\"\"},\"colorscale\":[[0.0,\"#0d0887\"],[0.1111111111111111,\"#46039f\"],[0.2222222222222222,\"#7201a8\"],[0.3333333333333333,\"#9c179e\"],[0.4444444444444444,\"#bd3786\"],[0.5555555555555556,\"#d8576b\"],[0.6666666666666666,\"#ed7953\"],[0.7777777777777778,\"#fb9f3a\"],[0.8888888888888888,\"#fdca26\"],[1.0,\"#f0f921\"]],\"type\":\"surface\"}],\"table\":[{\"cells\":{\"fill\":{\"color\":\"#EBF0F8\"},\"line\":{\"color\":\"white\"}},\"header\":{\"fill\":{\"color\":\"#C8D4E3\"},\"line\":{\"color\":\"white\"}},\"type\":\"table\"}]},\"layout\":{\"annotationdefaults\":{\"arrowcolor\":\"#2a3f5f\",\"arrowhead\":0,\"arrowwidth\":1},\"autotypenumbers\":\"strict\",\"coloraxis\":{\"colorbar\":{\"outlinewidth\":0,\"ticks\":\"\"}},\"colorscale\":{\"diverging\":[[0,\"#8e0152\"],[0.1,\"#c51b7d\"],[0.2,\"#de77ae\"],[0.3,\"#f1b6da\"],[0.4,\"#fde0ef\"],[0.5,\"#f7f7f7\"],[0.6,\"#e6f5d0\"],[0.7,\"#b8e186\"],[0.8,\"#7fbc41\"],[0.9,\"#4d9221\"],[1,\"#276419\"]],\"sequential\":[[0.0,\"#0d0887\"],[0.1111111111111111,\"#46039f\"],[0.2222222222222222,\"#7201a8\"],[0.3333333333333333,\"#9c179e\"],[0.4444444444444444,\"#bd3786\"],[0.5555555555555556,\"#d8576b\"],[0.6666666666666666,\"#ed7953\"],[0.7777777777777778,\"#fb9f3a\"],[0.8888888888888888,\"#fdca26\"],[1.0,\"#f0f921\"]],\"sequentialminus\":[[0.0,\"#0d0887\"],[0.1111111111111111,\"#46039f\"],[0.2222222222222222,\"#7201a8\"],[0.3333333333333333,\"#9c179e\"],[0.4444444444444444,\"#bd3786\"],[0.5555555555555556,\"#d8576b\"],[0.6666666666666666,\"#ed7953\"],[0.7777777777777778,\"#fb9f3a\"],[0.8888888888888888,\"#fdca26\"],[1.0,\"#f0f921\"]]},\"colorway\":[\"#636efa\",\"#EF553B\",\"#00cc96\",\"#ab63fa\",\"#FFA15A\",\"#19d3f3\",\"#FF6692\",\"#B6E880\",\"#FF97FF\",\"#FECB52\"],\"font\":{\"color\":\"#2a3f5f\"},\"geo\":{\"bgcolor\":\"white\",\"lakecolor\":\"white\",\"landcolor\":\"white\",\"showlakes\":true,\"showland\":true,\"subunitcolor\":\"#C8D4E3\"},\"hoverlabel\":{\"align\":\"left\"},\"hovermode\":\"closest\",\"mapbox\":{\"style\":\"light\"},\"paper_bgcolor\":\"white\",\"plot_bgcolor\":\"white\",\"polar\":{\"angularaxis\":{\"gridcolor\":\"#EBF0F8\",\"linecolor\":\"#EBF0F8\",\"ticks\":\"\"},\"bgcolor\":\"white\",\"radialaxis\":{\"gridcolor\":\"#EBF0F8\",\"linecolor\":\"#EBF0F8\",\"ticks\":\"\"}},\"scene\":{\"xaxis\":{\"backgroundcolor\":\"white\",\"gridcolor\":\"#DFE8F3\",\"gridwidth\":2,\"linecolor\":\"#EBF0F8\",\"showbackground\":true,\"ticks\":\"\",\"zerolinecolor\":\"#EBF0F8\"},\"yaxis\":{\"backgroundcolor\":\"white\",\"gridcolor\":\"#DFE8F3\",\"gridwidth\":2,\"linecolor\":\"#EBF0F8\",\"showbackground\":true,\"ticks\":\"\",\"zerolinecolor\":\"#EBF0F8\"},\"zaxis\":{\"backgroundcolor\":\"white\",\"gridcolor\":\"#DFE8F3\",\"gridwidth\":2,\"linecolor\":\"#EBF0F8\",\"showbackground\":true,\"ticks\":\"\",\"zerolinecolor\":\"#EBF0F8\"}},\"shapedefaults\":{\"line\":{\"color\":\"#2a3f5f\"}},\"ternary\":{\"aaxis\":{\"gridcolor\":\"#DFE8F3\",\"linecolor\":\"#A2B1C6\",\"ticks\":\"\"},\"baxis\":{\"gridcolor\":\"#DFE8F3\",\"linecolor\":\"#A2B1C6\",\"ticks\":\"\"},\"bgcolor\":\"white\",\"caxis\":{\"gridcolor\":\"#DFE8F3\",\"linecolor\":\"#A2B1C6\",\"ticks\":\"\"}},\"title\":{\"x\":0.05},\"xaxis\":{\"automargin\":true,\"gridcolor\":\"#EBF0F8\",\"linecolor\":\"#EBF0F8\",\"ticks\":\"\",\"title\":{\"standoff\":15},\"zerolinecolor\":\"#EBF0F8\",\"zerolinewidth\":2},\"yaxis\":{\"automargin\":true,\"gridcolor\":\"#EBF0F8\",\"linecolor\":\"#EBF0F8\",\"ticks\":\"\",\"title\":{\"standoff\":15},\"zerolinecolor\":\"#EBF0F8\",\"zerolinewidth\":2}}},\"xaxis\":{\"range\":[0,10],\"tick0\":1,\"dtick\":2,\"title\":{\"text\":\"Term Rank\"}},\"title\":{\"font\":{\"size\":22,\"color\":\"Black\"},\"text\":\"<b>Term score decline per Topic</b>\",\"y\":0.9,\"x\":0.5,\"xanchor\":\"center\",\"yanchor\":\"top\"},\"hoverlabel\":{\"font\":{\"size\":16,\"family\":\"Rockwell\"},\"bgcolor\":\"white\"},\"showlegend\":false,\"width\":800,\"height\":500,\"yaxis\":{\"title\":{\"text\":\"c-TF-IDF score\"}}},                        {\"responsive\": true}                    ).then(function(){\n",
              "                            \n",
              "var gd = document.getElementById('b501ac79-f424-4e70-9262-4768826431f1');\n",
              "var x = new MutationObserver(function (mutations, observer) {{\n",
              "        var display = window.getComputedStyle(gd).display;\n",
              "        if (!display || display === 'none') {{\n",
              "            console.log([gd, 'removed!']);\n",
              "            Plotly.purge(gd);\n",
              "            observer.disconnect();\n",
              "        }}\n",
              "}});\n",
              "\n",
              "// Listen for the removal of the full notebook cells\n",
              "var notebookContainer = gd.closest('#notebook-container');\n",
              "if (notebookContainer) {{\n",
              "    x.observe(notebookContainer, {childList: true});\n",
              "}}\n",
              "\n",
              "// Listen for the clearing of the current output cell\n",
              "var outputEl = gd.closest('.output');\n",
              "if (outputEl) {{\n",
              "    x.observe(outputEl, {childList: true});\n",
              "}}\n",
              "\n",
              "                        })                };                            </script>        </div>\n",
              "</body>\n",
              "</html>"
            ]
          },
          "metadata": {}
        }
      ]
    },
    {
      "cell_type": "markdown",
      "metadata": {
        "id": "T7_ALLimXbZJ"
      },
      "source": [
        "## (5) (10 extra points) Compare the results generated by the four topic modeling algorithms, which one is better? You should explain the reasons in details."
      ]
    },
    {
      "cell_type": "code",
      "execution_count": 273,
      "metadata": {
        "colab": {
          "base_uri": "https://localhost:8080/",
          "height": 105
        },
        "id": "Du33J3unXbZJ",
        "outputId": "bac4dc63-594e-41b6-f2d6-c8a8c4ed5ef7"
      },
      "outputs": [
        {
          "output_type": "execute_result",
          "data": {
            "text/plain": [
              "'\\nThe results of the modelling algorithms are compared \\n\\nLSA: latent semantic analysis, This uses matrix decomposition to model subjects, which are then defined by loadings upon terms (dimensional reduction).\\nIts loadings can have negative values that are more difficult to understand. The two primary inputs are corpus and dictionary.\\n\\nLDA: Latent Dirichlet allocation, The words mentioned in the text are probably related to other terms from the same documents because of latent Dirichlet allocation.\\nThe key feature is that it can handle complex words with effortlessly.The product reviews for first and last place are quite similar for all three.\\nLDA offers better outcomes than LDA and BERT because it has the capacity to dissect the original matrix document to use an information extraction strategy while keeping crucial subjects.\\n'"
            ],
            "application/vnd.google.colaboratory.intrinsic+json": {
              "type": "string"
            }
          },
          "metadata": {},
          "execution_count": 273
        }
      ],
      "source": [
        "# Write your answer here (no code needed for this question)\n",
        "\n",
        "'''\n",
        "The results of the modelling algorithms are compared \n",
        "\n",
        "LSA: latent semantic analysis, This uses matrix decomposition to model subjects, which are then defined by loadings upon terms (dimensional reduction).\n",
        "Its loadings can have negative values that are more difficult to understand. The two primary inputs are corpus and dictionary.\n",
        "\n",
        "LDA: Latent Dirichlet allocation, The words mentioned in the text are probably related to other terms from the same documents because of latent Dirichlet allocation.\n",
        "The key feature is that it can handle complex words with effortlessly.The product reviews for first and last place are quite similar for all three.\n",
        "LDA offers better outcomes than LDA and BERT because it has the capacity to dissect the original matrix document to use an information extraction strategy while keeping crucial subjects.\n",
        "'''"
      ]
    },
    {
      "cell_type": "code",
      "source": [],
      "metadata": {
        "id": "_oT4LhDfbltr"
      },
      "execution_count": null,
      "outputs": []
    }
  ],
  "metadata": {
    "kernelspec": {
      "display_name": "Python 3 (ipykernel)",
      "language": "python",
      "name": "python3"
    },
    "language_info": {
      "codemirror_mode": {
        "name": "ipython",
        "version": 3
      },
      "file_extension": ".py",
      "mimetype": "text/x-python",
      "name": "python",
      "nbconvert_exporter": "python",
      "pygments_lexer": "ipython3",
      "version": "3.9.13"
    },
    "colab": {
      "provenance": [],
      "include_colab_link": true
    },
    "widgets": {
      "application/vnd.jupyter.widget-state+json": {
        "2716858f39104ba681b988b43fa5b42f": {
          "model_module": "@jupyter-widgets/controls",
          "model_name": "HBoxModel",
          "model_module_version": "1.5.0",
          "state": {
            "_dom_classes": [],
            "_model_module": "@jupyter-widgets/controls",
            "_model_module_version": "1.5.0",
            "_model_name": "HBoxModel",
            "_view_count": null,
            "_view_module": "@jupyter-widgets/controls",
            "_view_module_version": "1.5.0",
            "_view_name": "HBoxView",
            "box_style": "",
            "children": [
              "IPY_MODEL_a3b5d055ba3d4b6db7924477c3d1df96",
              "IPY_MODEL_b698331e18f94cf29d943e4642dcdfea",
              "IPY_MODEL_9042ce1d124d4a36aab3f0cbe4324ab4"
            ],
            "layout": "IPY_MODEL_41e5936decc24a44a5efd15b6caf3894"
          }
        },
        "a3b5d055ba3d4b6db7924477c3d1df96": {
          "model_module": "@jupyter-widgets/controls",
          "model_name": "HTMLModel",
          "model_module_version": "1.5.0",
          "state": {
            "_dom_classes": [],
            "_model_module": "@jupyter-widgets/controls",
            "_model_module_version": "1.5.0",
            "_model_name": "HTMLModel",
            "_view_count": null,
            "_view_module": "@jupyter-widgets/controls",
            "_view_module_version": "1.5.0",
            "_view_name": "HTMLView",
            "description": "",
            "description_tooltip": null,
            "layout": "IPY_MODEL_a7b1d2ae76a7477292963180e6da7fb5",
            "placeholder": "​",
            "style": "IPY_MODEL_d068cd61a2924fbdb58f150e6a386ac1",
            "value": "Batches: 100%"
          }
        },
        "b698331e18f94cf29d943e4642dcdfea": {
          "model_module": "@jupyter-widgets/controls",
          "model_name": "FloatProgressModel",
          "model_module_version": "1.5.0",
          "state": {
            "_dom_classes": [],
            "_model_module": "@jupyter-widgets/controls",
            "_model_module_version": "1.5.0",
            "_model_name": "FloatProgressModel",
            "_view_count": null,
            "_view_module": "@jupyter-widgets/controls",
            "_view_module_version": "1.5.0",
            "_view_name": "ProgressView",
            "bar_style": "success",
            "description": "",
            "description_tooltip": null,
            "layout": "IPY_MODEL_804dd50f812e468e8b03205f9785536e",
            "max": 1,
            "min": 0,
            "orientation": "horizontal",
            "style": "IPY_MODEL_810e23dfd2c9430cb4580af41695863f",
            "value": 1
          }
        },
        "9042ce1d124d4a36aab3f0cbe4324ab4": {
          "model_module": "@jupyter-widgets/controls",
          "model_name": "HTMLModel",
          "model_module_version": "1.5.0",
          "state": {
            "_dom_classes": [],
            "_model_module": "@jupyter-widgets/controls",
            "_model_module_version": "1.5.0",
            "_model_name": "HTMLModel",
            "_view_count": null,
            "_view_module": "@jupyter-widgets/controls",
            "_view_module_version": "1.5.0",
            "_view_name": "HTMLView",
            "description": "",
            "description_tooltip": null,
            "layout": "IPY_MODEL_36d4cddb49404396a082d1484a85f45c",
            "placeholder": "​",
            "style": "IPY_MODEL_6111041a12b744c9898d32f30b0b78ff",
            "value": " 1/1 [00:22&lt;00:00, 22.44s/it]"
          }
        },
        "41e5936decc24a44a5efd15b6caf3894": {
          "model_module": "@jupyter-widgets/base",
          "model_name": "LayoutModel",
          "model_module_version": "1.2.0",
          "state": {
            "_model_module": "@jupyter-widgets/base",
            "_model_module_version": "1.2.0",
            "_model_name": "LayoutModel",
            "_view_count": null,
            "_view_module": "@jupyter-widgets/base",
            "_view_module_version": "1.2.0",
            "_view_name": "LayoutView",
            "align_content": null,
            "align_items": null,
            "align_self": null,
            "border": null,
            "bottom": null,
            "display": null,
            "flex": null,
            "flex_flow": null,
            "grid_area": null,
            "grid_auto_columns": null,
            "grid_auto_flow": null,
            "grid_auto_rows": null,
            "grid_column": null,
            "grid_gap": null,
            "grid_row": null,
            "grid_template_areas": null,
            "grid_template_columns": null,
            "grid_template_rows": null,
            "height": null,
            "justify_content": null,
            "justify_items": null,
            "left": null,
            "margin": null,
            "max_height": null,
            "max_width": null,
            "min_height": null,
            "min_width": null,
            "object_fit": null,
            "object_position": null,
            "order": null,
            "overflow": null,
            "overflow_x": null,
            "overflow_y": null,
            "padding": null,
            "right": null,
            "top": null,
            "visibility": null,
            "width": null
          }
        },
        "a7b1d2ae76a7477292963180e6da7fb5": {
          "model_module": "@jupyter-widgets/base",
          "model_name": "LayoutModel",
          "model_module_version": "1.2.0",
          "state": {
            "_model_module": "@jupyter-widgets/base",
            "_model_module_version": "1.2.0",
            "_model_name": "LayoutModel",
            "_view_count": null,
            "_view_module": "@jupyter-widgets/base",
            "_view_module_version": "1.2.0",
            "_view_name": "LayoutView",
            "align_content": null,
            "align_items": null,
            "align_self": null,
            "border": null,
            "bottom": null,
            "display": null,
            "flex": null,
            "flex_flow": null,
            "grid_area": null,
            "grid_auto_columns": null,
            "grid_auto_flow": null,
            "grid_auto_rows": null,
            "grid_column": null,
            "grid_gap": null,
            "grid_row": null,
            "grid_template_areas": null,
            "grid_template_columns": null,
            "grid_template_rows": null,
            "height": null,
            "justify_content": null,
            "justify_items": null,
            "left": null,
            "margin": null,
            "max_height": null,
            "max_width": null,
            "min_height": null,
            "min_width": null,
            "object_fit": null,
            "object_position": null,
            "order": null,
            "overflow": null,
            "overflow_x": null,
            "overflow_y": null,
            "padding": null,
            "right": null,
            "top": null,
            "visibility": null,
            "width": null
          }
        },
        "d068cd61a2924fbdb58f150e6a386ac1": {
          "model_module": "@jupyter-widgets/controls",
          "model_name": "DescriptionStyleModel",
          "model_module_version": "1.5.0",
          "state": {
            "_model_module": "@jupyter-widgets/controls",
            "_model_module_version": "1.5.0",
            "_model_name": "DescriptionStyleModel",
            "_view_count": null,
            "_view_module": "@jupyter-widgets/base",
            "_view_module_version": "1.2.0",
            "_view_name": "StyleView",
            "description_width": ""
          }
        },
        "804dd50f812e468e8b03205f9785536e": {
          "model_module": "@jupyter-widgets/base",
          "model_name": "LayoutModel",
          "model_module_version": "1.2.0",
          "state": {
            "_model_module": "@jupyter-widgets/base",
            "_model_module_version": "1.2.0",
            "_model_name": "LayoutModel",
            "_view_count": null,
            "_view_module": "@jupyter-widgets/base",
            "_view_module_version": "1.2.0",
            "_view_name": "LayoutView",
            "align_content": null,
            "align_items": null,
            "align_self": null,
            "border": null,
            "bottom": null,
            "display": null,
            "flex": null,
            "flex_flow": null,
            "grid_area": null,
            "grid_auto_columns": null,
            "grid_auto_flow": null,
            "grid_auto_rows": null,
            "grid_column": null,
            "grid_gap": null,
            "grid_row": null,
            "grid_template_areas": null,
            "grid_template_columns": null,
            "grid_template_rows": null,
            "height": null,
            "justify_content": null,
            "justify_items": null,
            "left": null,
            "margin": null,
            "max_height": null,
            "max_width": null,
            "min_height": null,
            "min_width": null,
            "object_fit": null,
            "object_position": null,
            "order": null,
            "overflow": null,
            "overflow_x": null,
            "overflow_y": null,
            "padding": null,
            "right": null,
            "top": null,
            "visibility": null,
            "width": null
          }
        },
        "810e23dfd2c9430cb4580af41695863f": {
          "model_module": "@jupyter-widgets/controls",
          "model_name": "ProgressStyleModel",
          "model_module_version": "1.5.0",
          "state": {
            "_model_module": "@jupyter-widgets/controls",
            "_model_module_version": "1.5.0",
            "_model_name": "ProgressStyleModel",
            "_view_count": null,
            "_view_module": "@jupyter-widgets/base",
            "_view_module_version": "1.2.0",
            "_view_name": "StyleView",
            "bar_color": null,
            "description_width": ""
          }
        },
        "36d4cddb49404396a082d1484a85f45c": {
          "model_module": "@jupyter-widgets/base",
          "model_name": "LayoutModel",
          "model_module_version": "1.2.0",
          "state": {
            "_model_module": "@jupyter-widgets/base",
            "_model_module_version": "1.2.0",
            "_model_name": "LayoutModel",
            "_view_count": null,
            "_view_module": "@jupyter-widgets/base",
            "_view_module_version": "1.2.0",
            "_view_name": "LayoutView",
            "align_content": null,
            "align_items": null,
            "align_self": null,
            "border": null,
            "bottom": null,
            "display": null,
            "flex": null,
            "flex_flow": null,
            "grid_area": null,
            "grid_auto_columns": null,
            "grid_auto_flow": null,
            "grid_auto_rows": null,
            "grid_column": null,
            "grid_gap": null,
            "grid_row": null,
            "grid_template_areas": null,
            "grid_template_columns": null,
            "grid_template_rows": null,
            "height": null,
            "justify_content": null,
            "justify_items": null,
            "left": null,
            "margin": null,
            "max_height": null,
            "max_width": null,
            "min_height": null,
            "min_width": null,
            "object_fit": null,
            "object_position": null,
            "order": null,
            "overflow": null,
            "overflow_x": null,
            "overflow_y": null,
            "padding": null,
            "right": null,
            "top": null,
            "visibility": null,
            "width": null
          }
        },
        "6111041a12b744c9898d32f30b0b78ff": {
          "model_module": "@jupyter-widgets/controls",
          "model_name": "DescriptionStyleModel",
          "model_module_version": "1.5.0",
          "state": {
            "_model_module": "@jupyter-widgets/controls",
            "_model_module_version": "1.5.0",
            "_model_name": "DescriptionStyleModel",
            "_view_count": null,
            "_view_module": "@jupyter-widgets/base",
            "_view_module_version": "1.2.0",
            "_view_name": "StyleView",
            "description_width": ""
          }
        }
      }
    }
  },
  "nbformat": 4,
  "nbformat_minor": 0
}